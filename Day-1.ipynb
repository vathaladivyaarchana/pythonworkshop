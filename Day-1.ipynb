{
 "cells": [
  {
   "cell_type": "markdown",
   "metadata": {},
   "source": [
    "# Heading\n",
    "\n",
    "# Profile\n",
    "\n",
    "<img src=\"photo.jpg\" width=\"50px\" height=\"50px\">\n",
    "\n",
    "## DONTHU DIVYASREE BHAVANI\n",
    "\n",
    "## Email\n",
    "\n",
    "[email](https://www.gmail.com)\n",
    "\n",
    "\n",
    "\n"
   ]
  },
  {
   "cell_type": "markdown",
   "metadata": {},
   "source": [
    "# History\n",
    "- guido van rossum in the 1980's at centrum Wiskonde &Informatica(CWI) in netherland\n",
    "- 0.9 released in feb 1991\n",
    "- 1.0 released in jan 1994 ---> filters,maps,reduce &lambda\n",
    "- 2.0 released in oct 2000 ---> features include list comprehension & garbage collection\n",
    "- 3.0 released in dec 2008 ---> remove duplicate constructor and modules,not backup compatible\n"
   ]
  },
  {
   "cell_type": "markdown",
   "metadata": {},
   "source": [
    "#  Features \n",
    "- highlevel\n",
    "- interactive\n",
    "- object oriented\n",
    "- free and open source\n",
    "- simple\n",
    "- easy to learn\n",
    "- portable\n",
    "- ropost\n",
    "- extendable\n",
    "- database \n",
    "- interpretated\n",
    "- varsatile\n",
    "- Abroad standared library\n"
   ]
  },
  {
   "cell_type": "markdown",
   "metadata": {},
   "source": [
    "# Need of python\n",
    "- software quality\n",
    "- developer productivity\n",
    "- support libraries\n",
    "- enjoyment\n",
    "- powerful\n",
    "- internet skiping\n",
    "- mixsable \n",
    "- component integration\n",
    "- atomatic memory management\n",
    "- programming in the largest support\n",
    "- image processing,AI(artificial intalligent)\n",
    "- database programming\n",
    "- distributed objects\n"
   ]
  },
  {
   "cell_type": "markdown",
   "metadata": {},
   "source": [
    "# Applications\n",
    "- web applications\n",
    "    - provides libraries to handle internet protocalls such as HTML,XML,E-mail processing\n",
    "    - frame work to design and develop web based application\n",
    "    - GUI(graphical user interface) \n",
    "    - tool kit like kivy(multi touching application),wxwidgets\n",
    "- software development \n",
    "    - used to controlling,managing and testing\n",
    "- scintific and numeric\n",
    "    - scipy(engineering science and mathematics),panda,Ipython\n",
    "- business\n",
    "    - ecomeres(online business)\n",
    "    - amagon,flipcart,club factory\n",
    "- cinsolat base\n",
    "    - Ipython is uesd to create consol based applicatons\n",
    "    - audio,radio applications\n",
    "    - used to develop multi media applicatons\n",
    "- 3-D CAD\n",
    "    - dango is real app which provides full features of CAD\n",
    "- apps for images\n",
    "    - several apps can be developed for images\n",
    "    "
   ]
  },
  {
   "cell_type": "code",
   "execution_count": 8,
   "metadata": {},
   "outputs": [
    {
     "name": "stdout",
     "output_type": "stream",
     "text": [
      "5\n",
      "bhavani\n",
      "10\n",
      "20\n",
      "30\n"
     ]
    }
   ],
   "source": [
    "# variables\n",
    "#variables no need to declate with any particular data type\n",
    "a=5\n",
    "name =\"bhavani\"\n",
    "print(a)\n",
    "print(name)\n",
    "#Assign values to multiple vatiables\n",
    "a=b=c=\"bhavani\"\n",
    "a,b,c=10,20,30\n",
    "print(a)\n",
    "print(b)\n",
    "print(c)\n"
   ]
  },
  {
   "cell_type": "markdown",
   "metadata": {},
   "source": [
    "# Identifiers\n",
    "- combinaton ofa to z or A to Z or 0-9 or underscore\n",
    "- startes with a underscore or letters but not with digits\n",
    "- 1_name ---> invalid\n",
    "- _name ---> valid\n",
    "- _name1--->valid\n",
    "- special symbols not allowed in identifiers"
   ]
  },
  {
   "cell_type": "code",
   "execution_count": 10,
   "metadata": {},
   "outputs": [
    {
     "name": "stdout",
     "output_type": "stream",
     "text": [
      "['False', 'None', 'True', 'and', 'as', 'assert', 'async', 'await', 'break', 'class', 'continue', 'def', 'del', 'elif', 'else', 'except', 'finally', 'for', 'from', 'global', 'if', 'import', 'in', 'is', 'lambda', 'nonlocal', 'not', 'or', 'pass', 'raise', 'return', 'try', 'while', 'with', 'yield']\n",
      "True\n"
     ]
    }
   ],
   "source": [
    "# Keywords\n",
    "# python2 has 32 keywords\n",
    "# python3.5 has 33 keywords,nonlocal\n",
    "# python3.7 has  35 keywords,async and await\n",
    "import keyword\n",
    "print(keyword.kwlist)\n",
    "print(keyword.iskeyword('and'))"
   ]
  },
  {
   "cell_type": "code",
   "execution_count": 16,
   "metadata": {},
   "outputs": [
    {
     "name": "stdout",
     "output_type": "stream",
     "text": [
      "65\n",
      "A\n",
      "0b10\n",
      "2\n",
      "(10+20j)\n"
     ]
    }
   ],
   "source": [
    "#Type covertion\n",
    "print(ord('A'))\n",
    "print(chr(65))\n",
    "print(bin(2))\n",
    "print(int(0b10))\n",
    "print(complex(10,20))"
   ]
  },
  {
   "cell_type": "markdown",
   "metadata": {},
   "source": [
    "# operators\n",
    "\n",
    "## Arithmetic\n",
    "- +, -, *, /, %, **, //\n",
    "\n",
    "## comaparision or relation \n",
    "- ==, !=, <, >, <=, >=\n",
    "\n",
    "## Assignment\n",
    "- =, +=, -=, *=, /=, %=, **=, //=\n",
    "\n",
    "## bitwise\n",
    "- <<(left shift), >>(right shift),&(AND), |(OR), ~(NOT), ^(XOR)\n",
    "\n",
    "## logical\n",
    "- and, or, not\n",
    "\n",
    "## membership\n",
    "- in, not in \n",
    "\n",
    "## identity\n",
    "- is, is not\n"
   ]
  },
  {
   "cell_type": "code",
   "execution_count": 21,
   "metadata": {},
   "outputs": [
    {
     "name": "stdout",
     "output_type": "stream",
     "text": [
      "Enter a value : 20\n",
      "Enter b value : 30\n",
      "Addition of 20 + 30 = 50\n",
      "Addition of 20 + 30 = 50\n",
      "Addition of 20 + 30 = 50\n",
      "Addition of 20 - 30 = -10\n",
      "Addition of 20 * 30 = 600\n",
      "Addition of 20 / 30 = 0.6666666666666666\n",
      "Addition of 20 % 30 = 20\n",
      "Addition of 20 ** 30 = 1073741824000000000000000000000000000000\n",
      "Addition of 20 // 30 = 0\n"
     ]
    }
   ],
   "source": [
    "# arthmetic operator\n",
    "a=int(input(\"Enter a value : \"))\n",
    "b=int(input(\"Enter b value : \"))\n",
    "print(\"Addition of\",a, \"+\",b,\"=\",a+b)#using comma\n",
    "print(\"Addition of {0} + {1} = {2}\".format(a,b,a+b))#using format method\n",
    "print(\"Addition of %d + %d = %d\"%(a,b,a+b))# using formate specifier\n",
    "print(\"Addition of\",a, \"-\",b,\"=\",a-b)\n",
    "print(\"Addition of\",a, \"*\",b,\"=\",a*b)\n",
    "print(\"Addition of\",a, \"/\",b,\"=\",a/b)\n",
    "print(\"Addition of\",a, \"%\",b,\"=\",a%b)\n",
    "print(\"Addition of\",a, \"**\",b,\"=\",a**b)\n",
    "print(\"Addition of\",a, \"//\",b,\"=\",a//b)\n"
   ]
  },
  {
   "cell_type": "code",
   "execution_count": 23,
   "metadata": {},
   "outputs": [
    {
     "name": "stdout",
     "output_type": "stream",
     "text": [
      "equal to --> False\n",
      "not equal to --> True\n",
      "greater than or equal to --> True\n",
      "less than or equal to --> False\n",
      "greater than --> True\n",
      "less than--> False\n"
     ]
    }
   ],
   "source": [
    "#relational operator\n",
    "print(\"equal to -->\",10==5)\n",
    "print(\"not equal to -->\",10!=5)\n",
    "print(\"greater than or equal to -->\",10>=5)\n",
    "print(\"less than or equal to -->\",10<=5)\n",
    "print(\"greater than -->\",10>5)\n",
    "print(\"less than-->\",10<5)"
   ]
  },
  {
   "cell_type": "code",
   "execution_count": 27,
   "metadata": {},
   "outputs": [
    {
     "name": "stdout",
     "output_type": "stream",
     "text": [
      "60\n",
      "100\n",
      "60\n",
      "120\n",
      "40.0\n",
      "0.0\n",
      "0.0\n",
      "0.0\n"
     ]
    }
   ],
   "source": [
    "#assignment operator\n",
    "a=60\n",
    "print(a)\n",
    "a+=40\n",
    "print(a)\n",
    "a-=40\n",
    "print(a)\n",
    "a*=2\n",
    "print(a)\n",
    "a/=3\n",
    "print(a)\n",
    "a%=5\n",
    "print(a)\n",
    "a**=3\n",
    "print(a)\n",
    "a//=5\n",
    "print(a)"
   ]
  },
  {
   "cell_type": "code",
   "execution_count": 34,
   "metadata": {},
   "outputs": [
    {
     "name": "stdout",
     "output_type": "stream",
     "text": [
      "2\n",
      "7\n",
      "5\n",
      "-5\n",
      "2\n",
      "48\n"
     ]
    }
   ],
   "source": [
    "#bitwise operator\n",
    "print(2&2)\n",
    "print(3|7)\n",
    "print(2^7)\n",
    "print(~4)\n",
    "print(8>>2)\n",
    "print(6<<3)"
   ]
  },
  {
   "cell_type": "code",
   "execution_count": 37,
   "metadata": {},
   "outputs": [
    {
     "name": "stdout",
     "output_type": "stream",
     "text": [
      "True\n",
      "False\n",
      "False\n",
      "False\n",
      "True\n",
      "False\n",
      "True\n",
      "True\n",
      "False\n",
      "True\n",
      "False\n",
      "True\n",
      "True\n",
      "True\n",
      "False\n",
      "True\n",
      "False\n",
      "False\n"
     ]
    }
   ],
   "source": [
    "#logical operator \n",
    "#and\n",
    "print(True and True)\n",
    "print(False and False)\n",
    "print(True and False)\n",
    "print(False and True)\n",
    "#or\n",
    "print(True or True)\n",
    "print(False or False)\n",
    "print(True or False)\n",
    "print(False or True)\n",
    "#not \n",
    "print(not True)\n",
    "print(not False)\n",
    "#not with and\n",
    "print(not(True and True))\n",
    "print(not(False and False))\n",
    "print(not(True and False))\n",
    "print(not(False and True))\n",
    "#not with or\n",
    "print(not(True or True))\n",
    "print(not(False or False))\n",
    "print(not(True or False))\n",
    "print(not(False or True))"
   ]
  },
  {
   "cell_type": "code",
   "execution_count": 38,
   "metadata": {},
   "outputs": [
    {
     "name": "stdout",
     "output_type": "stream",
     "text": [
      "True\n",
      "False\n",
      "False\n"
     ]
    }
   ],
   "source": [
    "#membership operator\n",
    "s=\"Welcome to python workshop\"\n",
    "print(\"to\" in s)\n",
    "print(\"too\" in s)\n",
    "print(\"y\" not in s)"
   ]
  },
  {
   "cell_type": "code",
   "execution_count": 39,
   "metadata": {},
   "outputs": [
    {
     "name": "stdout",
     "output_type": "stream",
     "text": [
      "True\n",
      "False\n"
     ]
    }
   ],
   "source": [
    "#Identity operator(variable address cheack)\n",
    "x=\"hello\"\n",
    "y=\"hello\"\n",
    "print(x is y)\n",
    "print(x is not y)"
   ]
  },
  {
   "cell_type": "markdown",
   "metadata": {},
   "source": [
    "# conditional statements\n",
    "- if ,elif,else\n",
    "## syntax\n",
    "- if condition:\n",
    "\n",
    "    *statement*\n",
    "- elif condition:\n",
    "\n",
    "    *statement*\n",
    "- else\n",
    "\n",
    "    *statement*"
   ]
  },
  {
   "cell_type": "code",
   "execution_count": 1,
   "metadata": {},
   "outputs": [
    {
     "name": "stdout",
     "output_type": "stream",
     "text": [
      "Enter a value : 20\n",
      "20 is even number\n"
     ]
    }
   ],
   "source": [
    "a=int(input(\"Enter a value : \"))\n",
    "if a%2==0:\n",
    "    print(a,\"is even number\")\n",
    "else:\n",
    "    print(a,\"is not even number\")"
   ]
  },
  {
   "cell_type": "code",
   "execution_count": 3,
   "metadata": {},
   "outputs": [
    {
     "name": "stdout",
     "output_type": "stream",
     "text": [
      "Enter a value : 35\n",
      "35 is odd number\n"
     ]
    }
   ],
   "source": [
    "a=int(input(\"Enter a value : \"))\n",
    "if a%2!=0:#a%2==1\n",
    "    print(a,\"is odd number\")\n",
    "else:\n",
    "    print(a,\"is not odd number\")"
   ]
  },
  {
   "cell_type": "code",
   "execution_count": 1,
   "metadata": {},
   "outputs": [
    {
     "name": "stdout",
     "output_type": "stream",
     "text": [
      "\n",
      "Welcome to Python 3.8's help utility!\n",
      "\n",
      "If this is your first time using Python, you should definitely check out\n",
      "the tutorial on the Internet at https://docs.python.org/3.8/tutorial/.\n",
      "\n",
      "Enter the name of any module, keyword, or topic to get help on writing\n",
      "Python programs and using Python modules.  To quit this help utility and\n",
      "return to the interpreter, just type \"quit\".\n",
      "\n",
      "To get a list of available modules, keywords, symbols, or topics, type\n",
      "\"modules\", \"keywords\", \"symbols\", or \"topics\".  Each module also comes\n",
      "with a one-line summary of what it does; to list the modules whose name\n",
      "or summary contain a given string such as \"spam\", type \"modules spam\".\n",
      "\n",
      "help> getpass\n",
      "Help on module getpass:\n",
      "\n",
      "NAME\n",
      "    getpass - Utilities to get a password and/or the current user name.\n",
      "\n",
      "MODULE REFERENCE\n",
      "    https://docs.python.org/3.8/library/getpass\n",
      "    \n",
      "    The following documentation is automatically generated from the Python\n",
      "    source files.  It may be incomplete, incorrect or include features that\n",
      "    are considered implementation detail and may vary between Python\n",
      "    implementations.  When in doubt, consult the module reference at the\n",
      "    location listed above.\n",
      "\n",
      "DESCRIPTION\n",
      "    getpass(prompt[, stream]) - Prompt for a password, with echo turned off.\n",
      "    getuser() - Get the user name from the environment or password database.\n",
      "    \n",
      "    GetPassWarning - This UserWarning is issued when getpass() cannot prevent\n",
      "                     echoing of the password contents while reading.\n",
      "    \n",
      "    On Windows, the msvcrt module will be used.\n",
      "\n",
      "CLASSES\n",
      "    builtins.UserWarning(builtins.Warning)\n",
      "        GetPassWarning\n",
      "    \n",
      "    class GetPassWarning(builtins.UserWarning)\n",
      "     |  Base class for warnings generated by user code.\n",
      "     |  \n",
      "     |  Method resolution order:\n",
      "     |      GetPassWarning\n",
      "     |      builtins.UserWarning\n",
      "     |      builtins.Warning\n",
      "     |      builtins.Exception\n",
      "     |      builtins.BaseException\n",
      "     |      builtins.object\n",
      "     |  \n",
      "     |  Data descriptors defined here:\n",
      "     |  \n",
      "     |  __weakref__\n",
      "     |      list of weak references to the object (if defined)\n",
      "     |  \n",
      "     |  ----------------------------------------------------------------------\n",
      "     |  Methods inherited from builtins.UserWarning:\n",
      "     |  \n",
      "     |  __init__(self, /, *args, **kwargs)\n",
      "     |      Initialize self.  See help(type(self)) for accurate signature.\n",
      "     |  \n",
      "     |  ----------------------------------------------------------------------\n",
      "     |  Static methods inherited from builtins.UserWarning:\n",
      "     |  \n",
      "     |  __new__(*args, **kwargs) from builtins.type\n",
      "     |      Create and return a new object.  See help(type) for accurate signature.\n",
      "     |  \n",
      "     |  ----------------------------------------------------------------------\n",
      "     |  Methods inherited from builtins.BaseException:\n",
      "     |  \n",
      "     |  __delattr__(self, name, /)\n",
      "     |      Implement delattr(self, name).\n",
      "     |  \n",
      "     |  __getattribute__(self, name, /)\n",
      "     |      Return getattr(self, name).\n",
      "     |  \n",
      "     |  __reduce__(...)\n",
      "     |      Helper for pickle.\n",
      "     |  \n",
      "     |  __repr__(self, /)\n",
      "     |      Return repr(self).\n",
      "     |  \n",
      "     |  __setattr__(self, name, value, /)\n",
      "     |      Implement setattr(self, name, value).\n",
      "     |  \n",
      "     |  __setstate__(...)\n",
      "     |  \n",
      "     |  __str__(self, /)\n",
      "     |      Return str(self).\n",
      "     |  \n",
      "     |  with_traceback(...)\n",
      "     |      Exception.with_traceback(tb) --\n",
      "     |      set self.__traceback__ to tb and return self.\n",
      "     |  \n",
      "     |  ----------------------------------------------------------------------\n",
      "     |  Data descriptors inherited from builtins.BaseException:\n",
      "     |  \n",
      "     |  __cause__\n",
      "     |      exception cause\n",
      "     |  \n",
      "     |  __context__\n",
      "     |      exception context\n",
      "     |  \n",
      "     |  __dict__\n",
      "     |  \n",
      "     |  __suppress_context__\n",
      "     |  \n",
      "     |  __traceback__\n",
      "     |  \n",
      "     |  args\n",
      "\n",
      "FUNCTIONS\n",
      "    getpass(prompt='', stream=None) method of ipykernel.ipkernel.IPythonKernel instance\n",
      "        Forward getpass to frontends\n",
      "        \n",
      "        Raises\n",
      "        ------\n",
      "        StdinNotImplentedError if active frontend doesn't support stdin.\n",
      "    \n",
      "    getuser()\n",
      "        Get the username from the environment or password database.\n",
      "        \n",
      "        First try various environment variables, then the password\n",
      "        database.  This works on Windows as long as USERNAME is set.\n",
      "\n",
      "DATA\n",
      "    __all__ = ['getpass', 'getuser', 'GetPassWarning']\n",
      "\n",
      "FILE\n",
      "    c:\\users\\user\\anaconda3\\lib\\getpass.py\n",
      "\n",
      "\n",
      "help> \n",
      "\n",
      "You are now leaving help and returning to the Python interpreter.\n",
      "If you want to ask for help on a particular object directly from the\n",
      "interpreter, you can type \"help(object)\".  Executing \"help('string')\"\n",
      "has the same effect as typing a particular string at the help> prompt.\n"
     ]
    }
   ],
   "source": [
    "help()"
   ]
  },
  {
   "cell_type": "code",
   "execution_count": null,
   "metadata": {},
   "outputs": [],
   "source": [
    "\n",
    "\n"
   ]
  },
  {
   "cell_type": "code",
   "execution_count": 4,
   "metadata": {},
   "outputs": [
    {
     "name": "stdout",
     "output_type": "stream",
     "text": [
      "Enter a value : 3\n",
      "3 is digit\n"
     ]
    }
   ],
   "source": [
    "a=input(\"Enter a value : \")\n",
    "if a>=\"a\" and a<=\"z\":\n",
    "    print(a,\"is a alphabet and small case letter\")\n",
    "elif a>='A' and a<=\"Z\":\n",
    "    print(a,\"is a alphabet and upper case letter\")\n",
    "elif a>='0' and a<='9':\n",
    "    print(a,\"is digit\")\n",
    "else:\n",
    "    print(a,\"is a special symbol\")"
   ]
  },
  {
   "cell_type": "code",
   "execution_count": 7,
   "metadata": {},
   "outputs": [
    {
     "name": "stdout",
     "output_type": "stream",
     "text": [
      "Enter n value : 10\n",
      "0 1 2 3 4 5 6 7 8 9 10 \n",
      "\n",
      "Sum of 10 natural numbers is 55\n"
     ]
    }
   ],
   "source": [
    "n=int(input(\"Enter n value : \"))\n",
    "sum=0\n",
    "for i in range(0,n+1):\n",
    "    print(i,end=\" \")\n",
    "    sum=sum+i\n",
    "print(\"\\n\")\n",
    "print(\"Sum of\",n,\"natural numbers is\",sum)\n",
    "    \n",
    "    "
   ]
  },
  {
   "cell_type": "code",
   "execution_count": 15,
   "metadata": {},
   "outputs": [
    {
     "name": "stdout",
     "output_type": "stream",
     "text": [
      "Enter n value of starting range : 10\n",
      "Enter n value of ending range : 20\n",
      "11 12 13 14 15 16 17 18 19 \n",
      "\n",
      "Sum of numbers in the range of 10 and 20 natural numbers is 135\n"
     ]
    }
   ],
   "source": [
    "a=int(input(\"Enter n value of starting range : \"))\n",
    "b=int(input(\"Enter n value of ending range : \"))\n",
    "sum=0\n",
    "for i in range(a+1,b):\n",
    "    print(i,end=\" \")\n",
    "    sum=sum+i\n",
    "print(\"\\n\")\n",
    "print(\"Sum of numbers in the range of\",a,\"and\",b,\"natural numbers is\",sum)\n",
    "    \n",
    "    "
   ]
  },
  {
   "cell_type": "code",
   "execution_count": 31,
   "metadata": {},
   "outputs": [
    {
     "name": "stdout",
     "output_type": "stream",
     "text": [
      "Enter a value of starting range : 10\n",
      "Enter b  value of ending range : 20\n",
      "11 12 13 14 15 16 17 18 19 \n",
      "\n",
      "Product of numbers in the range of 10 and 20 natural numbers is 33522128640\n"
     ]
    }
   ],
   "source": [
    "a=int(input(\"Enter a value of starting range : \"))\n",
    "b=int(input(\"Enter b  value of ending range : \"))\n",
    "product=1\n",
    "for i in range(a+1,b):\n",
    "    print(i,end=\" \")\n",
    "    product=(product*i)\n",
    "print(\"\\n\")\n",
    "print(\"Product of numbers in the range of\",a,\"and\",b,\"natural numbers is\",product)\n",
    "    \n",
    "    "
   ]
  },
  {
   "cell_type": "code",
   "execution_count": 13,
   "metadata": {},
   "outputs": [],
   "source": [
    "#n=int(input())\n",
    "for i in range(10,1):\n",
    "    print(i)"
   ]
  },
  {
   "cell_type": "code",
   "execution_count": 30,
   "metadata": {},
   "outputs": [
    {
     "name": "stdout",
     "output_type": "stream",
     "text": [
      "5\n",
      "120\n"
     ]
    }
   ],
   "source": [
    "#factorail\n",
    "a=int(input())\n",
    "fact=1\n",
    "for i in range(2,a+1):\n",
    "    fact=fact*i\n",
    "print(fact)\n",
    "    "
   ]
  },
  {
   "cell_type": "code",
   "execution_count": 35,
   "metadata": {},
   "outputs": [
    {
     "name": "stdout",
     "output_type": "stream",
     "text": [
      "Table number : 10\n",
      "input: 10\n",
      "10 * 0 = 0\n",
      "10 * 1 = 10\n",
      "10 * 2 = 20\n",
      "10 * 3 = 30\n",
      "10 * 4 = 40\n",
      "10 * 5 = 50\n",
      "10 * 6 = 60\n",
      "10 * 7 = 70\n",
      "10 * 8 = 80\n",
      "10 * 9 = 90\n",
      "10 * 10 = 100\n"
     ]
    }
   ],
   "source": [
    "a=int(input(\"Table number : \"))\n",
    "n=int(input(\"input: \"))\n",
    "for i in range(0,n+1):\n",
    "    print(a,\"*\",i,\"=\",a*i)\n",
    "    "
   ]
  },
  {
   "cell_type": "code",
   "execution_count": 33,
   "metadata": {},
   "outputs": [
    {
     "name": "stdout",
     "output_type": "stream",
     "text": [
      "bhavani bhavani bhavani bhavani bhavani bhavani bhavani bhavani bhavani bhavani \n"
     ]
    }
   ],
   "source": [
    "print(\"bhavani \"*10)"
   ]
  },
  {
   "cell_type": "code",
   "execution_count": 10,
   "metadata": {},
   "outputs": [
    {
     "name": "stdout",
     "output_type": "stream",
     "text": [
      "Table number : 5\n",
      "input: 5\n",
      "0 * 0 = 0\t1 * 0 = 0\t2 * 0 = 0\t3 * 0 = 0\t4 * 0 = 0\t5 * 0 = 0\t0 * 1 = 0\t1 * 1 = 1\t2 * 1 = 2\t3 * 1 = 3\t4 * 1 = 4\t5 * 1 = 5\t0 * 2 = 0\t1 * 2 = 2\t2 * 2 = 4\t3 * 2 = 6\t4 * 2 = 8\t5 * 2 = 10\t0 * 3 = 0\t1 * 3 = 3\t2 * 3 = 6\t3 * 3 = 9\t4 * 3 = 12\t5 * 3 = 15\t0 * 4 = 0\t1 * 4 = 4\t2 * 4 = 8\t3 * 4 = 12\t4 * 4 = 16\t5 * 4 = 20\t0 * 5 = 0\t1 * 5 = 5\t2 * 5 = 10\t3 * 5 = 15\t4 * 5 = 20\t5 * 5 = 25\t"
     ]
    }
   ],
   "source": [
    "a=int(input(\"Table number : \"))\n",
    "n=int(input(\"input: \"))\n",
    "for i in range(0,n+1):\n",
    "    for j in range(0,a+1):\n",
    "        print(j,\"*\",i,\"=\",j*i,end=\"\\t\")\n",
    "    #print(\"\\n\")\n",
    "    "
   ]
  },
  {
   "cell_type": "markdown",
   "metadata": {},
   "source": [
    "# while \n",
    "`while condition:\n",
    "      statement\n",
    "       change the value `"
   ]
  },
  {
   "cell_type": "code",
   "execution_count": 4,
   "metadata": {},
   "outputs": [
    {
     "name": "stdout",
     "output_type": "stream",
     "text": [
      "10\n",
      "9\n",
      "8\n",
      "7\n",
      "6\n",
      "5\n",
      "4\n",
      "3\n",
      "2\n",
      "1\n"
     ]
    }
   ],
   "source": [
    "i=10\n",
    "while i>0:\n",
    "    print(i)\n",
    "    i-=1"
   ]
  },
  {
   "cell_type": "code",
   "execution_count": 12,
   "metadata": {},
   "outputs": [
    {
     "name": "stdout",
     "output_type": "stream",
     "text": [
      "45\n",
      "2\n",
      "4\n",
      "6\n",
      "8\n",
      "10\n",
      "12\n",
      "14\n",
      "16\n",
      "18\n",
      "20\n",
      "22\n",
      "24\n",
      "26\n",
      "28\n",
      "30\n",
      "32\n",
      "34\n",
      "36\n",
      "38\n",
      "40\n",
      "42\n",
      "44\n"
     ]
    }
   ],
   "source": [
    "a=int(input())\n",
    "i=1\n",
    "while i<a:\n",
    "    if i%2==0:\n",
    "        print(i)\n",
    "    i+=1"
   ]
  },
  {
   "cell_type": "code",
   "execution_count": 3,
   "metadata": {},
   "outputs": [
    {
     "name": "stdout",
     "output_type": "stream",
     "text": [
      "Tue Jan  5 11:42:32 2021\n",
      "Tue Jan  5 11:42:42 2021\n"
     ]
    }
   ],
   "source": [
    "'''import webbrowser\n",
    "dir(webbrowser)\n",
    "webbrowser.open('www.google.com')'''\n",
    "\n",
    "'''import time\n",
    "#dir(time)\n",
    "time.ctime()'''\n",
    "import webbrowser,time\n",
    "totalbreak=2\n",
    "count=0\n",
    "while count<totalbreak:\n",
    "    print(time.ctime())\n",
    "    time.sleep(10)\n",
    "    if count==1:\n",
    "        webbrowser.open(\"www.google.com\")\n",
    "    elif count==2:\n",
    "        webbrowser.open(\"www.youtube.com\")\n",
    "    count+=1\n",
    "    "
   ]
  },
  {
   "cell_type": "code",
   "execution_count": 4,
   "metadata": {},
   "outputs": [
    {
     "name": "stdout",
     "output_type": "stream",
     "text": [
      "10\n",
      "11\n",
      "12\n",
      "13\n",
      "14\n",
      "15\n"
     ]
    }
   ],
   "source": [
    "#break\n",
    "i=10\n",
    "while i<20:\n",
    "    print(i)\n",
    "    if i==15:\n",
    "        break\n",
    "    else:\n",
    "        i+=1\n",
    "        "
   ]
  },
  {
   "cell_type": "code",
   "execution_count": 15,
   "metadata": {},
   "outputs": [
    {
     "name": "stdout",
     "output_type": "stream",
     "text": [
      "h\n",
      "e\n"
     ]
    }
   ],
   "source": [
    "s='hello'\n",
    "for i in s:\n",
    "    if i==\"l\":\n",
    "        break\n",
    "    print(i)"
   ]
  },
  {
   "cell_type": "code",
   "execution_count": 1,
   "metadata": {},
   "outputs": [
    {
     "name": "stdout",
     "output_type": "stream",
     "text": [
      "11\n",
      "12\n",
      "13\n",
      "14\n",
      "16\n",
      "17\n",
      "18\n",
      "19\n",
      "20\n"
     ]
    }
   ],
   "source": [
    "#continue --->skip the condition\n",
    "i=10\n",
    "while i<20:\n",
    "    i+=1\n",
    "        \n",
    "    if i==15:\n",
    "        continue\n",
    "    print(i)\n",
    "    "
   ]
  },
  {
   "cell_type": "code",
   "execution_count": 4,
   "metadata": {},
   "outputs": [
    {
     "ename": "ValueError",
     "evalue": "invalid literal for int() with base 10: '1.2'",
     "output_type": "error",
     "traceback": [
      "\u001b[1;31m---------------------------------------------------------------------------\u001b[0m",
      "\u001b[1;31mValueError\u001b[0m                                Traceback (most recent call last)",
      "\u001b[1;32m<ipython-input-4-973e2f2c9345>\u001b[0m in \u001b[0;36m<module>\u001b[1;34m\u001b[0m\n\u001b[0;32m      1\u001b[0m \u001b[0ms\u001b[0m\u001b[1;33m=\u001b[0m\u001b[1;34m\"1.2\"\u001b[0m\u001b[1;33m\u001b[0m\u001b[1;33m\u001b[0m\u001b[0m\n\u001b[1;32m----> 2\u001b[1;33m \u001b[0mint\u001b[0m\u001b[1;33m(\u001b[0m\u001b[0ms\u001b[0m\u001b[1;33m)\u001b[0m\u001b[1;33m\u001b[0m\u001b[1;33m\u001b[0m\u001b[0m\n\u001b[0m",
      "\u001b[1;31mValueError\u001b[0m: invalid literal for int() with base 10: '1.2'"
     ]
    }
   ],
   "source": [
    "s=\"1.2\"\n",
    "int(s)"
   ]
  },
  {
   "cell_type": "code",
   "execution_count": 4,
   "metadata": {},
   "outputs": [
    {
     "name": "stdout",
     "output_type": "stream",
     "text": [
      "Enter a number :7\n",
      "7  is  prime number\n"
     ]
    }
   ],
   "source": [
    "a=int(input(\"Enter a number :\"))\n",
    "count=0\n",
    "for i in range(2,a):\n",
    "        if(a%i==0):\n",
    "            count+=1\n",
    "            break\n",
    "if count==0 and a!=1:\n",
    "        print(a,\" is  prime number\")\n",
    "else:\n",
    "    print(a,\" is  not prime number\")"
   ]
  },
  {
   "cell_type": "code",
   "execution_count": null,
   "metadata": {},
   "outputs": [],
   "source": []
  },
  {
   "cell_type": "code",
   "execution_count": null,
   "metadata": {},
   "outputs": [],
   "source": [
    "\n"
   ]
  }
 ],
 "metadata": {
  "kernelspec": {
   "display_name": "Python 3",
   "language": "python",
   "name": "python3"
  },
  "language_info": {
   "codemirror_mode": {
    "name": "ipython",
    "version": 3
   },
   "file_extension": ".py",
   "mimetype": "text/x-python",
   "name": "python",
   "nbconvert_exporter": "python",
   "pygments_lexer": "ipython3",
   "version": "3.8.5"
  }
 },
 "nbformat": 4,
 "nbformat_minor": 4
}
