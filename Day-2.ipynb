{
 "cells": [
  {
   "cell_type": "markdown",
   "metadata": {},
   "source": [
    "# function\n",
    " - block of code to perform particular task\n",
    " - advantages:\n",
    "     -code reusable\n",
    "     - size decrece\n",
    "## Types of \n",
    "1. predefined\n",
    "2. userdefined\n",
    "3. special\n",
    "## userdefined functions\n",
    "    - based on return type\n",
    "        1. without arg and without return value\n",
    "        2. without arg and with return value\n",
    "        3. with arg ang and without teturn value\n",
    "        4. with arg and with return value\n",
    "    - based on Arg\n",
    "        1. default arg\n",
    "        2.required arg\n",
    "        3.variable length arg\n",
    "        4.keyword arg\n",
    "        "
   ]
  },
  {
   "cell_type": "markdown",
   "metadata": {},
   "source": [
    "## how to create user define function\n",
    "1. function creation<br>\n",
    "    A.function declaration:<br>\n",
    "      ` def FunctionName(arg):` \n",
    "    B. function definition\n",
    "       ` statements`\n",
    "2. function calling:<br>\n",
    "    by using FunctionName"
   ]
  },
  {
   "cell_type": "code",
   "execution_count": 3,
   "metadata": {},
   "outputs": [
    {
     "name": "stdout",
     "output_type": "stream",
     "text": [
      " sample function\n"
     ]
    }
   ],
   "source": [
    "def Sample():\n",
    "    print(\" sample function\")\n",
    "Sample()"
   ]
  },
  {
   "cell_type": "code",
   "execution_count": 10,
   "metadata": {},
   "outputs": [
    {
     "name": "stdout",
     "output_type": "stream",
     "text": [
      "10\n",
      "20\n",
      "adding of 10 and 20 is 30\n",
      "10\n",
      "20\n",
      "adding of 10 and 20 is 30\n",
      "None\n",
      "10\n",
      "20\n",
      "adding of 10 and 20 is 30\n"
     ]
    },
    {
     "data": {
      "text/plain": [
       "30"
      ]
     },
     "execution_count": 10,
     "metadata": {},
     "output_type": "execute_result"
    }
   ],
   "source": [
    "#1. without arg and without return value\n",
    "def Fun():\n",
    "    s1=int(input())\n",
    "    s2=int(input())\n",
    "    print('adding of {} and {} is {}'.format(s1,s2,s1+s2))\n",
    "Fun()\n",
    "s=Fun()  \n",
    "print(s)\n",
    "\n"
   ]
  },
  {
   "cell_type": "code",
   "execution_count": 13,
   "metadata": {},
   "outputs": [
    {
     "name": "stdout",
     "output_type": "stream",
     "text": [
      "10\n",
      "20\n",
      "adding of 10 and 20 is 30\n",
      "30\n"
     ]
    }
   ],
   "source": [
    "# 2. without arg and with return value\n",
    "def Fun1():\n",
    "    s1=int(input())\n",
    "    s2=int(input())\n",
    "    print('adding of {} and {} is {}'.format(s1,s2,s1+s2))\n",
    "    return s1,s2,s1+s2 # stored in s in the form of tuple\n",
    "     #print('adding of {} and {} is {}'.format(s1,s2,s1+s2)) not ececute,return exit from the function\n",
    "s=Fun1()\n",
    "print(s)"
   ]
  },
  {
   "cell_type": "code",
   "execution_count": 14,
   "metadata": {},
   "outputs": [
    {
     "name": "stdout",
     "output_type": "stream",
     "text": [
      "mul of 2 and 5 is 10\n"
     ]
    }
   ],
   "source": [
    "#3. with arg ang and without return value\n",
    "def Fun2(a,b):\n",
    "    print('mul of {} and {} is {}'.format(a,b,a*b))\n",
    "Fun2(2,5)"
   ]
  },
  {
   "cell_type": "code",
   "execution_count": 21,
   "metadata": {},
   "outputs": [
    {
     "name": "stdout",
     "output_type": "stream",
     "text": [
      "mul of 2 and 5 is 10\n",
      "div is 0.4\n"
     ]
    }
   ],
   "source": [
    "# 4. with arg and with return value\n",
    "def Fun3(a,b):\n",
    "    print('mul of {} and {} is {}'.format(a,b,a*b))\n",
    "    return a/b\n",
    "s=Fun3(2,5)\n",
    "print(\"div is {}\".format(s))"
   ]
  },
  {
   "cell_type": "code",
   "execution_count": 11,
   "metadata": {},
   "outputs": [
    {
     "data": {
      "text/plain": [
       "100000"
      ]
     },
     "execution_count": 11,
     "metadata": {},
     "output_type": "execute_result"
    }
   ],
   "source": [
    "# 1. default arguments--> are the argument which are passing the values at the time of function declaration only\n",
    "def Default(a=10,b=20):#a,b are called default arguments\n",
    "    return a**b\n",
    "Default(2)# a value updated by 2"
   ]
  },
  {
   "cell_type": "code",
   "execution_count": 15,
   "metadata": {},
   "outputs": [
    {
     "name": "stdout",
     "output_type": "stream",
     "text": [
      "2 5 7\n",
      "2 5 7\n"
     ]
    }
   ],
   "source": [
    "#required or positional ard\n",
    "def Required(a,b,c=10):#a,b are required and c is default\n",
    "    print(a,b,c)\n",
    "required(2,5,7)\n",
    "\n",
    "'''def required(a=10,b,c):# must give the required before default,default must be last one and remaining all are required\n",
    "    print(a,b,c)\n",
    "required(2,5,7) '''\n",
    "\n",
    "def required(a,b=10,c=10):\n",
    "    print(a,b,c)\n",
    "required(2,5,7) "
   ]
  },
  {
   "cell_type": "code",
   "execution_count": 41,
   "metadata": {},
   "outputs": [
    {
     "name": "stdout",
     "output_type": "stream",
     "text": [
      "74\n"
     ]
    },
    {
     "data": {
      "text/plain": [
       "74"
      ]
     },
     "execution_count": 41,
     "metadata": {},
     "output_type": "execute_result"
    }
   ],
   "source": [
    "#variable length\n",
    "def Var(*a): #*a is a variable length arg\n",
    "    s = 0\n",
    "    for i in a:\n",
    "        s+=i\n",
    "        print(s)\n",
    "        return s\n",
    "Var(74,65,25)"
   ]
  },
  {
   "cell_type": "code",
   "execution_count": 43,
   "metadata": {},
   "outputs": [
    {
     "name": "stdout",
     "output_type": "stream",
     "text": [
      "hello abc welcome to pace college\n"
     ]
    }
   ],
   "source": [
    "#keyword argument\n",
    "def Default(a=10,b=20):#a,b are called default arguments\n",
    "    return a**b\n",
    "Default(b=5)# by using key value we are updating b value\n",
    "\n",
    "def KeyWord(name,college):\n",
    "    print(\"hello {} welcome to {} college\".format(name,college))\n",
    "KeyWord(college=\"pace\",name=\"abc\")\n",
    "    "
   ]
  },
  {
   "cell_type": "code",
   "execution_count": 44,
   "metadata": {},
   "outputs": [
    {
     "name": "stdout",
     "output_type": "stream",
     "text": [
      "{'name': ['abc', 'def', 'ghi']}\n"
     ]
    }
   ],
   "source": [
    "def key2(**name):#** keyword arg\n",
    "    print(name)\n",
    "key2(name=[\"abc\",\"def\",\"ghi\"])"
   ]
  },
  {
   "cell_type": "code",
   "execution_count": null,
   "metadata": {},
   "outputs": [],
   "source": []
  },
  {
   "cell_type": "code",
   "execution_count": 146,
   "metadata": {},
   "outputs": [
    {
     "name": "stdout",
     "output_type": "stream",
     "text": [
      "4\n",
      "10\n",
      "1 * 1 =1 \n",
      "1 * 2 =2 \n",
      "1 * 3 =3 \n",
      "1 * 4 =4 \n",
      "1 * 5 =5 \n",
      "1 * 6 =6 \n",
      "1 * 7 =7 \n",
      "1 * 8 =8 \n",
      "1 * 9 =9 \n",
      "1 * 10 =10 \n",
      "\n",
      "\n",
      "2 * 1 =2 \n",
      "2 * 2 =4 \n",
      "2 * 3 =6 \n",
      "2 * 4 =8 \n",
      "2 * 5 =10 \n",
      "2 * 6 =12 \n",
      "2 * 7 =14 \n",
      "2 * 8 =16 \n",
      "2 * 9 =18 \n",
      "2 * 10 =20 \n",
      "\n",
      "\n",
      "3 * 1 =3 \n",
      "3 * 2 =6 \n",
      "3 * 3 =9 \n",
      "3 * 4 =12 \n",
      "3 * 5 =15 \n",
      "3 * 6 =18 \n",
      "3 * 7 =21 \n",
      "3 * 8 =24 \n",
      "3 * 9 =27 \n",
      "3 * 10 =30 \n",
      "\n",
      "\n"
     ]
    }
   ],
   "source": [
    "def table(x,y):\n",
    "    for i in range(1,y+1):\n",
    "        print(\"{} * {} ={} \".format(x,i,x*i))\n",
    "    print(\"\\n\")\n",
    "x=int(input())\n",
    "y=int(input())\n",
    "for i in range(1,x):\n",
    "    table(i,y)"
   ]
  },
  {
   "cell_type": "code",
   "execution_count": 62,
   "metadata": {},
   "outputs": [
    {
     "name": "stdout",
     "output_type": "stream",
     "text": [
      "100 102 104 106 108 110 112 114 116 118 120 122 124 126 128 130 132 134 136 138 140 142 144 146 148 150 "
     ]
    }
   ],
   "source": [
    "def even(start ,end):\n",
    "    for i in range(start,end+1):\n",
    "        if i%2==0:\n",
    "            print(i,end=\" \")\n",
    "#start =int(input())\n",
    "#end =int(input())\n",
    "even(100,150)"
   ]
  },
  {
   "cell_type": "code",
   "execution_count": 50,
   "metadata": {},
   "outputs": [
    {
     "name": "stdout",
     "output_type": "stream",
     "text": [
      "12\n",
      "1 2 3 4 6 12 "
     ]
    }
   ],
   "source": [
    "def Fact(a):\n",
    "    for i in range(1,a+1):\n",
    "        if a%i==0:\n",
    "            print(i,end=\" \")\n",
    "a=int(input())\n",
    "Fact(a)\n",
    "    "
   ]
  },
  {
   "cell_type": "code",
   "execution_count": 65,
   "metadata": {},
   "outputs": [
    {
     "name": "stdout",
     "output_type": "stream",
     "text": [
      "12\n",
      "5 IS NOT PERFECT NUMBER\n"
     ]
    }
   ],
   "source": [
    "def Sum_Fact(a):\n",
    "    s=0\n",
    "    for i in range(1,a):\n",
    "        if a%i==0:\n",
    "            s+=i\n",
    "    return s\n",
    "a=int(input())\n",
    "Sum_Fact(a)\n",
    "def Perfect(a):\n",
    "    if a==Sum_Fact(a):\n",
    "        print(a,\"is perfect number\")\n",
    "    else:\n",
    "        print(a,\"IS NOT PERFECT NUMBER\")\n",
    "Perfect(5)\n",
    "            "
   ]
  },
  {
   "cell_type": "code",
   "execution_count": 68,
   "metadata": {},
   "outputs": [
    {
     "data": {
      "text/plain": [
       "3628800"
      ]
     },
     "execution_count": 68,
     "metadata": {},
     "output_type": "execute_result"
    }
   ],
   "source": [
    "# recursive function-->\n",
    "def Fact(n):\n",
    "    if n==1 or n==0:\n",
    "        return 1\n",
    "    else:\n",
    "        return n*Fact(n-1)\n",
    "Fact(10)\n",
    "        "
   ]
  },
  {
   "cell_type": "code",
   "execution_count": 74,
   "metadata": {},
   "outputs": [
    {
     "name": "stdout",
     "output_type": "stream",
     "text": [
      "prime\n"
     ]
    }
   ],
   "source": [
    "def Count_Fact(n):\n",
    "    count=0\n",
    "    for i in range(1,n+1):\n",
    "        if n%i==0:\n",
    "            count+=1\n",
    "    return count\n",
    "#Count_Fact(5)\n",
    "def Is_prime(n):\n",
    "    if Count_Fact(n)==2:\n",
    "        print(n,\"prime\")\n",
    "    else:\n",
    "        print(n,\"not prime\")\n",
    "Is_prime(5)"
   ]
  },
  {
   "cell_type": "code",
   "execution_count": null,
   "metadata": {},
   "outputs": [],
   "source": [
    "# between the prime range\n",
    "def Is_prime(n):\n",
    "    if Count_Fact(n)==2:\n",
    "        print(n,\"prime\")\n",
    "    else:\n",
    "        print(n,\"not prime\")\n",
    "def PrimeGeneration(s,e):\n",
    "    count=0\n",
    "    for i in range(a,e+1):\n",
    "        if i%2==0:\n",
    "            \n",
    "        "
   ]
  },
  {
   "cell_type": "markdown",
   "metadata": {},
   "source": [
    "### String\n",
    "- collection of data or group of data\n",
    "- string will represented in '', \" \",\" \" \"\n",
    "- string is Ordered data\n",
    "- string is immutable data\n",
    "- string accept indexing and Slicing"
   ]
  },
  {
   "cell_type": "code",
   "execution_count": 76,
   "metadata": {},
   "outputs": [
    {
     "data": {
      "text/plain": [
       "str"
      ]
     },
     "execution_count": 76,
     "metadata": {},
     "output_type": "execute_result"
    }
   ],
   "source": [
    "s=\"abc12\"\n",
    "type(s)"
   ]
  },
  {
   "cell_type": "code",
   "execution_count": 78,
   "metadata": {},
   "outputs": [
    {
     "data": {
      "text/plain": [
       "'python programming'"
      ]
     },
     "execution_count": 78,
     "metadata": {},
     "output_type": "execute_result"
    }
   ],
   "source": [
    "s=\"python\"\n",
    "s+=\" programming\"\n",
    "s"
   ]
  },
  {
   "cell_type": "code",
   "execution_count": 113,
   "metadata": {},
   "outputs": [
    {
     "data": {
      "text/plain": [
       "'gnimmargorp'"
      ]
     },
     "execution_count": 113,
     "metadata": {},
     "output_type": "execute_result"
    }
   ],
   "source": [
    "s=\"python programming\"\n",
    "s[:-3:-1]\n",
    "s[:-12:-1]\n",
    "s[7:18][::-1]"
   ]
  },
  {
   "cell_type": "code",
   "execution_count": null,
   "metadata": {},
   "outputs": [],
   "source": [
    "# using while condition palindram number"
   ]
  },
  {
   "cell_type": "code",
   "execution_count": 97,
   "metadata": {},
   "outputs": [
    {
     "name": "stdout",
     "output_type": "stream",
     "text": [
      "123\n",
      "321\n"
     ]
    }
   ],
   "source": [
    "n=int(input())\n",
    "rev=0\n",
    "while n>0:\n",
    "    remainder=n%10\n",
    "    rev=rev*10+remainder\n",
    "    n=n//10\n",
    "print(rev)\n",
    "\n"
   ]
  },
  {
   "cell_type": "code",
   "execution_count": 112,
   "metadata": {},
   "outputs": [
    {
     "name": "stdout",
     "output_type": "stream",
     "text": [
      "325\n"
     ]
    }
   ],
   "source": [
    "def Palindrame(n):\n",
    "    rev=0\n",
    "    while n>0:\n",
    "        remainder=n%10\n",
    "        rev=rev*10+remainder\n",
    "        n=n//10\n",
    "    print(rev)\n",
    "Palindrame(523)\n",
    "    \n",
    "\n"
   ]
  },
  {
   "cell_type": "code",
   "execution_count": 116,
   "metadata": {},
   "outputs": [
    {
     "data": {
      "text/plain": [
       "False"
      ]
     },
     "execution_count": 116,
     "metadata": {},
     "output_type": "execute_result"
    }
   ],
   "source": [
    "def Palindrame(word):\n",
    "    if word ==word[::-1]:\n",
    "        return True\n",
    "    else:\n",
    "        return False\n",
    "word=\"bhavani\"\n",
    "Palindrame(word)"
   ]
  },
  {
   "cell_type": "code",
   "execution_count": 119,
   "metadata": {},
   "outputs": [
    {
     "name": "stdout",
     "output_type": "stream",
     "text": [
      "125\n"
     ]
    },
    {
     "data": {
      "text/plain": [
       "False"
      ]
     },
     "execution_count": 119,
     "metadata": {},
     "output_type": "execute_result"
    }
   ],
   "source": [
    "def Palindrame(word):\n",
    "    if word ==word[::-1]:\n",
    "        return True\n",
    "    else:\n",
    "        return False\n",
    "word=input()\n",
    "Palindrame(word)"
   ]
  },
  {
   "cell_type": "code",
   "execution_count": 120,
   "metadata": {},
   "outputs": [
    {
     "data": {
      "text/plain": [
       "'python programming'"
      ]
     },
     "execution_count": 120,
     "metadata": {},
     "output_type": "execute_result"
    }
   ],
   "source": [
    "s"
   ]
  },
  {
   "cell_type": "code",
   "execution_count": 121,
   "metadata": {},
   "outputs": [
    {
     "data": {
      "text/plain": [
       "'python '"
      ]
     },
     "execution_count": 121,
     "metadata": {},
     "output_type": "execute_result"
    }
   ],
   "source": [
    "s[:7]"
   ]
  },
  {
   "cell_type": "code",
   "execution_count": 122,
   "metadata": {},
   "outputs": [
    {
     "data": {
      "text/plain": [
       "'gnimmargorp nohtyp'"
      ]
     },
     "execution_count": 122,
     "metadata": {},
     "output_type": "execute_result"
    }
   ],
   "source": [
    "s[::-1]"
   ]
  },
  {
   "cell_type": "code",
   "execution_count": 136,
   "metadata": {},
   "outputs": [
    {
     "data": {
      "text/plain": [
       "[['python']]"
      ]
     },
     "execution_count": 136,
     "metadata": {},
     "output_type": "execute_result"
    }
   ],
   "source": [
    "s[7:]\n",
    "s"
   ]
  },
  {
   "cell_type": "code",
   "execution_count": 137,
   "metadata": {},
   "outputs": [
    {
     "data": {
      "text/plain": [
       "'nohtyp  programming'"
      ]
     },
     "execution_count": 137,
     "metadata": {},
     "output_type": "execute_result"
    }
   ],
   "source": [
    "s=\"python programming\"\n",
    "s=s[0:6][::-1]+\" \"+s[6:18]\n",
    "s"
   ]
  },
  {
   "cell_type": "code",
   "execution_count": 138,
   "metadata": {},
   "outputs": [
    {
     "data": {
      "text/plain": [
       "['__add__',\n",
       " '__class__',\n",
       " '__contains__',\n",
       " '__delattr__',\n",
       " '__dir__',\n",
       " '__doc__',\n",
       " '__eq__',\n",
       " '__format__',\n",
       " '__ge__',\n",
       " '__getattribute__',\n",
       " '__getitem__',\n",
       " '__getnewargs__',\n",
       " '__gt__',\n",
       " '__hash__',\n",
       " '__init__',\n",
       " '__init_subclass__',\n",
       " '__iter__',\n",
       " '__le__',\n",
       " '__len__',\n",
       " '__lt__',\n",
       " '__mod__',\n",
       " '__mul__',\n",
       " '__ne__',\n",
       " '__new__',\n",
       " '__reduce__',\n",
       " '__reduce_ex__',\n",
       " '__repr__',\n",
       " '__rmod__',\n",
       " '__rmul__',\n",
       " '__setattr__',\n",
       " '__sizeof__',\n",
       " '__str__',\n",
       " '__subclasshook__',\n",
       " 'capitalize',\n",
       " 'casefold',\n",
       " 'center',\n",
       " 'count',\n",
       " 'encode',\n",
       " 'endswith',\n",
       " 'expandtabs',\n",
       " 'find',\n",
       " 'format',\n",
       " 'format_map',\n",
       " 'index',\n",
       " 'isalnum',\n",
       " 'isalpha',\n",
       " 'isascii',\n",
       " 'isdecimal',\n",
       " 'isdigit',\n",
       " 'isidentifier',\n",
       " 'islower',\n",
       " 'isnumeric',\n",
       " 'isprintable',\n",
       " 'isspace',\n",
       " 'istitle',\n",
       " 'isupper',\n",
       " 'join',\n",
       " 'ljust',\n",
       " 'lower',\n",
       " 'lstrip',\n",
       " 'maketrans',\n",
       " 'partition',\n",
       " 'replace',\n",
       " 'rfind',\n",
       " 'rindex',\n",
       " 'rjust',\n",
       " 'rpartition',\n",
       " 'rsplit',\n",
       " 'rstrip',\n",
       " 'split',\n",
       " 'splitlines',\n",
       " 'startswith',\n",
       " 'strip',\n",
       " 'swapcase',\n",
       " 'title',\n",
       " 'translate',\n",
       " 'upper',\n",
       " 'zfill']"
      ]
     },
     "execution_count": 138,
     "metadata": {},
     "output_type": "execute_result"
    }
   ],
   "source": [
    "dir(str)"
   ]
  },
  {
   "cell_type": "code",
   "execution_count": 7,
   "metadata": {},
   "outputs": [
    {
     "name": "stdout",
     "output_type": "stream",
     "text": [
      "p y t h o n   p r o g r a m m i n g "
     ]
    }
   ],
   "source": [
    "s=\"python programming\"\n",
    "\n",
    "for i in s:\n",
    "    print(i,end=\" \")"
   ]
  },
  {
   "cell_type": "code",
   "execution_count": null,
   "metadata": {},
   "outputs": [],
   "source": [
    "s.capitalize()\n",
    " s.casefold()\n",
    "s.center(25,\"*\")\n",
    " s.count(\"p\")\n",
    " 'encode',\n",
    " s.endswith(\"p\")\n",
    " s.expandtabs()#tab space\n",
    " s.find(\"p\")# starting index of the sub string,if the string is not in main string it give -1\n",
    " 'format',\n",
    " 'format_map',\n",
    "s.index(\"p\")#index of the sub string,if the value not exist it arise error\n",
    " s.isalnum()#numbersand letters ina word with out space,space is a special \n",
    "s.isalpha()#the string having only alphabets\n",
    " 'isascii',\n",
    "s.isdecimal()#the string having points\n",
    " s.isdigit()#thestring having only numbers\n",
    " 'isidentifier',\n",
    "  s.islower()\n",
    "s.isnumeric()#true or false\n",
    " 'isprintable',\n",
    "s.isspace()#true or false,\" \" true ,only space without words\n",
    "s.istitle() #true or false\n",
    "s.isupper() #true or false\n",
    "li =['abc','123']\n",
    " s='@'.join(li)#used in list of elements\n",
    "s\n",
    " 'ljust',\n",
    "s.lower() #all the elements to small\n",
    "    'lstrip',\n",
    " 'maketrans',\n",
    " 'partition',\n",
    "s.replace('@','_')#get print the value ,it will not update s string\n",
    " 'rfind',\n",
    " 'rindex',\n",
    " 'rjust',\n",
    " 'rpartition',\n",
    " 'rsplit',\n",
    "s.rstrip()# right side spaces removed\n",
    " s.split()#s='abc 123' o/p['abc','123']\n",
    " 'splitlines',\n",
    " s.startswith(\"p\")\n",
    "s.strip()# starting and ending od the spaces removed\n",
    " s.swapcase()#small into capital and capital to small\n",
    "s.title()# all first letters are capital and remaing in small letters\n",
    " 'translate()',\n",
    "s.upper()#\n",
    " 'zfill'"
   ]
  },
  {
   "cell_type": "code",
   "execution_count": 20,
   "metadata": {},
   "outputs": [
    {
     "name": "stdout",
     "output_type": "stream",
     "text": [
      "15nhh&*\n",
      "alphabets are:  3\n",
      "digits are:  2\n",
      "special symblos are:  2\n"
     ]
    },
    {
     "ename": "TypeError",
     "evalue": "Ads() takes 0 positional arguments but 1 was given",
     "output_type": "error",
     "traceback": [
      "\u001b[1;31m---------------------------------------------------------------------------\u001b[0m",
      "\u001b[1;31mTypeError\u001b[0m                                 Traceback (most recent call last)",
      "\u001b[1;32m<ipython-input-20-2e9d65c1b3f0>\u001b[0m in \u001b[0;36m<module>\u001b[1;34m\u001b[0m\n\u001b[0;32m     22\u001b[0m     \u001b[0mprint\u001b[0m\u001b[1;33m(\u001b[0m\u001b[1;34m\"special symblos are: \"\u001b[0m\u001b[1;33m,\u001b[0m\u001b[0msymbol\u001b[0m\u001b[1;33m)\u001b[0m\u001b[1;33m\u001b[0m\u001b[1;33m\u001b[0m\u001b[0m\n\u001b[0;32m     23\u001b[0m \u001b[0mAds\u001b[0m\u001b[1;33m(\u001b[0m\u001b[1;33m)\u001b[0m\u001b[1;33m\u001b[0m\u001b[1;33m\u001b[0m\u001b[0m\n\u001b[1;32m---> 24\u001b[1;33m \u001b[0mAds\u001b[0m\u001b[1;33m(\u001b[0m\u001b[1;34m\"bjs522&%^%522dcdnjvk\"\u001b[0m\u001b[1;33m)\u001b[0m\u001b[1;33m\u001b[0m\u001b[1;33m\u001b[0m\u001b[0m\n\u001b[0m",
      "\u001b[1;31mTypeError\u001b[0m: Ads() takes 0 positional arguments but 1 was given"
     ]
    }
   ],
   "source": [
    "'''#task1: s=\"abc123@#$\" input from the user\n",
    "        output: Alphabets are:3\n",
    "                digits are:3\n",
    "                special character:3 '''\n",
    "\n",
    "def Ads():\n",
    "    s=input()\n",
    "    alpha=0\n",
    "    for i in s:\n",
    "        if i.isalpha()== True:  \n",
    "            alpha+=1\n",
    "    print(\"alphabets are: \",alpha)\n",
    "    digit=0\n",
    "    for i in s:\n",
    "        if i.isdigit()==True:\n",
    "            digit+=1\n",
    "    print(\"digits are: \",digit)\n",
    "    symbol=0\n",
    "    for i in s:\n",
    "        if i.isalpha()==False and i.isdigit()==False:\n",
    "            symbol+=1\n",
    "    print(\"special symblos are: \",symbol)\n",
    "Ads()\n",
    "Ads(\"bjs522&%^%522dcdnjvk\")"
   ]
  },
  {
   "cell_type": "code",
   "execution_count": 18,
   "metadata": {},
   "outputs": [
    {
     "ename": "NameError",
     "evalue": "name 'Ads' is not defined",
     "output_type": "error",
     "traceback": [
      "\u001b[1;31m---------------------------------------------------------------------------\u001b[0m",
      "\u001b[1;31mNameError\u001b[0m                                 Traceback (most recent call last)",
      "\u001b[1;32m<ipython-input-18-bb9fc0d4e617>\u001b[0m in \u001b[0;36m<module>\u001b[1;34m\u001b[0m\n\u001b[1;32m----> 1\u001b[1;33m \u001b[0mAds\u001b[0m\u001b[1;33m(\u001b[0m\u001b[1;34m\"bjs522&%^%522dcdnjvk\"\u001b[0m\u001b[1;33m)\u001b[0m\u001b[1;33m\u001b[0m\u001b[1;33m\u001b[0m\u001b[0m\n\u001b[0m",
      "\u001b[1;31mNameError\u001b[0m: name 'Ads' is not defined"
     ]
    }
   ],
   "source": []
  },
  {
   "cell_type": "code",
   "execution_count": 22,
   "metadata": {},
   "outputs": [
    {
     "name": "stdout",
     "output_type": "stream",
     "text": [
      "z\n",
      "}"
     ]
    }
   ],
   "source": [
    "'''#task2:\n",
    "input:abc     bec #3\n",
    "output:dfg    ehf '''\n",
    "def Increment_3():\n",
    "    s=input()\n",
    "    for i in s:\n",
    "        if i.isalpha()==True:\n",
    "            a=ord(i)\n",
    "            b=chr(a+3)\n",
    "            print(b,end=\"\")\n",
    "            #print(char(ord(i)+3),end=\"\")\n",
    "Increment_3()\n"
   ]
  },
  {
   "cell_type": "code",
   "execution_count": 52,
   "metadata": {},
   "outputs": [
    {
     "name": "stdout",
     "output_type": "stream",
     "text": [
      "abcced\n"
     ]
    }
   ],
   "source": [
    "s=\"abc\"\n",
    "s1=\"ced\"\n",
    "list1=list(s+s1)\n",
    "m=\"\".join(list1)\n",
    "print(m)"
   ]
  },
  {
   "cell_type": "code",
   "execution_count": 47,
   "metadata": {
    "scrolled": false
   },
   "outputs": [],
   "source": [
    "#perfect number b/w the given range\n",
    "def Perfect(s,e):\n",
    "    sum=0\n",
    "    for i in range(s,e+1):\n",
    "        for j in range(1,i):\n",
    "            if i%j==0:\n",
    "                sum=sum+j\n",
    "        if sum==i:\n",
    "            print(sum)\n",
    "Perfect(1,10)\n",
    "            \n",
    "        \n"
   ]
  },
  {
   "cell_type": "code",
   "execution_count": 26,
   "metadata": {},
   "outputs": [
    {
     "name": "stdout",
     "output_type": "stream",
     "text": [
      "100\n",
      "1000\n"
     ]
    },
    {
     "data": {
      "text/plain": [
       "(101,\n",
       " 103,\n",
       " 107,\n",
       " 109,\n",
       " 113,\n",
       " 127,\n",
       " 131,\n",
       " 137,\n",
       " 139,\n",
       " 149,\n",
       " 151,\n",
       " 157,\n",
       " 163,\n",
       " 167,\n",
       " 173,\n",
       " 179,\n",
       " 181,\n",
       " 191,\n",
       " 193,\n",
       " 197,\n",
       " 199,\n",
       " 211,\n",
       " 223,\n",
       " 227,\n",
       " 229,\n",
       " 233,\n",
       " 239,\n",
       " 241,\n",
       " 251,\n",
       " 257,\n",
       " 263,\n",
       " 269,\n",
       " 271,\n",
       " 277,\n",
       " 281,\n",
       " 283,\n",
       " 293,\n",
       " 307,\n",
       " 311,\n",
       " 313,\n",
       " 317,\n",
       " 331,\n",
       " 337,\n",
       " 347,\n",
       " 349,\n",
       " 353,\n",
       " 359,\n",
       " 367,\n",
       " 373,\n",
       " 379,\n",
       " 383,\n",
       " 389,\n",
       " 397,\n",
       " 401,\n",
       " 409,\n",
       " 419,\n",
       " 421,\n",
       " 431,\n",
       " 433,\n",
       " 439,\n",
       " 443,\n",
       " 449,\n",
       " 457,\n",
       " 461,\n",
       " 463,\n",
       " 467,\n",
       " 479,\n",
       " 487,\n",
       " 491,\n",
       " 499,\n",
       " 503,\n",
       " 509,\n",
       " 521,\n",
       " 523,\n",
       " 541,\n",
       " 547,\n",
       " 557,\n",
       " 563,\n",
       " 569,\n",
       " 571,\n",
       " 577,\n",
       " 587,\n",
       " 593,\n",
       " 599,\n",
       " 601,\n",
       " 607,\n",
       " 613,\n",
       " 617,\n",
       " 619,\n",
       " 631,\n",
       " 641,\n",
       " 643,\n",
       " 647,\n",
       " 653,\n",
       " 659,\n",
       " 661,\n",
       " 673,\n",
       " 677,\n",
       " 683,\n",
       " 691,\n",
       " 701,\n",
       " 709,\n",
       " 719,\n",
       " 727,\n",
       " 733,\n",
       " 739,\n",
       " 743,\n",
       " 751,\n",
       " 757,\n",
       " 761,\n",
       " 769,\n",
       " 773,\n",
       " 787,\n",
       " 797,\n",
       " 809,\n",
       " 811,\n",
       " 821,\n",
       " 823,\n",
       " 827,\n",
       " 829,\n",
       " 839,\n",
       " 853,\n",
       " 857,\n",
       " 859,\n",
       " 863,\n",
       " 877,\n",
       " 881,\n",
       " 883,\n",
       " 887,\n",
       " 907,\n",
       " 911,\n",
       " 919,\n",
       " 929,\n",
       " 937,\n",
       " 941,\n",
       " 947,\n",
       " 953,\n",
       " 967,\n",
       " 971,\n",
       " 977,\n",
       " 983,\n",
       " 991,\n",
       " 997)"
      ]
     },
     "execution_count": 26,
     "metadata": {},
     "output_type": "execute_result"
    }
   ],
   "source": [
    "#prime numbers b/w range\n",
    "def Prime(n):\n",
    "    count=0\n",
    "    for i in range(1,n+1):\n",
    "        if(n%i==0):\n",
    "            count+=1\n",
    "    if count==2:\n",
    "        return True\n",
    "    else: \n",
    "        return False\n",
    "\n",
    "s=int(input())\n",
    "e=int(input())\n",
    "Prime_tuple=tuple([i for i in range(s,e+1) if Prime(i)])\n",
    "Prime_tuple\n",
    "#len(Prime_list)"
   ]
  },
  {
   "cell_type": "code",
   "execution_count": 129,
   "metadata": {},
   "outputs": [
    {
     "name": "stdout",
     "output_type": "stream",
     "text": [
      "25\n",
      "52\n",
      "26\n",
      "5262\n",
      "27\n",
      "526272\n",
      "28\n",
      "52627282\n",
      "29\n",
      "5262728292\n",
      "30\n",
      "526272829203\n",
      "31\n",
      "52627282920313\n",
      "32\n",
      "5262728292031323\n",
      "33\n",
      "526272829203132333\n",
      "34\n",
      "52627282920313233343\n",
      "35\n",
      "5262728292031323334353\n",
      "36\n",
      "526272829203132333435363\n",
      "37\n",
      "52627282920313233343536373\n",
      "38\n",
      "5262728292031323334353637383\n",
      "39\n",
      "526272829203132333435363738393\n",
      "40\n",
      "52627282920313233343536373839304\n",
      "41\n",
      "5262728292031323334353637383930414\n",
      "42\n",
      "526272829203132333435363738393041424\n",
      "43\n",
      "52627282920313233343536373839304142434\n",
      "44\n",
      "5262728292031323334353637383930414243444\n",
      "45\n",
      "526272829203132333435363738393041424344454\n",
      "46\n",
      "52627282920313233343536373839304142434445464\n",
      "47\n",
      "5262728292031323334353637383930414243444546474\n",
      "48\n",
      "526272829203132333435363738393041424344454647484\n",
      "49\n",
      "52627282920313233343536373839304142434445464748494\n",
      "50\n",
      "5262728292031323334353637383930414243444546474849405\n",
      "51\n",
      "526272829203132333435363738393041424344454647484940515\n",
      "52\n",
      "52627282920313233343536373839304142434445464748494051525\n",
      "53\n",
      "5262728292031323334353637383930414243444546474849405152535\n",
      "54\n",
      "526272829203132333435363738393041424344454647484940515253545\n",
      "55\n",
      "52627282920313233343536373839304142434445464748494051525354555\n",
      "56\n",
      "5262728292031323334353637383930414243444546474849405152535455565\n",
      "57\n",
      "526272829203132333435363738393041424344454647484940515253545556575\n",
      "58\n",
      "52627282920313233343536373839304142434445464748494051525354555657585\n",
      "59\n",
      "5262728292031323334353637383930414243444546474849405152535455565758595\n",
      "60\n",
      "526272829203132333435363738393041424344454647484940515253545556575859506\n",
      "61\n",
      "52627282920313233343536373839304142434445464748494051525354555657585950616\n",
      "62\n",
      "5262728292031323334353637383930414243444546474849405152535455565758595061626\n",
      "63\n",
      "526272829203132333435363738393041424344454647484940515253545556575859506162636\n",
      "64\n",
      "52627282920313233343536373839304142434445464748494051525354555657585950616263646\n",
      "65\n",
      "5262728292031323334353637383930414243444546474849405152535455565758595061626364656\n",
      "66\n",
      "526272829203132333435363738393041424344454647484940515253545556575859506162636465666\n",
      "67\n",
      "52627282920313233343536373839304142434445464748494051525354555657585950616263646566676\n",
      "68\n",
      "5262728292031323334353637383930414243444546474849405152535455565758595061626364656667686\n",
      "69\n",
      "526272829203132333435363738393041424344454647484940515253545556575859506162636465666768696\n",
      "70\n",
      "52627282920313233343536373839304142434445464748494051525354555657585950616263646566676869607\n",
      "71\n",
      "5262728292031323334353637383930414243444546474849405152535455565758595061626364656667686960717\n",
      "72\n",
      "526272829203132333435363738393041424344454647484940515253545556575859506162636465666768696071727\n",
      "73\n",
      "52627282920313233343536373839304142434445464748494051525354555657585950616263646566676869607172737\n",
      "74\n",
      "5262728292031323334353637383930414243444546474849405152535455565758595061626364656667686960717273747\n",
      "75\n",
      "526272829203132333435363738393041424344454647484940515253545556575859506162636465666768696071727374757\n",
      "76\n",
      "52627282920313233343536373839304142434445464748494051525354555657585950616263646566676869607172737475767\n",
      "77\n",
      "5262728292031323334353637383930414243444546474849405152535455565758595061626364656667686960717273747576777\n",
      "78\n",
      "526272829203132333435363738393041424344454647484940515253545556575859506162636465666768696071727374757677787\n",
      "79\n",
      "52627282920313233343536373839304142434445464748494051525354555657585950616263646566676869607172737475767778797\n",
      "80\n",
      "5262728292031323334353637383930414243444546474849405152535455565758595061626364656667686960717273747576777879708\n",
      "81\n",
      "526272829203132333435363738393041424344454647484940515253545556575859506162636465666768696071727374757677787970818\n",
      "82\n",
      "52627282920313233343536373839304142434445464748494051525354555657585950616263646566676869607172737475767778797081828\n",
      "83\n",
      "5262728292031323334353637383930414243444546474849405152535455565758595061626364656667686960717273747576777879708182838\n",
      "84\n",
      "526272829203132333435363738393041424344454647484940515253545556575859506162636465666768696071727374757677787970818283848\n",
      "85\n",
      "52627282920313233343536373839304142434445464748494051525354555657585950616263646566676869607172737475767778797081828384858\n",
      "86\n",
      "5262728292031323334353637383930414243444546474849405152535455565758595061626364656667686960717273747576777879708182838485868\n",
      "87\n",
      "526272829203132333435363738393041424344454647484940515253545556575859506162636465666768696071727374757677787970818283848586878\n",
      "88\n",
      "52627282920313233343536373839304142434445464748494051525354555657585950616263646566676869607172737475767778797081828384858687888\n",
      "89\n",
      "5262728292031323334353637383930414243444546474849405152535455565758595061626364656667686960717273747576777879708182838485868788898\n",
      "90\n",
      "526272829203132333435363738393041424344454647484940515253545556575859506162636465666768696071727374757677787970818283848586878889809\n",
      "91\n",
      "52627282920313233343536373839304142434445464748494051525354555657585950616263646566676869607172737475767778797081828384858687888980919\n",
      "92\n",
      "5262728292031323334353637383930414243444546474849405152535455565758595061626364656667686960717273747576777879708182838485868788898091929\n",
      "93\n",
      "526272829203132333435363738393041424344454647484940515253545556575859506162636465666768696071727374757677787970818283848586878889809192939\n",
      "94\n",
      "52627282920313233343536373839304142434445464748494051525354555657585950616263646566676869607172737475767778797081828384858687888980919293949\n",
      "95\n",
      "5262728292031323334353637383930414243444546474849405152535455565758595061626364656667686960717273747576777879708182838485868788898091929394959\n",
      "96\n",
      "526272829203132333435363738393041424344454647484940515253545556575859506162636465666768696071727374757677787970818283848586878889809192939495969\n",
      "97\n",
      "52627282920313233343536373839304142434445464748494051525354555657585950616263646566676869607172737475767778797081828384858687888980919293949596979\n",
      "98\n",
      "5262728292031323334353637383930414243444546474849405152535455565758595061626364656667686960717273747576777879708182838485868788898091929394959697989\n",
      "99\n",
      "526272829203132333435363738393041424344454647484940515253545556575859506162636465666768696071727374757677787970818283848586878889809192939495969798999\n",
      "100\n",
      "526272829203132333435363738393041424344454647484940515253545556575859506162636465666768696071727374757677787970818283848586878889809192939495969798999001\n",
      "101\n",
      "526272829203132333435363738393041424344454647484940515253545556575859506162636465666768696071727374757677787970818283848586878889809192939495969798999001101\n",
      "102\n",
      "526272829203132333435363738393041424344454647484940515253545556575859506162636465666768696071727374757677787970818283848586878889809192939495969798999001101201\n",
      "103\n",
      "526272829203132333435363738393041424344454647484940515253545556575859506162636465666768696071727374757677787970818283848586878889809192939495969798999001101201301\n",
      "104\n",
      "526272829203132333435363738393041424344454647484940515253545556575859506162636465666768696071727374757677787970818283848586878889809192939495969798999001101201301401\n",
      "105\n",
      "526272829203132333435363738393041424344454647484940515253545556575859506162636465666768696071727374757677787970818283848586878889809192939495969798999001101201301401501\n",
      "106\n",
      "526272829203132333435363738393041424344454647484940515253545556575859506162636465666768696071727374757677787970818283848586878889809192939495969798999001101201301401501601\n",
      "107\n",
      "526272829203132333435363738393041424344454647484940515253545556575859506162636465666768696071727374757677787970818283848586878889809192939495969798999001101201301401501601701\n",
      "108\n",
      "526272829203132333435363738393041424344454647484940515253545556575859506162636465666768696071727374757677787970818283848586878889809192939495969798999001101201301401501601701801\n",
      "109\n",
      "526272829203132333435363738393041424344454647484940515253545556575859506162636465666768696071727374757677787970818283848586878889809192939495969798999001101201301401501601701801901\n",
      "110\n",
      "526272829203132333435363738393041424344454647484940515253545556575859506162636465666768696071727374757677787970818283848586878889809192939495969798999001101201301401501601701801901011\n",
      "111\n",
      "526272829203132333435363738393041424344454647484940515253545556575859506162636465666768696071727374757677787970818283848586878889809192939495969798999001101201301401501601701801901011111\n",
      "112\n",
      "526272829203132333435363738393041424344454647484940515253545556575859506162636465666768696071727374757677787970818283848586878889809192939495969798999001101201301401501601701801901011111211\n",
      "113\n",
      "526272829203132333435363738393041424344454647484940515253545556575859506162636465666768696071727374757677787970818283848586878889809192939495969798999001101201301401501601701801901011111211311\n",
      "114\n",
      "526272829203132333435363738393041424344454647484940515253545556575859506162636465666768696071727374757677787970818283848586878889809192939495969798999001101201301401501601701801901011111211311411\n",
      "115\n",
      "526272829203132333435363738393041424344454647484940515253545556575859506162636465666768696071727374757677787970818283848586878889809192939495969798999001101201301401501601701801901011111211311411511\n",
      "116\n",
      "526272829203132333435363738393041424344454647484940515253545556575859506162636465666768696071727374757677787970818283848586878889809192939495969798999001101201301401501601701801901011111211311411511611\n",
      "117\n",
      "526272829203132333435363738393041424344454647484940515253545556575859506162636465666768696071727374757677787970818283848586878889809192939495969798999001101201301401501601701801901011111211311411511611711\n",
      "118\n",
      "526272829203132333435363738393041424344454647484940515253545556575859506162636465666768696071727374757677787970818283848586878889809192939495969798999001101201301401501601701801901011111211311411511611711811\n",
      "119\n",
      "526272829203132333435363738393041424344454647484940515253545556575859506162636465666768696071727374757677787970818283848586878889809192939495969798999001101201301401501601701801901011111211311411511611711811911\n",
      "120\n",
      "526272829203132333435363738393041424344454647484940515253545556575859506162636465666768696071727374757677787970818283848586878889809192939495969798999001101201301401501601701801901011111211311411511611711811911021\n",
      "121\n",
      "526272829203132333435363738393041424344454647484940515253545556575859506162636465666768696071727374757677787970818283848586878889809192939495969798999001101201301401501601701801901011111211311411511611711811911021121\n",
      "122\n",
      "526272829203132333435363738393041424344454647484940515253545556575859506162636465666768696071727374757677787970818283848586878889809192939495969798999001101201301401501601701801901011111211311411511611711811911021121221\n",
      "123\n",
      "526272829203132333435363738393041424344454647484940515253545556575859506162636465666768696071727374757677787970818283848586878889809192939495969798999001101201301401501601701801901011111211311411511611711811911021121221321\n",
      "124\n",
      "526272829203132333435363738393041424344454647484940515253545556575859506162636465666768696071727374757677787970818283848586878889809192939495969798999001101201301401501601701801901011111211311411511611711811911021121221321421\n",
      "125\n",
      "526272829203132333435363738393041424344454647484940515253545556575859506162636465666768696071727374757677787970818283848586878889809192939495969798999001101201301401501601701801901011111211311411511611711811911021121221321421521\n",
      "126\n",
      "526272829203132333435363738393041424344454647484940515253545556575859506162636465666768696071727374757677787970818283848586878889809192939495969798999001101201301401501601701801901011111211311411511611711811911021121221321421521621\n",
      "127\n",
      "526272829203132333435363738393041424344454647484940515253545556575859506162636465666768696071727374757677787970818283848586878889809192939495969798999001101201301401501601701801901011111211311411511611711811911021121221321421521621721\n",
      "128\n",
      "526272829203132333435363738393041424344454647484940515253545556575859506162636465666768696071727374757677787970818283848586878889809192939495969798999001101201301401501601701801901011111211311411511611711811911021121221321421521621721821\n",
      "129\n",
      "526272829203132333435363738393041424344454647484940515253545556575859506162636465666768696071727374757677787970818283848586878889809192939495969798999001101201301401501601701801901011111211311411511611711811911021121221321421521621721821921\n",
      "130\n",
      "526272829203132333435363738393041424344454647484940515253545556575859506162636465666768696071727374757677787970818283848586878889809192939495969798999001101201301401501601701801901011111211311411511611711811911021121221321421521621721821921031\n",
      "131\n",
      "526272829203132333435363738393041424344454647484940515253545556575859506162636465666768696071727374757677787970818283848586878889809192939495969798999001101201301401501601701801901011111211311411511611711811911021121221321421521621721821921031131\n",
      "132\n",
      "526272829203132333435363738393041424344454647484940515253545556575859506162636465666768696071727374757677787970818283848586878889809192939495969798999001101201301401501601701801901011111211311411511611711811911021121221321421521621721821921031131231\n",
      "133\n",
      "526272829203132333435363738393041424344454647484940515253545556575859506162636465666768696071727374757677787970818283848586878889809192939495969798999001101201301401501601701801901011111211311411511611711811911021121221321421521621721821921031131231331\n",
      "134\n",
      "526272829203132333435363738393041424344454647484940515253545556575859506162636465666768696071727374757677787970818283848586878889809192939495969798999001101201301401501601701801901011111211311411511611711811911021121221321421521621721821921031131231331431\n",
      "135\n",
      "526272829203132333435363738393041424344454647484940515253545556575859506162636465666768696071727374757677787970818283848586878889809192939495969798999001101201301401501601701801901011111211311411511611711811911021121221321421521621721821921031131231331431531\n",
      "136\n",
      "526272829203132333435363738393041424344454647484940515253545556575859506162636465666768696071727374757677787970818283848586878889809192939495969798999001101201301401501601701801901011111211311411511611711811911021121221321421521621721821921031131231331431531631\n",
      "137\n",
      "526272829203132333435363738393041424344454647484940515253545556575859506162636465666768696071727374757677787970818283848586878889809192939495969798999001101201301401501601701801901011111211311411511611711811911021121221321421521621721821921031131231331431531631731\n",
      "138\n",
      "526272829203132333435363738393041424344454647484940515253545556575859506162636465666768696071727374757677787970818283848586878889809192939495969798999001101201301401501601701801901011111211311411511611711811911021121221321421521621721821921031131231331431531631731831\n",
      "139\n",
      "526272829203132333435363738393041424344454647484940515253545556575859506162636465666768696071727374757677787970818283848586878889809192939495969798999001101201301401501601701801901011111211311411511611711811911021121221321421521621721821921031131231331431531631731831931\n",
      "140\n",
      "526272829203132333435363738393041424344454647484940515253545556575859506162636465666768696071727374757677787970818283848586878889809192939495969798999001101201301401501601701801901011111211311411511611711811911021121221321421521621721821921031131231331431531631731831931041\n",
      "141\n",
      "526272829203132333435363738393041424344454647484940515253545556575859506162636465666768696071727374757677787970818283848586878889809192939495969798999001101201301401501601701801901011111211311411511611711811911021121221321421521621721821921031131231331431531631731831931041141\n",
      "142\n",
      "526272829203132333435363738393041424344454647484940515253545556575859506162636465666768696071727374757677787970818283848586878889809192939495969798999001101201301401501601701801901011111211311411511611711811911021121221321421521621721821921031131231331431531631731831931041141241\n",
      "143\n",
      "526272829203132333435363738393041424344454647484940515253545556575859506162636465666768696071727374757677787970818283848586878889809192939495969798999001101201301401501601701801901011111211311411511611711811911021121221321421521621721821921031131231331431531631731831931041141241341\n",
      "144\n",
      "526272829203132333435363738393041424344454647484940515253545556575859506162636465666768696071727374757677787970818283848586878889809192939495969798999001101201301401501601701801901011111211311411511611711811911021121221321421521621721821921031131231331431531631731831931041141241341441\n",
      "145\n",
      "526272829203132333435363738393041424344454647484940515253545556575859506162636465666768696071727374757677787970818283848586878889809192939495969798999001101201301401501601701801901011111211311411511611711811911021121221321421521621721821921031131231331431531631731831931041141241341441541\n",
      "146\n",
      "526272829203132333435363738393041424344454647484940515253545556575859506162636465666768696071727374757677787970818283848586878889809192939495969798999001101201301401501601701801901011111211311411511611711811911021121221321421521621721821921031131231331431531631731831931041141241341441541641\n",
      "147\n",
      "526272829203132333435363738393041424344454647484940515253545556575859506162636465666768696071727374757677787970818283848586878889809192939495969798999001101201301401501601701801901011111211311411511611711811911021121221321421521621721821921031131231331431531631731831931041141241341441541641741\n",
      "148\n",
      "526272829203132333435363738393041424344454647484940515253545556575859506162636465666768696071727374757677787970818283848586878889809192939495969798999001101201301401501601701801901011111211311411511611711811911021121221321421521621721821921031131231331431531631731831931041141241341441541641741841\n",
      "149\n",
      "526272829203132333435363738393041424344454647484940515253545556575859506162636465666768696071727374757677787970818283848586878889809192939495969798999001101201301401501601701801901011111211311411511611711811911021121221321421521621721821921031131231331431531631731831931041141241341441541641741841941\n",
      "150\n",
      "526272829203132333435363738393041424344454647484940515253545556575859506162636465666768696071727374757677787970818283848586878889809192939495969798999001101201301401501601701801901011111211311411511611711811911021121221321421521621721821921031131231331431531631731831931041141241341441541641741841941051\n",
      "151\n",
      "526272829203132333435363738393041424344454647484940515253545556575859506162636465666768696071727374757677787970818283848586878889809192939495969798999001101201301401501601701801901011111211311411511611711811911021121221321421521621721821921031131231331431531631731831931041141241341441541641741841941051151\n",
      "152\n",
      "526272829203132333435363738393041424344454647484940515253545556575859506162636465666768696071727374757677787970818283848586878889809192939495969798999001101201301401501601701801901011111211311411511611711811911021121221321421521621721821921031131231331431531631731831931041141241341441541641741841941051151251\n",
      "153\n",
      "526272829203132333435363738393041424344454647484940515253545556575859506162636465666768696071727374757677787970818283848586878889809192939495969798999001101201301401501601701801901011111211311411511611711811911021121221321421521621721821921031131231331431531631731831931041141241341441541641741841941051151251351\n",
      "154\n",
      "526272829203132333435363738393041424344454647484940515253545556575859506162636465666768696071727374757677787970818283848586878889809192939495969798999001101201301401501601701801901011111211311411511611711811911021121221321421521621721821921031131231331431531631731831931041141241341441541641741841941051151251351451\n",
      "155\n",
      "526272829203132333435363738393041424344454647484940515253545556575859506162636465666768696071727374757677787970818283848586878889809192939495969798999001101201301401501601701801901011111211311411511611711811911021121221321421521621721821921031131231331431531631731831931041141241341441541641741841941051151251351451551\n",
      "156\n",
      "526272829203132333435363738393041424344454647484940515253545556575859506162636465666768696071727374757677787970818283848586878889809192939495969798999001101201301401501601701801901011111211311411511611711811911021121221321421521621721821921031131231331431531631731831931041141241341441541641741841941051151251351451551651\n",
      "157\n",
      "526272829203132333435363738393041424344454647484940515253545556575859506162636465666768696071727374757677787970818283848586878889809192939495969798999001101201301401501601701801901011111211311411511611711811911021121221321421521621721821921031131231331431531631731831931041141241341441541641741841941051151251351451551651751\n",
      "158\n",
      "526272829203132333435363738393041424344454647484940515253545556575859506162636465666768696071727374757677787970818283848586878889809192939495969798999001101201301401501601701801901011111211311411511611711811911021121221321421521621721821921031131231331431531631731831931041141241341441541641741841941051151251351451551651751851\n",
      "159\n",
      "526272829203132333435363738393041424344454647484940515253545556575859506162636465666768696071727374757677787970818283848586878889809192939495969798999001101201301401501601701801901011111211311411511611711811911021121221321421521621721821921031131231331431531631731831931041141241341441541641741841941051151251351451551651751851951\n",
      "160\n",
      "526272829203132333435363738393041424344454647484940515253545556575859506162636465666768696071727374757677787970818283848586878889809192939495969798999001101201301401501601701801901011111211311411511611711811911021121221321421521621721821921031131231331431531631731831931041141241341441541641741841941051151251351451551651751851951061\n",
      "161\n",
      "526272829203132333435363738393041424344454647484940515253545556575859506162636465666768696071727374757677787970818283848586878889809192939495969798999001101201301401501601701801901011111211311411511611711811911021121221321421521621721821921031131231331431531631731831931041141241341441541641741841941051151251351451551651751851951061161\n",
      "162\n",
      "526272829203132333435363738393041424344454647484940515253545556575859506162636465666768696071727374757677787970818283848586878889809192939495969798999001101201301401501601701801901011111211311411511611711811911021121221321421521621721821921031131231331431531631731831931041141241341441541641741841941051151251351451551651751851951061161261\n",
      "163\n",
      "526272829203132333435363738393041424344454647484940515253545556575859506162636465666768696071727374757677787970818283848586878889809192939495969798999001101201301401501601701801901011111211311411511611711811911021121221321421521621721821921031131231331431531631731831931041141241341441541641741841941051151251351451551651751851951061161261361\n",
      "164\n",
      "526272829203132333435363738393041424344454647484940515253545556575859506162636465666768696071727374757677787970818283848586878889809192939495969798999001101201301401501601701801901011111211311411511611711811911021121221321421521621721821921031131231331431531631731831931041141241341441541641741841941051151251351451551651751851951061161261361461\n",
      "165\n",
      "526272829203132333435363738393041424344454647484940515253545556575859506162636465666768696071727374757677787970818283848586878889809192939495969798999001101201301401501601701801901011111211311411511611711811911021121221321421521621721821921031131231331431531631731831931041141241341441541641741841941051151251351451551651751851951061161261361461561\n",
      "166\n",
      "526272829203132333435363738393041424344454647484940515253545556575859506162636465666768696071727374757677787970818283848586878889809192939495969798999001101201301401501601701801901011111211311411511611711811911021121221321421521621721821921031131231331431531631731831931041141241341441541641741841941051151251351451551651751851951061161261361461561661\n",
      "167\n",
      "526272829203132333435363738393041424344454647484940515253545556575859506162636465666768696071727374757677787970818283848586878889809192939495969798999001101201301401501601701801901011111211311411511611711811911021121221321421521621721821921031131231331431531631731831931041141241341441541641741841941051151251351451551651751851951061161261361461561661761\n",
      "168\n",
      "526272829203132333435363738393041424344454647484940515253545556575859506162636465666768696071727374757677787970818283848586878889809192939495969798999001101201301401501601701801901011111211311411511611711811911021121221321421521621721821921031131231331431531631731831931041141241341441541641741841941051151251351451551651751851951061161261361461561661761861\n",
      "169\n",
      "526272829203132333435363738393041424344454647484940515253545556575859506162636465666768696071727374757677787970818283848586878889809192939495969798999001101201301401501601701801901011111211311411511611711811911021121221321421521621721821921031131231331431531631731831931041141241341441541641741841941051151251351451551651751851951061161261361461561661761861961\n",
      "170\n",
      "526272829203132333435363738393041424344454647484940515253545556575859506162636465666768696071727374757677787970818283848586878889809192939495969798999001101201301401501601701801901011111211311411511611711811911021121221321421521621721821921031131231331431531631731831931041141241341441541641741841941051151251351451551651751851951061161261361461561661761861961071\n",
      "171\n",
      "526272829203132333435363738393041424344454647484940515253545556575859506162636465666768696071727374757677787970818283848586878889809192939495969798999001101201301401501601701801901011111211311411511611711811911021121221321421521621721821921031131231331431531631731831931041141241341441541641741841941051151251351451551651751851951061161261361461561661761861961071171\n",
      "172\n",
      "526272829203132333435363738393041424344454647484940515253545556575859506162636465666768696071727374757677787970818283848586878889809192939495969798999001101201301401501601701801901011111211311411511611711811911021121221321421521621721821921031131231331431531631731831931041141241341441541641741841941051151251351451551651751851951061161261361461561661761861961071171271\n",
      "173\n",
      "526272829203132333435363738393041424344454647484940515253545556575859506162636465666768696071727374757677787970818283848586878889809192939495969798999001101201301401501601701801901011111211311411511611711811911021121221321421521621721821921031131231331431531631731831931041141241341441541641741841941051151251351451551651751851951061161261361461561661761861961071171271371\n",
      "174\n",
      "526272829203132333435363738393041424344454647484940515253545556575859506162636465666768696071727374757677787970818283848586878889809192939495969798999001101201301401501601701801901011111211311411511611711811911021121221321421521621721821921031131231331431531631731831931041141241341441541641741841941051151251351451551651751851951061161261361461561661761861961071171271371471\n",
      "175\n",
      "526272829203132333435363738393041424344454647484940515253545556575859506162636465666768696071727374757677787970818283848586878889809192939495969798999001101201301401501601701801901011111211311411511611711811911021121221321421521621721821921031131231331431531631731831931041141241341441541641741841941051151251351451551651751851951061161261361461561661761861961071171271371471571\n",
      "176\n",
      "526272829203132333435363738393041424344454647484940515253545556575859506162636465666768696071727374757677787970818283848586878889809192939495969798999001101201301401501601701801901011111211311411511611711811911021121221321421521621721821921031131231331431531631731831931041141241341441541641741841941051151251351451551651751851951061161261361461561661761861961071171271371471571671\n",
      "177\n",
      "526272829203132333435363738393041424344454647484940515253545556575859506162636465666768696071727374757677787970818283848586878889809192939495969798999001101201301401501601701801901011111211311411511611711811911021121221321421521621721821921031131231331431531631731831931041141241341441541641741841941051151251351451551651751851951061161261361461561661761861961071171271371471571671771\n",
      "178\n",
      "526272829203132333435363738393041424344454647484940515253545556575859506162636465666768696071727374757677787970818283848586878889809192939495969798999001101201301401501601701801901011111211311411511611711811911021121221321421521621721821921031131231331431531631731831931041141241341441541641741841941051151251351451551651751851951061161261361461561661761861961071171271371471571671771871\n",
      "179\n",
      "526272829203132333435363738393041424344454647484940515253545556575859506162636465666768696071727374757677787970818283848586878889809192939495969798999001101201301401501601701801901011111211311411511611711811911021121221321421521621721821921031131231331431531631731831931041141241341441541641741841941051151251351451551651751851951061161261361461561661761861961071171271371471571671771871971\n",
      "180\n",
      "526272829203132333435363738393041424344454647484940515253545556575859506162636465666768696071727374757677787970818283848586878889809192939495969798999001101201301401501601701801901011111211311411511611711811911021121221321421521621721821921031131231331431531631731831931041141241341441541641741841941051151251351451551651751851951061161261361461561661761861961071171271371471571671771871971081\n",
      "181\n",
      "526272829203132333435363738393041424344454647484940515253545556575859506162636465666768696071727374757677787970818283848586878889809192939495969798999001101201301401501601701801901011111211311411511611711811911021121221321421521621721821921031131231331431531631731831931041141241341441541641741841941051151251351451551651751851951061161261361461561661761861961071171271371471571671771871971081181\n",
      "182\n",
      "526272829203132333435363738393041424344454647484940515253545556575859506162636465666768696071727374757677787970818283848586878889809192939495969798999001101201301401501601701801901011111211311411511611711811911021121221321421521621721821921031131231331431531631731831931041141241341441541641741841941051151251351451551651751851951061161261361461561661761861961071171271371471571671771871971081181281\n",
      "183\n",
      "526272829203132333435363738393041424344454647484940515253545556575859506162636465666768696071727374757677787970818283848586878889809192939495969798999001101201301401501601701801901011111211311411511611711811911021121221321421521621721821921031131231331431531631731831931041141241341441541641741841941051151251351451551651751851951061161261361461561661761861961071171271371471571671771871971081181281381\n",
      "184\n",
      "526272829203132333435363738393041424344454647484940515253545556575859506162636465666768696071727374757677787970818283848586878889809192939495969798999001101201301401501601701801901011111211311411511611711811911021121221321421521621721821921031131231331431531631731831931041141241341441541641741841941051151251351451551651751851951061161261361461561661761861961071171271371471571671771871971081181281381481\n",
      "185\n",
      "526272829203132333435363738393041424344454647484940515253545556575859506162636465666768696071727374757677787970818283848586878889809192939495969798999001101201301401501601701801901011111211311411511611711811911021121221321421521621721821921031131231331431531631731831931041141241341441541641741841941051151251351451551651751851951061161261361461561661761861961071171271371471571671771871971081181281381481581\n",
      "186\n",
      "526272829203132333435363738393041424344454647484940515253545556575859506162636465666768696071727374757677787970818283848586878889809192939495969798999001101201301401501601701801901011111211311411511611711811911021121221321421521621721821921031131231331431531631731831931041141241341441541641741841941051151251351451551651751851951061161261361461561661761861961071171271371471571671771871971081181281381481581681\n",
      "187\n",
      "526272829203132333435363738393041424344454647484940515253545556575859506162636465666768696071727374757677787970818283848586878889809192939495969798999001101201301401501601701801901011111211311411511611711811911021121221321421521621721821921031131231331431531631731831931041141241341441541641741841941051151251351451551651751851951061161261361461561661761861961071171271371471571671771871971081181281381481581681781\n",
      "188\n",
      "526272829203132333435363738393041424344454647484940515253545556575859506162636465666768696071727374757677787970818283848586878889809192939495969798999001101201301401501601701801901011111211311411511611711811911021121221321421521621721821921031131231331431531631731831931041141241341441541641741841941051151251351451551651751851951061161261361461561661761861961071171271371471571671771871971081181281381481581681781881\n",
      "189\n",
      "526272829203132333435363738393041424344454647484940515253545556575859506162636465666768696071727374757677787970818283848586878889809192939495969798999001101201301401501601701801901011111211311411511611711811911021121221321421521621721821921031131231331431531631731831931041141241341441541641741841941051151251351451551651751851951061161261361461561661761861961071171271371471571671771871971081181281381481581681781881981\n",
      "190\n",
      "526272829203132333435363738393041424344454647484940515253545556575859506162636465666768696071727374757677787970818283848586878889809192939495969798999001101201301401501601701801901011111211311411511611711811911021121221321421521621721821921031131231331431531631731831931041141241341441541641741841941051151251351451551651751851951061161261361461561661761861961071171271371471571671771871971081181281381481581681781881981091\n",
      "191\n",
      "526272829203132333435363738393041424344454647484940515253545556575859506162636465666768696071727374757677787970818283848586878889809192939495969798999001101201301401501601701801901011111211311411511611711811911021121221321421521621721821921031131231331431531631731831931041141241341441541641741841941051151251351451551651751851951061161261361461561661761861961071171271371471571671771871971081181281381481581681781881981091191\n",
      "192\n",
      "526272829203132333435363738393041424344454647484940515253545556575859506162636465666768696071727374757677787970818283848586878889809192939495969798999001101201301401501601701801901011111211311411511611711811911021121221321421521621721821921031131231331431531631731831931041141241341441541641741841941051151251351451551651751851951061161261361461561661761861961071171271371471571671771871971081181281381481581681781881981091191291\n",
      "193\n",
      "526272829203132333435363738393041424344454647484940515253545556575859506162636465666768696071727374757677787970818283848586878889809192939495969798999001101201301401501601701801901011111211311411511611711811911021121221321421521621721821921031131231331431531631731831931041141241341441541641741841941051151251351451551651751851951061161261361461561661761861961071171271371471571671771871971081181281381481581681781881981091191291391\n",
      "194\n",
      "526272829203132333435363738393041424344454647484940515253545556575859506162636465666768696071727374757677787970818283848586878889809192939495969798999001101201301401501601701801901011111211311411511611711811911021121221321421521621721821921031131231331431531631731831931041141241341441541641741841941051151251351451551651751851951061161261361461561661761861961071171271371471571671771871971081181281381481581681781881981091191291391491\n",
      "195\n",
      "526272829203132333435363738393041424344454647484940515253545556575859506162636465666768696071727374757677787970818283848586878889809192939495969798999001101201301401501601701801901011111211311411511611711811911021121221321421521621721821921031131231331431531631731831931041141241341441541641741841941051151251351451551651751851951061161261361461561661761861961071171271371471571671771871971081181281381481581681781881981091191291391491591\n",
      "196\n",
      "526272829203132333435363738393041424344454647484940515253545556575859506162636465666768696071727374757677787970818283848586878889809192939495969798999001101201301401501601701801901011111211311411511611711811911021121221321421521621721821921031131231331431531631731831931041141241341441541641741841941051151251351451551651751851951061161261361461561661761861961071171271371471571671771871971081181281381481581681781881981091191291391491591691\n",
      "197\n",
      "526272829203132333435363738393041424344454647484940515253545556575859506162636465666768696071727374757677787970818283848586878889809192939495969798999001101201301401501601701801901011111211311411511611711811911021121221321421521621721821921031131231331431531631731831931041141241341441541641741841941051151251351451551651751851951061161261361461561661761861961071171271371471571671771871971081181281381481581681781881981091191291391491591691791\n",
      "198\n",
      "526272829203132333435363738393041424344454647484940515253545556575859506162636465666768696071727374757677787970818283848586878889809192939495969798999001101201301401501601701801901011111211311411511611711811911021121221321421521621721821921031131231331431531631731831931041141241341441541641741841941051151251351451551651751851951061161261361461561661761861961071171271371471571671771871971081181281381481581681781881981091191291391491591691791891\n",
      "199\n",
      "526272829203132333435363738393041424344454647484940515253545556575859506162636465666768696071727374757677787970818283848586878889809192939495969798999001101201301401501601701801901011111211311411511611711811911021121221321421521621721821921031131231331431531631731831931041141241341441541641741841941051151251351451551651751851951061161261361461561661761861961071171271371471571671771871971081181281381481581681781881981091191291391491591691791891991\n",
      "200\n",
      "526272829203132333435363738393041424344454647484940515253545556575859506162636465666768696071727374757677787970818283848586878889809192939495969798999001101201301401501601701801901011111211311411511611711811911021121221321421521621721821921031131231331431531631731831931041141241341441541641741841941051151251351451551651751851951061161261361461561661761861961071171271371471571671771871971081181281381481581681781881981091191291391491591691791891991002\n",
      "201\n",
      "526272829203132333435363738393041424344454647484940515253545556575859506162636465666768696071727374757677787970818283848586878889809192939495969798999001101201301401501601701801901011111211311411511611711811911021121221321421521621721821921031131231331431531631731831931041141241341441541641741841941051151251351451551651751851951061161261361461561661761861961071171271371471571671771871971081181281381481581681781881981091191291391491591691791891991002102\n",
      "202\n",
      "526272829203132333435363738393041424344454647484940515253545556575859506162636465666768696071727374757677787970818283848586878889809192939495969798999001101201301401501601701801901011111211311411511611711811911021121221321421521621721821921031131231331431531631731831931041141241341441541641741841941051151251351451551651751851951061161261361461561661761861961071171271371471571671771871971081181281381481581681781881981091191291391491591691791891991002102202\n",
      "203\n",
      "526272829203132333435363738393041424344454647484940515253545556575859506162636465666768696071727374757677787970818283848586878889809192939495969798999001101201301401501601701801901011111211311411511611711811911021121221321421521621721821921031131231331431531631731831931041141241341441541641741841941051151251351451551651751851951061161261361461561661761861961071171271371471571671771871971081181281381481581681781881981091191291391491591691791891991002102202302\n",
      "204\n",
      "526272829203132333435363738393041424344454647484940515253545556575859506162636465666768696071727374757677787970818283848586878889809192939495969798999001101201301401501601701801901011111211311411511611711811911021121221321421521621721821921031131231331431531631731831931041141241341441541641741841941051151251351451551651751851951061161261361461561661761861961071171271371471571671771871971081181281381481581681781881981091191291391491591691791891991002102202302402\n",
      "205\n",
      "526272829203132333435363738393041424344454647484940515253545556575859506162636465666768696071727374757677787970818283848586878889809192939495969798999001101201301401501601701801901011111211311411511611711811911021121221321421521621721821921031131231331431531631731831931041141241341441541641741841941051151251351451551651751851951061161261361461561661761861961071171271371471571671771871971081181281381481581681781881981091191291391491591691791891991002102202302402502\n",
      "206\n",
      "526272829203132333435363738393041424344454647484940515253545556575859506162636465666768696071727374757677787970818283848586878889809192939495969798999001101201301401501601701801901011111211311411511611711811911021121221321421521621721821921031131231331431531631731831931041141241341441541641741841941051151251351451551651751851951061161261361461561661761861961071171271371471571671771871971081181281381481581681781881981091191291391491591691791891991002102202302402502602\n",
      "207\n",
      "526272829203132333435363738393041424344454647484940515253545556575859506162636465666768696071727374757677787970818283848586878889809192939495969798999001101201301401501601701801901011111211311411511611711811911021121221321421521621721821921031131231331431531631731831931041141241341441541641741841941051151251351451551651751851951061161261361461561661761861961071171271371471571671771871971081181281381481581681781881981091191291391491591691791891991002102202302402502602702\n",
      "208\n",
      "526272829203132333435363738393041424344454647484940515253545556575859506162636465666768696071727374757677787970818283848586878889809192939495969798999001101201301401501601701801901011111211311411511611711811911021121221321421521621721821921031131231331431531631731831931041141241341441541641741841941051151251351451551651751851951061161261361461561661761861961071171271371471571671771871971081181281381481581681781881981091191291391491591691791891991002102202302402502602702802\n",
      "209\n",
      "526272829203132333435363738393041424344454647484940515253545556575859506162636465666768696071727374757677787970818283848586878889809192939495969798999001101201301401501601701801901011111211311411511611711811911021121221321421521621721821921031131231331431531631731831931041141241341441541641741841941051151251351451551651751851951061161261361461561661761861961071171271371471571671771871971081181281381481581681781881981091191291391491591691791891991002102202302402502602702802902\n",
      "210\n",
      "526272829203132333435363738393041424344454647484940515253545556575859506162636465666768696071727374757677787970818283848586878889809192939495969798999001101201301401501601701801901011111211311411511611711811911021121221321421521621721821921031131231331431531631731831931041141241341441541641741841941051151251351451551651751851951061161261361461561661761861961071171271371471571671771871971081181281381481581681781881981091191291391491591691791891991002102202302402502602702802902012\n",
      "211\n",
      "526272829203132333435363738393041424344454647484940515253545556575859506162636465666768696071727374757677787970818283848586878889809192939495969798999001101201301401501601701801901011111211311411511611711811911021121221321421521621721821921031131231331431531631731831931041141241341441541641741841941051151251351451551651751851951061161261361461561661761861961071171271371471571671771871971081181281381481581681781881981091191291391491591691791891991002102202302402502602702802902012112\n",
      "212\n",
      "526272829203132333435363738393041424344454647484940515253545556575859506162636465666768696071727374757677787970818283848586878889809192939495969798999001101201301401501601701801901011111211311411511611711811911021121221321421521621721821921031131231331431531631731831931041141241341441541641741841941051151251351451551651751851951061161261361461561661761861961071171271371471571671771871971081181281381481581681781881981091191291391491591691791891991002102202302402502602702802902012112212\n",
      "213\n",
      "526272829203132333435363738393041424344454647484940515253545556575859506162636465666768696071727374757677787970818283848586878889809192939495969798999001101201301401501601701801901011111211311411511611711811911021121221321421521621721821921031131231331431531631731831931041141241341441541641741841941051151251351451551651751851951061161261361461561661761861961071171271371471571671771871971081181281381481581681781881981091191291391491591691791891991002102202302402502602702802902012112212312\n",
      "214\n",
      "526272829203132333435363738393041424344454647484940515253545556575859506162636465666768696071727374757677787970818283848586878889809192939495969798999001101201301401501601701801901011111211311411511611711811911021121221321421521621721821921031131231331431531631731831931041141241341441541641741841941051151251351451551651751851951061161261361461561661761861961071171271371471571671771871971081181281381481581681781881981091191291391491591691791891991002102202302402502602702802902012112212312412\n",
      "215\n",
      "526272829203132333435363738393041424344454647484940515253545556575859506162636465666768696071727374757677787970818283848586878889809192939495969798999001101201301401501601701801901011111211311411511611711811911021121221321421521621721821921031131231331431531631731831931041141241341441541641741841941051151251351451551651751851951061161261361461561661761861961071171271371471571671771871971081181281381481581681781881981091191291391491591691791891991002102202302402502602702802902012112212312412512\n",
      "216\n",
      "526272829203132333435363738393041424344454647484940515253545556575859506162636465666768696071727374757677787970818283848586878889809192939495969798999001101201301401501601701801901011111211311411511611711811911021121221321421521621721821921031131231331431531631731831931041141241341441541641741841941051151251351451551651751851951061161261361461561661761861961071171271371471571671771871971081181281381481581681781881981091191291391491591691791891991002102202302402502602702802902012112212312412512612\n",
      "217\n",
      "526272829203132333435363738393041424344454647484940515253545556575859506162636465666768696071727374757677787970818283848586878889809192939495969798999001101201301401501601701801901011111211311411511611711811911021121221321421521621721821921031131231331431531631731831931041141241341441541641741841941051151251351451551651751851951061161261361461561661761861961071171271371471571671771871971081181281381481581681781881981091191291391491591691791891991002102202302402502602702802902012112212312412512612712\n",
      "218\n",
      "526272829203132333435363738393041424344454647484940515253545556575859506162636465666768696071727374757677787970818283848586878889809192939495969798999001101201301401501601701801901011111211311411511611711811911021121221321421521621721821921031131231331431531631731831931041141241341441541641741841941051151251351451551651751851951061161261361461561661761861961071171271371471571671771871971081181281381481581681781881981091191291391491591691791891991002102202302402502602702802902012112212312412512612712812\n",
      "219\n",
      "526272829203132333435363738393041424344454647484940515253545556575859506162636465666768696071727374757677787970818283848586878889809192939495969798999001101201301401501601701801901011111211311411511611711811911021121221321421521621721821921031131231331431531631731831931041141241341441541641741841941051151251351451551651751851951061161261361461561661761861961071171271371471571671771871971081181281381481581681781881981091191291391491591691791891991002102202302402502602702802902012112212312412512612712812912\n",
      "220\n",
      "526272829203132333435363738393041424344454647484940515253545556575859506162636465666768696071727374757677787970818283848586878889809192939495969798999001101201301401501601701801901011111211311411511611711811911021121221321421521621721821921031131231331431531631731831931041141241341441541641741841941051151251351451551651751851951061161261361461561661761861961071171271371471571671771871971081181281381481581681781881981091191291391491591691791891991002102202302402502602702802902012112212312412512612712812912022\n",
      "221\n",
      "526272829203132333435363738393041424344454647484940515253545556575859506162636465666768696071727374757677787970818283848586878889809192939495969798999001101201301401501601701801901011111211311411511611711811911021121221321421521621721821921031131231331431531631731831931041141241341441541641741841941051151251351451551651751851951061161261361461561661761861961071171271371471571671771871971081181281381481581681781881981091191291391491591691791891991002102202302402502602702802902012112212312412512612712812912022122\n",
      "222\n",
      "526272829203132333435363738393041424344454647484940515253545556575859506162636465666768696071727374757677787970818283848586878889809192939495969798999001101201301401501601701801901011111211311411511611711811911021121221321421521621721821921031131231331431531631731831931041141241341441541641741841941051151251351451551651751851951061161261361461561661761861961071171271371471571671771871971081181281381481581681781881981091191291391491591691791891991002102202302402502602702802902012112212312412512612712812912022122222\n",
      "223\n",
      "526272829203132333435363738393041424344454647484940515253545556575859506162636465666768696071727374757677787970818283848586878889809192939495969798999001101201301401501601701801901011111211311411511611711811911021121221321421521621721821921031131231331431531631731831931041141241341441541641741841941051151251351451551651751851951061161261361461561661761861961071171271371471571671771871971081181281381481581681781881981091191291391491591691791891991002102202302402502602702802902012112212312412512612712812912022122222322\n",
      "224\n",
      "526272829203132333435363738393041424344454647484940515253545556575859506162636465666768696071727374757677787970818283848586878889809192939495969798999001101201301401501601701801901011111211311411511611711811911021121221321421521621721821921031131231331431531631731831931041141241341441541641741841941051151251351451551651751851951061161261361461561661761861961071171271371471571671771871971081181281381481581681781881981091191291391491591691791891991002102202302402502602702802902012112212312412512612712812912022122222322422\n",
      "225\n",
      "526272829203132333435363738393041424344454647484940515253545556575859506162636465666768696071727374757677787970818283848586878889809192939495969798999001101201301401501601701801901011111211311411511611711811911021121221321421521621721821921031131231331431531631731831931041141241341441541641741841941051151251351451551651751851951061161261361461561661761861961071171271371471571671771871971081181281381481581681781881981091191291391491591691791891991002102202302402502602702802902012112212312412512612712812912022122222322422522\n",
      "226\n",
      "526272829203132333435363738393041424344454647484940515253545556575859506162636465666768696071727374757677787970818283848586878889809192939495969798999001101201301401501601701801901011111211311411511611711811911021121221321421521621721821921031131231331431531631731831931041141241341441541641741841941051151251351451551651751851951061161261361461561661761861961071171271371471571671771871971081181281381481581681781881981091191291391491591691791891991002102202302402502602702802902012112212312412512612712812912022122222322422522622\n",
      "227\n",
      "526272829203132333435363738393041424344454647484940515253545556575859506162636465666768696071727374757677787970818283848586878889809192939495969798999001101201301401501601701801901011111211311411511611711811911021121221321421521621721821921031131231331431531631731831931041141241341441541641741841941051151251351451551651751851951061161261361461561661761861961071171271371471571671771871971081181281381481581681781881981091191291391491591691791891991002102202302402502602702802902012112212312412512612712812912022122222322422522622722\n",
      "228\n",
      "526272829203132333435363738393041424344454647484940515253545556575859506162636465666768696071727374757677787970818283848586878889809192939495969798999001101201301401501601701801901011111211311411511611711811911021121221321421521621721821921031131231331431531631731831931041141241341441541641741841941051151251351451551651751851951061161261361461561661761861961071171271371471571671771871971081181281381481581681781881981091191291391491591691791891991002102202302402502602702802902012112212312412512612712812912022122222322422522622722822\n",
      "229\n",
      "526272829203132333435363738393041424344454647484940515253545556575859506162636465666768696071727374757677787970818283848586878889809192939495969798999001101201301401501601701801901011111211311411511611711811911021121221321421521621721821921031131231331431531631731831931041141241341441541641741841941051151251351451551651751851951061161261361461561661761861961071171271371471571671771871971081181281381481581681781881981091191291391491591691791891991002102202302402502602702802902012112212312412512612712812912022122222322422522622722822922\n",
      "230\n",
      "526272829203132333435363738393041424344454647484940515253545556575859506162636465666768696071727374757677787970818283848586878889809192939495969798999001101201301401501601701801901011111211311411511611711811911021121221321421521621721821921031131231331431531631731831931041141241341441541641741841941051151251351451551651751851951061161261361461561661761861961071171271371471571671771871971081181281381481581681781881981091191291391491591691791891991002102202302402502602702802902012112212312412512612712812912022122222322422522622722822922032\n",
      "231\n",
      "526272829203132333435363738393041424344454647484940515253545556575859506162636465666768696071727374757677787970818283848586878889809192939495969798999001101201301401501601701801901011111211311411511611711811911021121221321421521621721821921031131231331431531631731831931041141241341441541641741841941051151251351451551651751851951061161261361461561661761861961071171271371471571671771871971081181281381481581681781881981091191291391491591691791891991002102202302402502602702802902012112212312412512612712812912022122222322422522622722822922032132\n",
      "232\n",
      "526272829203132333435363738393041424344454647484940515253545556575859506162636465666768696071727374757677787970818283848586878889809192939495969798999001101201301401501601701801901011111211311411511611711811911021121221321421521621721821921031131231331431531631731831931041141241341441541641741841941051151251351451551651751851951061161261361461561661761861961071171271371471571671771871971081181281381481581681781881981091191291391491591691791891991002102202302402502602702802902012112212312412512612712812912022122222322422522622722822922032132232\n",
      "233\n",
      "526272829203132333435363738393041424344454647484940515253545556575859506162636465666768696071727374757677787970818283848586878889809192939495969798999001101201301401501601701801901011111211311411511611711811911021121221321421521621721821921031131231331431531631731831931041141241341441541641741841941051151251351451551651751851951061161261361461561661761861961071171271371471571671771871971081181281381481581681781881981091191291391491591691791891991002102202302402502602702802902012112212312412512612712812912022122222322422522622722822922032132232332\n",
      "234\n",
      "526272829203132333435363738393041424344454647484940515253545556575859506162636465666768696071727374757677787970818283848586878889809192939495969798999001101201301401501601701801901011111211311411511611711811911021121221321421521621721821921031131231331431531631731831931041141241341441541641741841941051151251351451551651751851951061161261361461561661761861961071171271371471571671771871971081181281381481581681781881981091191291391491591691791891991002102202302402502602702802902012112212312412512612712812912022122222322422522622722822922032132232332432\n",
      "235\n",
      "526272829203132333435363738393041424344454647484940515253545556575859506162636465666768696071727374757677787970818283848586878889809192939495969798999001101201301401501601701801901011111211311411511611711811911021121221321421521621721821921031131231331431531631731831931041141241341441541641741841941051151251351451551651751851951061161261361461561661761861961071171271371471571671771871971081181281381481581681781881981091191291391491591691791891991002102202302402502602702802902012112212312412512612712812912022122222322422522622722822922032132232332432532\n",
      "236\n",
      "526272829203132333435363738393041424344454647484940515253545556575859506162636465666768696071727374757677787970818283848586878889809192939495969798999001101201301401501601701801901011111211311411511611711811911021121221321421521621721821921031131231331431531631731831931041141241341441541641741841941051151251351451551651751851951061161261361461561661761861961071171271371471571671771871971081181281381481581681781881981091191291391491591691791891991002102202302402502602702802902012112212312412512612712812912022122222322422522622722822922032132232332432532632\n",
      "237\n",
      "526272829203132333435363738393041424344454647484940515253545556575859506162636465666768696071727374757677787970818283848586878889809192939495969798999001101201301401501601701801901011111211311411511611711811911021121221321421521621721821921031131231331431531631731831931041141241341441541641741841941051151251351451551651751851951061161261361461561661761861961071171271371471571671771871971081181281381481581681781881981091191291391491591691791891991002102202302402502602702802902012112212312412512612712812912022122222322422522622722822922032132232332432532632732\n",
      "238\n",
      "526272829203132333435363738393041424344454647484940515253545556575859506162636465666768696071727374757677787970818283848586878889809192939495969798999001101201301401501601701801901011111211311411511611711811911021121221321421521621721821921031131231331431531631731831931041141241341441541641741841941051151251351451551651751851951061161261361461561661761861961071171271371471571671771871971081181281381481581681781881981091191291391491591691791891991002102202302402502602702802902012112212312412512612712812912022122222322422522622722822922032132232332432532632732832\n",
      "239\n",
      "526272829203132333435363738393041424344454647484940515253545556575859506162636465666768696071727374757677787970818283848586878889809192939495969798999001101201301401501601701801901011111211311411511611711811911021121221321421521621721821921031131231331431531631731831931041141241341441541641741841941051151251351451551651751851951061161261361461561661761861961071171271371471571671771871971081181281381481581681781881981091191291391491591691791891991002102202302402502602702802902012112212312412512612712812912022122222322422522622722822922032132232332432532632732832932\n",
      "240\n",
      "526272829203132333435363738393041424344454647484940515253545556575859506162636465666768696071727374757677787970818283848586878889809192939495969798999001101201301401501601701801901011111211311411511611711811911021121221321421521621721821921031131231331431531631731831931041141241341441541641741841941051151251351451551651751851951061161261361461561661761861961071171271371471571671771871971081181281381481581681781881981091191291391491591691791891991002102202302402502602702802902012112212312412512612712812912022122222322422522622722822922032132232332432532632732832932042\n",
      "241\n",
      "526272829203132333435363738393041424344454647484940515253545556575859506162636465666768696071727374757677787970818283848586878889809192939495969798999001101201301401501601701801901011111211311411511611711811911021121221321421521621721821921031131231331431531631731831931041141241341441541641741841941051151251351451551651751851951061161261361461561661761861961071171271371471571671771871971081181281381481581681781881981091191291391491591691791891991002102202302402502602702802902012112212312412512612712812912022122222322422522622722822922032132232332432532632732832932042142\n",
      "242\n",
      "526272829203132333435363738393041424344454647484940515253545556575859506162636465666768696071727374757677787970818283848586878889809192939495969798999001101201301401501601701801901011111211311411511611711811911021121221321421521621721821921031131231331431531631731831931041141241341441541641741841941051151251351451551651751851951061161261361461561661761861961071171271371471571671771871971081181281381481581681781881981091191291391491591691791891991002102202302402502602702802902012112212312412512612712812912022122222322422522622722822922032132232332432532632732832932042142242\n",
      "243\n",
      "526272829203132333435363738393041424344454647484940515253545556575859506162636465666768696071727374757677787970818283848586878889809192939495969798999001101201301401501601701801901011111211311411511611711811911021121221321421521621721821921031131231331431531631731831931041141241341441541641741841941051151251351451551651751851951061161261361461561661761861961071171271371471571671771871971081181281381481581681781881981091191291391491591691791891991002102202302402502602702802902012112212312412512612712812912022122222322422522622722822922032132232332432532632732832932042142242342\n",
      "244\n",
      "526272829203132333435363738393041424344454647484940515253545556575859506162636465666768696071727374757677787970818283848586878889809192939495969798999001101201301401501601701801901011111211311411511611711811911021121221321421521621721821921031131231331431531631731831931041141241341441541641741841941051151251351451551651751851951061161261361461561661761861961071171271371471571671771871971081181281381481581681781881981091191291391491591691791891991002102202302402502602702802902012112212312412512612712812912022122222322422522622722822922032132232332432532632732832932042142242342442\n",
      "245\n",
      "526272829203132333435363738393041424344454647484940515253545556575859506162636465666768696071727374757677787970818283848586878889809192939495969798999001101201301401501601701801901011111211311411511611711811911021121221321421521621721821921031131231331431531631731831931041141241341441541641741841941051151251351451551651751851951061161261361461561661761861961071171271371471571671771871971081181281381481581681781881981091191291391491591691791891991002102202302402502602702802902012112212312412512612712812912022122222322422522622722822922032132232332432532632732832932042142242342442542\n",
      "246\n",
      "526272829203132333435363738393041424344454647484940515253545556575859506162636465666768696071727374757677787970818283848586878889809192939495969798999001101201301401501601701801901011111211311411511611711811911021121221321421521621721821921031131231331431531631731831931041141241341441541641741841941051151251351451551651751851951061161261361461561661761861961071171271371471571671771871971081181281381481581681781881981091191291391491591691791891991002102202302402502602702802902012112212312412512612712812912022122222322422522622722822922032132232332432532632732832932042142242342442542642\n",
      "247\n",
      "526272829203132333435363738393041424344454647484940515253545556575859506162636465666768696071727374757677787970818283848586878889809192939495969798999001101201301401501601701801901011111211311411511611711811911021121221321421521621721821921031131231331431531631731831931041141241341441541641741841941051151251351451551651751851951061161261361461561661761861961071171271371471571671771871971081181281381481581681781881981091191291391491591691791891991002102202302402502602702802902012112212312412512612712812912022122222322422522622722822922032132232332432532632732832932042142242342442542642742\n",
      "248\n",
      "526272829203132333435363738393041424344454647484940515253545556575859506162636465666768696071727374757677787970818283848586878889809192939495969798999001101201301401501601701801901011111211311411511611711811911021121221321421521621721821921031131231331431531631731831931041141241341441541641741841941051151251351451551651751851951061161261361461561661761861961071171271371471571671771871971081181281381481581681781881981091191291391491591691791891991002102202302402502602702802902012112212312412512612712812912022122222322422522622722822922032132232332432532632732832932042142242342442542642742842\n",
      "249\n",
      "526272829203132333435363738393041424344454647484940515253545556575859506162636465666768696071727374757677787970818283848586878889809192939495969798999001101201301401501601701801901011111211311411511611711811911021121221321421521621721821921031131231331431531631731831931041141241341441541641741841941051151251351451551651751851951061161261361461561661761861961071171271371471571671771871971081181281381481581681781881981091191291391491591691791891991002102202302402502602702802902012112212312412512612712812912022122222322422522622722822922032132232332432532632732832932042142242342442542642742842942\n",
      "250\n",
      "526272829203132333435363738393041424344454647484940515253545556575859506162636465666768696071727374757677787970818283848586878889809192939495969798999001101201301401501601701801901011111211311411511611711811911021121221321421521621721821921031131231331431531631731831931041141241341441541641741841941051151251351451551651751851951061161261361461561661761861961071171271371471571671771871971081181281381481581681781881981091191291391491591691791891991002102202302402502602702802902012112212312412512612712812912022122222322422522622722822922032132232332432532632732832932042142242342442542642742842942052\n",
      "251\n",
      "526272829203132333435363738393041424344454647484940515253545556575859506162636465666768696071727374757677787970818283848586878889809192939495969798999001101201301401501601701801901011111211311411511611711811911021121221321421521621721821921031131231331431531631731831931041141241341441541641741841941051151251351451551651751851951061161261361461561661761861961071171271371471571671771871971081181281381481581681781881981091191291391491591691791891991002102202302402502602702802902012112212312412512612712812912022122222322422522622722822922032132232332432532632732832932042142242342442542642742842942052152\n",
      "252\n",
      "526272829203132333435363738393041424344454647484940515253545556575859506162636465666768696071727374757677787970818283848586878889809192939495969798999001101201301401501601701801901011111211311411511611711811911021121221321421521621721821921031131231331431531631731831931041141241341441541641741841941051151251351451551651751851951061161261361461561661761861961071171271371471571671771871971081181281381481581681781881981091191291391491591691791891991002102202302402502602702802902012112212312412512612712812912022122222322422522622722822922032132232332432532632732832932042142242342442542642742842942052152252\n",
      "253\n",
      "526272829203132333435363738393041424344454647484940515253545556575859506162636465666768696071727374757677787970818283848586878889809192939495969798999001101201301401501601701801901011111211311411511611711811911021121221321421521621721821921031131231331431531631731831931041141241341441541641741841941051151251351451551651751851951061161261361461561661761861961071171271371471571671771871971081181281381481581681781881981091191291391491591691791891991002102202302402502602702802902012112212312412512612712812912022122222322422522622722822922032132232332432532632732832932042142242342442542642742842942052152252352\n",
      "254\n",
      "526272829203132333435363738393041424344454647484940515253545556575859506162636465666768696071727374757677787970818283848586878889809192939495969798999001101201301401501601701801901011111211311411511611711811911021121221321421521621721821921031131231331431531631731831931041141241341441541641741841941051151251351451551651751851951061161261361461561661761861961071171271371471571671771871971081181281381481581681781881981091191291391491591691791891991002102202302402502602702802902012112212312412512612712812912022122222322422522622722822922032132232332432532632732832932042142242342442542642742842942052152252352452\n",
      "255\n",
      "526272829203132333435363738393041424344454647484940515253545556575859506162636465666768696071727374757677787970818283848586878889809192939495969798999001101201301401501601701801901011111211311411511611711811911021121221321421521621721821921031131231331431531631731831931041141241341441541641741841941051151251351451551651751851951061161261361461561661761861961071171271371471571671771871971081181281381481581681781881981091191291391491591691791891991002102202302402502602702802902012112212312412512612712812912022122222322422522622722822922032132232332432532632732832932042142242342442542642742842942052152252352452552\n",
      "256\n",
      "526272829203132333435363738393041424344454647484940515253545556575859506162636465666768696071727374757677787970818283848586878889809192939495969798999001101201301401501601701801901011111211311411511611711811911021121221321421521621721821921031131231331431531631731831931041141241341441541641741841941051151251351451551651751851951061161261361461561661761861961071171271371471571671771871971081181281381481581681781881981091191291391491591691791891991002102202302402502602702802902012112212312412512612712812912022122222322422522622722822922032132232332432532632732832932042142242342442542642742842942052152252352452552652\n",
      "257\n",
      "526272829203132333435363738393041424344454647484940515253545556575859506162636465666768696071727374757677787970818283848586878889809192939495969798999001101201301401501601701801901011111211311411511611711811911021121221321421521621721821921031131231331431531631731831931041141241341441541641741841941051151251351451551651751851951061161261361461561661761861961071171271371471571671771871971081181281381481581681781881981091191291391491591691791891991002102202302402502602702802902012112212312412512612712812912022122222322422522622722822922032132232332432532632732832932042142242342442542642742842942052152252352452552652752\n",
      "258\n",
      "526272829203132333435363738393041424344454647484940515253545556575859506162636465666768696071727374757677787970818283848586878889809192939495969798999001101201301401501601701801901011111211311411511611711811911021121221321421521621721821921031131231331431531631731831931041141241341441541641741841941051151251351451551651751851951061161261361461561661761861961071171271371471571671771871971081181281381481581681781881981091191291391491591691791891991002102202302402502602702802902012112212312412512612712812912022122222322422522622722822922032132232332432532632732832932042142242342442542642742842942052152252352452552652752852\n",
      "259\n",
      "526272829203132333435363738393041424344454647484940515253545556575859506162636465666768696071727374757677787970818283848586878889809192939495969798999001101201301401501601701801901011111211311411511611711811911021121221321421521621721821921031131231331431531631731831931041141241341441541641741841941051151251351451551651751851951061161261361461561661761861961071171271371471571671771871971081181281381481581681781881981091191291391491591691791891991002102202302402502602702802902012112212312412512612712812912022122222322422522622722822922032132232332432532632732832932042142242342442542642742842942052152252352452552652752852952\n",
      "260\n",
      "526272829203132333435363738393041424344454647484940515253545556575859506162636465666768696071727374757677787970818283848586878889809192939495969798999001101201301401501601701801901011111211311411511611711811911021121221321421521621721821921031131231331431531631731831931041141241341441541641741841941051151251351451551651751851951061161261361461561661761861961071171271371471571671771871971081181281381481581681781881981091191291391491591691791891991002102202302402502602702802902012112212312412512612712812912022122222322422522622722822922032132232332432532632732832932042142242342442542642742842942052152252352452552652752852952062\n",
      "261\n",
      "526272829203132333435363738393041424344454647484940515253545556575859506162636465666768696071727374757677787970818283848586878889809192939495969798999001101201301401501601701801901011111211311411511611711811911021121221321421521621721821921031131231331431531631731831931041141241341441541641741841941051151251351451551651751851951061161261361461561661761861961071171271371471571671771871971081181281381481581681781881981091191291391491591691791891991002102202302402502602702802902012112212312412512612712812912022122222322422522622722822922032132232332432532632732832932042142242342442542642742842942052152252352452552652752852952062162\n",
      "262\n",
      "526272829203132333435363738393041424344454647484940515253545556575859506162636465666768696071727374757677787970818283848586878889809192939495969798999001101201301401501601701801901011111211311411511611711811911021121221321421521621721821921031131231331431531631731831931041141241341441541641741841941051151251351451551651751851951061161261361461561661761861961071171271371471571671771871971081181281381481581681781881981091191291391491591691791891991002102202302402502602702802902012112212312412512612712812912022122222322422522622722822922032132232332432532632732832932042142242342442542642742842942052152252352452552652752852952062162262\n",
      "263\n",
      "526272829203132333435363738393041424344454647484940515253545556575859506162636465666768696071727374757677787970818283848586878889809192939495969798999001101201301401501601701801901011111211311411511611711811911021121221321421521621721821921031131231331431531631731831931041141241341441541641741841941051151251351451551651751851951061161261361461561661761861961071171271371471571671771871971081181281381481581681781881981091191291391491591691791891991002102202302402502602702802902012112212312412512612712812912022122222322422522622722822922032132232332432532632732832932042142242342442542642742842942052152252352452552652752852952062162262362\n",
      "264\n",
      "526272829203132333435363738393041424344454647484940515253545556575859506162636465666768696071727374757677787970818283848586878889809192939495969798999001101201301401501601701801901011111211311411511611711811911021121221321421521621721821921031131231331431531631731831931041141241341441541641741841941051151251351451551651751851951061161261361461561661761861961071171271371471571671771871971081181281381481581681781881981091191291391491591691791891991002102202302402502602702802902012112212312412512612712812912022122222322422522622722822922032132232332432532632732832932042142242342442542642742842942052152252352452552652752852952062162262362462\n",
      "265\n",
      "526272829203132333435363738393041424344454647484940515253545556575859506162636465666768696071727374757677787970818283848586878889809192939495969798999001101201301401501601701801901011111211311411511611711811911021121221321421521621721821921031131231331431531631731831931041141241341441541641741841941051151251351451551651751851951061161261361461561661761861961071171271371471571671771871971081181281381481581681781881981091191291391491591691791891991002102202302402502602702802902012112212312412512612712812912022122222322422522622722822922032132232332432532632732832932042142242342442542642742842942052152252352452552652752852952062162262362462562\n",
      "266\n",
      "526272829203132333435363738393041424344454647484940515253545556575859506162636465666768696071727374757677787970818283848586878889809192939495969798999001101201301401501601701801901011111211311411511611711811911021121221321421521621721821921031131231331431531631731831931041141241341441541641741841941051151251351451551651751851951061161261361461561661761861961071171271371471571671771871971081181281381481581681781881981091191291391491591691791891991002102202302402502602702802902012112212312412512612712812912022122222322422522622722822922032132232332432532632732832932042142242342442542642742842942052152252352452552652752852952062162262362462562662\n",
      "267\n",
      "526272829203132333435363738393041424344454647484940515253545556575859506162636465666768696071727374757677787970818283848586878889809192939495969798999001101201301401501601701801901011111211311411511611711811911021121221321421521621721821921031131231331431531631731831931041141241341441541641741841941051151251351451551651751851951061161261361461561661761861961071171271371471571671771871971081181281381481581681781881981091191291391491591691791891991002102202302402502602702802902012112212312412512612712812912022122222322422522622722822922032132232332432532632732832932042142242342442542642742842942052152252352452552652752852952062162262362462562662762\n",
      "268\n",
      "526272829203132333435363738393041424344454647484940515253545556575859506162636465666768696071727374757677787970818283848586878889809192939495969798999001101201301401501601701801901011111211311411511611711811911021121221321421521621721821921031131231331431531631731831931041141241341441541641741841941051151251351451551651751851951061161261361461561661761861961071171271371471571671771871971081181281381481581681781881981091191291391491591691791891991002102202302402502602702802902012112212312412512612712812912022122222322422522622722822922032132232332432532632732832932042142242342442542642742842942052152252352452552652752852952062162262362462562662762862\n",
      "269\n",
      "526272829203132333435363738393041424344454647484940515253545556575859506162636465666768696071727374757677787970818283848586878889809192939495969798999001101201301401501601701801901011111211311411511611711811911021121221321421521621721821921031131231331431531631731831931041141241341441541641741841941051151251351451551651751851951061161261361461561661761861961071171271371471571671771871971081181281381481581681781881981091191291391491591691791891991002102202302402502602702802902012112212312412512612712812912022122222322422522622722822922032132232332432532632732832932042142242342442542642742842942052152252352452552652752852952062162262362462562662762862962\n",
      "270\n",
      "526272829203132333435363738393041424344454647484940515253545556575859506162636465666768696071727374757677787970818283848586878889809192939495969798999001101201301401501601701801901011111211311411511611711811911021121221321421521621721821921031131231331431531631731831931041141241341441541641741841941051151251351451551651751851951061161261361461561661761861961071171271371471571671771871971081181281381481581681781881981091191291391491591691791891991002102202302402502602702802902012112212312412512612712812912022122222322422522622722822922032132232332432532632732832932042142242342442542642742842942052152252352452552652752852952062162262362462562662762862962072\n",
      "271\n",
      "526272829203132333435363738393041424344454647484940515253545556575859506162636465666768696071727374757677787970818283848586878889809192939495969798999001101201301401501601701801901011111211311411511611711811911021121221321421521621721821921031131231331431531631731831931041141241341441541641741841941051151251351451551651751851951061161261361461561661761861961071171271371471571671771871971081181281381481581681781881981091191291391491591691791891991002102202302402502602702802902012112212312412512612712812912022122222322422522622722822922032132232332432532632732832932042142242342442542642742842942052152252352452552652752852952062162262362462562662762862962072172\n",
      "272\n",
      "526272829203132333435363738393041424344454647484940515253545556575859506162636465666768696071727374757677787970818283848586878889809192939495969798999001101201301401501601701801901011111211311411511611711811911021121221321421521621721821921031131231331431531631731831931041141241341441541641741841941051151251351451551651751851951061161261361461561661761861961071171271371471571671771871971081181281381481581681781881981091191291391491591691791891991002102202302402502602702802902012112212312412512612712812912022122222322422522622722822922032132232332432532632732832932042142242342442542642742842942052152252352452552652752852952062162262362462562662762862962072172272\n",
      "273\n",
      "526272829203132333435363738393041424344454647484940515253545556575859506162636465666768696071727374757677787970818283848586878889809192939495969798999001101201301401501601701801901011111211311411511611711811911021121221321421521621721821921031131231331431531631731831931041141241341441541641741841941051151251351451551651751851951061161261361461561661761861961071171271371471571671771871971081181281381481581681781881981091191291391491591691791891991002102202302402502602702802902012112212312412512612712812912022122222322422522622722822922032132232332432532632732832932042142242342442542642742842942052152252352452552652752852952062162262362462562662762862962072172272372\n",
      "274\n",
      "526272829203132333435363738393041424344454647484940515253545556575859506162636465666768696071727374757677787970818283848586878889809192939495969798999001101201301401501601701801901011111211311411511611711811911021121221321421521621721821921031131231331431531631731831931041141241341441541641741841941051151251351451551651751851951061161261361461561661761861961071171271371471571671771871971081181281381481581681781881981091191291391491591691791891991002102202302402502602702802902012112212312412512612712812912022122222322422522622722822922032132232332432532632732832932042142242342442542642742842942052152252352452552652752852952062162262362462562662762862962072172272372472\n",
      "275\n",
      "526272829203132333435363738393041424344454647484940515253545556575859506162636465666768696071727374757677787970818283848586878889809192939495969798999001101201301401501601701801901011111211311411511611711811911021121221321421521621721821921031131231331431531631731831931041141241341441541641741841941051151251351451551651751851951061161261361461561661761861961071171271371471571671771871971081181281381481581681781881981091191291391491591691791891991002102202302402502602702802902012112212312412512612712812912022122222322422522622722822922032132232332432532632732832932042142242342442542642742842942052152252352452552652752852952062162262362462562662762862962072172272372472572\n",
      "276\n",
      "526272829203132333435363738393041424344454647484940515253545556575859506162636465666768696071727374757677787970818283848586878889809192939495969798999001101201301401501601701801901011111211311411511611711811911021121221321421521621721821921031131231331431531631731831931041141241341441541641741841941051151251351451551651751851951061161261361461561661761861961071171271371471571671771871971081181281381481581681781881981091191291391491591691791891991002102202302402502602702802902012112212312412512612712812912022122222322422522622722822922032132232332432532632732832932042142242342442542642742842942052152252352452552652752852952062162262362462562662762862962072172272372472572672\n",
      "277\n",
      "526272829203132333435363738393041424344454647484940515253545556575859506162636465666768696071727374757677787970818283848586878889809192939495969798999001101201301401501601701801901011111211311411511611711811911021121221321421521621721821921031131231331431531631731831931041141241341441541641741841941051151251351451551651751851951061161261361461561661761861961071171271371471571671771871971081181281381481581681781881981091191291391491591691791891991002102202302402502602702802902012112212312412512612712812912022122222322422522622722822922032132232332432532632732832932042142242342442542642742842942052152252352452552652752852952062162262362462562662762862962072172272372472572672772\n",
      "278\n",
      "526272829203132333435363738393041424344454647484940515253545556575859506162636465666768696071727374757677787970818283848586878889809192939495969798999001101201301401501601701801901011111211311411511611711811911021121221321421521621721821921031131231331431531631731831931041141241341441541641741841941051151251351451551651751851951061161261361461561661761861961071171271371471571671771871971081181281381481581681781881981091191291391491591691791891991002102202302402502602702802902012112212312412512612712812912022122222322422522622722822922032132232332432532632732832932042142242342442542642742842942052152252352452552652752852952062162262362462562662762862962072172272372472572672772872\n",
      "279\n",
      "526272829203132333435363738393041424344454647484940515253545556575859506162636465666768696071727374757677787970818283848586878889809192939495969798999001101201301401501601701801901011111211311411511611711811911021121221321421521621721821921031131231331431531631731831931041141241341441541641741841941051151251351451551651751851951061161261361461561661761861961071171271371471571671771871971081181281381481581681781881981091191291391491591691791891991002102202302402502602702802902012112212312412512612712812912022122222322422522622722822922032132232332432532632732832932042142242342442542642742842942052152252352452552652752852952062162262362462562662762862962072172272372472572672772872972\n",
      "280\n",
      "526272829203132333435363738393041424344454647484940515253545556575859506162636465666768696071727374757677787970818283848586878889809192939495969798999001101201301401501601701801901011111211311411511611711811911021121221321421521621721821921031131231331431531631731831931041141241341441541641741841941051151251351451551651751851951061161261361461561661761861961071171271371471571671771871971081181281381481581681781881981091191291391491591691791891991002102202302402502602702802902012112212312412512612712812912022122222322422522622722822922032132232332432532632732832932042142242342442542642742842942052152252352452552652752852952062162262362462562662762862962072172272372472572672772872972082\n",
      "281\n",
      "526272829203132333435363738393041424344454647484940515253545556575859506162636465666768696071727374757677787970818283848586878889809192939495969798999001101201301401501601701801901011111211311411511611711811911021121221321421521621721821921031131231331431531631731831931041141241341441541641741841941051151251351451551651751851951061161261361461561661761861961071171271371471571671771871971081181281381481581681781881981091191291391491591691791891991002102202302402502602702802902012112212312412512612712812912022122222322422522622722822922032132232332432532632732832932042142242342442542642742842942052152252352452552652752852952062162262362462562662762862962072172272372472572672772872972082182\n",
      "282\n",
      "526272829203132333435363738393041424344454647484940515253545556575859506162636465666768696071727374757677787970818283848586878889809192939495969798999001101201301401501601701801901011111211311411511611711811911021121221321421521621721821921031131231331431531631731831931041141241341441541641741841941051151251351451551651751851951061161261361461561661761861961071171271371471571671771871971081181281381481581681781881981091191291391491591691791891991002102202302402502602702802902012112212312412512612712812912022122222322422522622722822922032132232332432532632732832932042142242342442542642742842942052152252352452552652752852952062162262362462562662762862962072172272372472572672772872972082182282\n",
      "283\n",
      "526272829203132333435363738393041424344454647484940515253545556575859506162636465666768696071727374757677787970818283848586878889809192939495969798999001101201301401501601701801901011111211311411511611711811911021121221321421521621721821921031131231331431531631731831931041141241341441541641741841941051151251351451551651751851951061161261361461561661761861961071171271371471571671771871971081181281381481581681781881981091191291391491591691791891991002102202302402502602702802902012112212312412512612712812912022122222322422522622722822922032132232332432532632732832932042142242342442542642742842942052152252352452552652752852952062162262362462562662762862962072172272372472572672772872972082182282382\n",
      "284\n",
      "526272829203132333435363738393041424344454647484940515253545556575859506162636465666768696071727374757677787970818283848586878889809192939495969798999001101201301401501601701801901011111211311411511611711811911021121221321421521621721821921031131231331431531631731831931041141241341441541641741841941051151251351451551651751851951061161261361461561661761861961071171271371471571671771871971081181281381481581681781881981091191291391491591691791891991002102202302402502602702802902012112212312412512612712812912022122222322422522622722822922032132232332432532632732832932042142242342442542642742842942052152252352452552652752852952062162262362462562662762862962072172272372472572672772872972082182282382482\n",
      "285\n",
      "526272829203132333435363738393041424344454647484940515253545556575859506162636465666768696071727374757677787970818283848586878889809192939495969798999001101201301401501601701801901011111211311411511611711811911021121221321421521621721821921031131231331431531631731831931041141241341441541641741841941051151251351451551651751851951061161261361461561661761861961071171271371471571671771871971081181281381481581681781881981091191291391491591691791891991002102202302402502602702802902012112212312412512612712812912022122222322422522622722822922032132232332432532632732832932042142242342442542642742842942052152252352452552652752852952062162262362462562662762862962072172272372472572672772872972082182282382482582\n",
      "286\n",
      "526272829203132333435363738393041424344454647484940515253545556575859506162636465666768696071727374757677787970818283848586878889809192939495969798999001101201301401501601701801901011111211311411511611711811911021121221321421521621721821921031131231331431531631731831931041141241341441541641741841941051151251351451551651751851951061161261361461561661761861961071171271371471571671771871971081181281381481581681781881981091191291391491591691791891991002102202302402502602702802902012112212312412512612712812912022122222322422522622722822922032132232332432532632732832932042142242342442542642742842942052152252352452552652752852952062162262362462562662762862962072172272372472572672772872972082182282382482582682\n",
      "287\n",
      "526272829203132333435363738393041424344454647484940515253545556575859506162636465666768696071727374757677787970818283848586878889809192939495969798999001101201301401501601701801901011111211311411511611711811911021121221321421521621721821921031131231331431531631731831931041141241341441541641741841941051151251351451551651751851951061161261361461561661761861961071171271371471571671771871971081181281381481581681781881981091191291391491591691791891991002102202302402502602702802902012112212312412512612712812912022122222322422522622722822922032132232332432532632732832932042142242342442542642742842942052152252352452552652752852952062162262362462562662762862962072172272372472572672772872972082182282382482582682782\n",
      "288\n",
      "526272829203132333435363738393041424344454647484940515253545556575859506162636465666768696071727374757677787970818283848586878889809192939495969798999001101201301401501601701801901011111211311411511611711811911021121221321421521621721821921031131231331431531631731831931041141241341441541641741841941051151251351451551651751851951061161261361461561661761861961071171271371471571671771871971081181281381481581681781881981091191291391491591691791891991002102202302402502602702802902012112212312412512612712812912022122222322422522622722822922032132232332432532632732832932042142242342442542642742842942052152252352452552652752852952062162262362462562662762862962072172272372472572672772872972082182282382482582682782882\n",
      "289\n",
      "526272829203132333435363738393041424344454647484940515253545556575859506162636465666768696071727374757677787970818283848586878889809192939495969798999001101201301401501601701801901011111211311411511611711811911021121221321421521621721821921031131231331431531631731831931041141241341441541641741841941051151251351451551651751851951061161261361461561661761861961071171271371471571671771871971081181281381481581681781881981091191291391491591691791891991002102202302402502602702802902012112212312412512612712812912022122222322422522622722822922032132232332432532632732832932042142242342442542642742842942052152252352452552652752852952062162262362462562662762862962072172272372472572672772872972082182282382482582682782882982\n",
      "290\n",
      "526272829203132333435363738393041424344454647484940515253545556575859506162636465666768696071727374757677787970818283848586878889809192939495969798999001101201301401501601701801901011111211311411511611711811911021121221321421521621721821921031131231331431531631731831931041141241341441541641741841941051151251351451551651751851951061161261361461561661761861961071171271371471571671771871971081181281381481581681781881981091191291391491591691791891991002102202302402502602702802902012112212312412512612712812912022122222322422522622722822922032132232332432532632732832932042142242342442542642742842942052152252352452552652752852952062162262362462562662762862962072172272372472572672772872972082182282382482582682782882982092\n",
      "291\n",
      "526272829203132333435363738393041424344454647484940515253545556575859506162636465666768696071727374757677787970818283848586878889809192939495969798999001101201301401501601701801901011111211311411511611711811911021121221321421521621721821921031131231331431531631731831931041141241341441541641741841941051151251351451551651751851951061161261361461561661761861961071171271371471571671771871971081181281381481581681781881981091191291391491591691791891991002102202302402502602702802902012112212312412512612712812912022122222322422522622722822922032132232332432532632732832932042142242342442542642742842942052152252352452552652752852952062162262362462562662762862962072172272372472572672772872972082182282382482582682782882982092192\n",
      "292\n",
      "526272829203132333435363738393041424344454647484940515253545556575859506162636465666768696071727374757677787970818283848586878889809192939495969798999001101201301401501601701801901011111211311411511611711811911021121221321421521621721821921031131231331431531631731831931041141241341441541641741841941051151251351451551651751851951061161261361461561661761861961071171271371471571671771871971081181281381481581681781881981091191291391491591691791891991002102202302402502602702802902012112212312412512612712812912022122222322422522622722822922032132232332432532632732832932042142242342442542642742842942052152252352452552652752852952062162262362462562662762862962072172272372472572672772872972082182282382482582682782882982092192292\n",
      "293\n",
      "526272829203132333435363738393041424344454647484940515253545556575859506162636465666768696071727374757677787970818283848586878889809192939495969798999001101201301401501601701801901011111211311411511611711811911021121221321421521621721821921031131231331431531631731831931041141241341441541641741841941051151251351451551651751851951061161261361461561661761861961071171271371471571671771871971081181281381481581681781881981091191291391491591691791891991002102202302402502602702802902012112212312412512612712812912022122222322422522622722822922032132232332432532632732832932042142242342442542642742842942052152252352452552652752852952062162262362462562662762862962072172272372472572672772872972082182282382482582682782882982092192292392\n",
      "294\n"
     ]
    },
    {
     "name": "stdout",
     "output_type": "stream",
     "text": [
      "526272829203132333435363738393041424344454647484940515253545556575859506162636465666768696071727374757677787970818283848586878889809192939495969798999001101201301401501601701801901011111211311411511611711811911021121221321421521621721821921031131231331431531631731831931041141241341441541641741841941051151251351451551651751851951061161261361461561661761861961071171271371471571671771871971081181281381481581681781881981091191291391491591691791891991002102202302402502602702802902012112212312412512612712812912022122222322422522622722822922032132232332432532632732832932042142242342442542642742842942052152252352452552652752852952062162262362462562662762862962072172272372472572672772872972082182282382482582682782882982092192292392492\n",
      "295\n",
      "526272829203132333435363738393041424344454647484940515253545556575859506162636465666768696071727374757677787970818283848586878889809192939495969798999001101201301401501601701801901011111211311411511611711811911021121221321421521621721821921031131231331431531631731831931041141241341441541641741841941051151251351451551651751851951061161261361461561661761861961071171271371471571671771871971081181281381481581681781881981091191291391491591691791891991002102202302402502602702802902012112212312412512612712812912022122222322422522622722822922032132232332432532632732832932042142242342442542642742842942052152252352452552652752852952062162262362462562662762862962072172272372472572672772872972082182282382482582682782882982092192292392492592\n",
      "296\n",
      "526272829203132333435363738393041424344454647484940515253545556575859506162636465666768696071727374757677787970818283848586878889809192939495969798999001101201301401501601701801901011111211311411511611711811911021121221321421521621721821921031131231331431531631731831931041141241341441541641741841941051151251351451551651751851951061161261361461561661761861961071171271371471571671771871971081181281381481581681781881981091191291391491591691791891991002102202302402502602702802902012112212312412512612712812912022122222322422522622722822922032132232332432532632732832932042142242342442542642742842942052152252352452552652752852952062162262362462562662762862962072172272372472572672772872972082182282382482582682782882982092192292392492592692\n",
      "297\n",
      "526272829203132333435363738393041424344454647484940515253545556575859506162636465666768696071727374757677787970818283848586878889809192939495969798999001101201301401501601701801901011111211311411511611711811911021121221321421521621721821921031131231331431531631731831931041141241341441541641741841941051151251351451551651751851951061161261361461561661761861961071171271371471571671771871971081181281381481581681781881981091191291391491591691791891991002102202302402502602702802902012112212312412512612712812912022122222322422522622722822922032132232332432532632732832932042142242342442542642742842942052152252352452552652752852952062162262362462562662762862962072172272372472572672772872972082182282382482582682782882982092192292392492592692792\n",
      "298\n",
      "526272829203132333435363738393041424344454647484940515253545556575859506162636465666768696071727374757677787970818283848586878889809192939495969798999001101201301401501601701801901011111211311411511611711811911021121221321421521621721821921031131231331431531631731831931041141241341441541641741841941051151251351451551651751851951061161261361461561661761861961071171271371471571671771871971081181281381481581681781881981091191291391491591691791891991002102202302402502602702802902012112212312412512612712812912022122222322422522622722822922032132232332432532632732832932042142242342442542642742842942052152252352452552652752852952062162262362462562662762862962072172272372472572672772872972082182282382482582682782882982092192292392492592692792892\n",
      "299\n",
      "526272829203132333435363738393041424344454647484940515253545556575859506162636465666768696071727374757677787970818283848586878889809192939495969798999001101201301401501601701801901011111211311411511611711811911021121221321421521621721821921031131231331431531631731831931041141241341441541641741841941051151251351451551651751851951061161261361461561661761861961071171271371471571671771871971081181281381481581681781881981091191291391491591691791891991002102202302402502602702802902012112212312412512612712812912022122222322422522622722822922032132232332432532632732832932042142242342442542642742842942052152252352452552652752852952062162262362462562662762862962072172272372472572672772872972082182282382482582682782882982092192292392492592692792892992\n",
      "300\n",
      "526272829203132333435363738393041424344454647484940515253545556575859506162636465666768696071727374757677787970818283848586878889809192939495969798999001101201301401501601701801901011111211311411511611711811911021121221321421521621721821921031131231331431531631731831931041141241341441541641741841941051151251351451551651751851951061161261361461561661761861961071171271371471571671771871971081181281381481581681781881981091191291391491591691791891991002102202302402502602702802902012112212312412512612712812912022122222322422522622722822922032132232332432532632732832932042142242342442542642742842942052152252352452552652752852952062162262362462562662762862962072172272372472572672772872972082182282382482582682782882982092192292392492592692792892992003\n",
      "301\n",
      "526272829203132333435363738393041424344454647484940515253545556575859506162636465666768696071727374757677787970818283848586878889809192939495969798999001101201301401501601701801901011111211311411511611711811911021121221321421521621721821921031131231331431531631731831931041141241341441541641741841941051151251351451551651751851951061161261361461561661761861961071171271371471571671771871971081181281381481581681781881981091191291391491591691791891991002102202302402502602702802902012112212312412512612712812912022122222322422522622722822922032132232332432532632732832932042142242342442542642742842942052152252352452552652752852952062162262362462562662762862962072172272372472572672772872972082182282382482582682782882982092192292392492592692792892992003103\n",
      "302\n",
      "526272829203132333435363738393041424344454647484940515253545556575859506162636465666768696071727374757677787970818283848586878889809192939495969798999001101201301401501601701801901011111211311411511611711811911021121221321421521621721821921031131231331431531631731831931041141241341441541641741841941051151251351451551651751851951061161261361461561661761861961071171271371471571671771871971081181281381481581681781881981091191291391491591691791891991002102202302402502602702802902012112212312412512612712812912022122222322422522622722822922032132232332432532632732832932042142242342442542642742842942052152252352452552652752852952062162262362462562662762862962072172272372472572672772872972082182282382482582682782882982092192292392492592692792892992003103203\n",
      "303\n",
      "526272829203132333435363738393041424344454647484940515253545556575859506162636465666768696071727374757677787970818283848586878889809192939495969798999001101201301401501601701801901011111211311411511611711811911021121221321421521621721821921031131231331431531631731831931041141241341441541641741841941051151251351451551651751851951061161261361461561661761861961071171271371471571671771871971081181281381481581681781881981091191291391491591691791891991002102202302402502602702802902012112212312412512612712812912022122222322422522622722822922032132232332432532632732832932042142242342442542642742842942052152252352452552652752852952062162262362462562662762862962072172272372472572672772872972082182282382482582682782882982092192292392492592692792892992003103203303\n",
      "304\n",
      "526272829203132333435363738393041424344454647484940515253545556575859506162636465666768696071727374757677787970818283848586878889809192939495969798999001101201301401501601701801901011111211311411511611711811911021121221321421521621721821921031131231331431531631731831931041141241341441541641741841941051151251351451551651751851951061161261361461561661761861961071171271371471571671771871971081181281381481581681781881981091191291391491591691791891991002102202302402502602702802902012112212312412512612712812912022122222322422522622722822922032132232332432532632732832932042142242342442542642742842942052152252352452552652752852952062162262362462562662762862962072172272372472572672772872972082182282382482582682782882982092192292392492592692792892992003103203303403\n",
      "305\n",
      "526272829203132333435363738393041424344454647484940515253545556575859506162636465666768696071727374757677787970818283848586878889809192939495969798999001101201301401501601701801901011111211311411511611711811911021121221321421521621721821921031131231331431531631731831931041141241341441541641741841941051151251351451551651751851951061161261361461561661761861961071171271371471571671771871971081181281381481581681781881981091191291391491591691791891991002102202302402502602702802902012112212312412512612712812912022122222322422522622722822922032132232332432532632732832932042142242342442542642742842942052152252352452552652752852952062162262362462562662762862962072172272372472572672772872972082182282382482582682782882982092192292392492592692792892992003103203303403503\n",
      "306\n",
      "526272829203132333435363738393041424344454647484940515253545556575859506162636465666768696071727374757677787970818283848586878889809192939495969798999001101201301401501601701801901011111211311411511611711811911021121221321421521621721821921031131231331431531631731831931041141241341441541641741841941051151251351451551651751851951061161261361461561661761861961071171271371471571671771871971081181281381481581681781881981091191291391491591691791891991002102202302402502602702802902012112212312412512612712812912022122222322422522622722822922032132232332432532632732832932042142242342442542642742842942052152252352452552652752852952062162262362462562662762862962072172272372472572672772872972082182282382482582682782882982092192292392492592692792892992003103203303403503603\n",
      "307\n",
      "526272829203132333435363738393041424344454647484940515253545556575859506162636465666768696071727374757677787970818283848586878889809192939495969798999001101201301401501601701801901011111211311411511611711811911021121221321421521621721821921031131231331431531631731831931041141241341441541641741841941051151251351451551651751851951061161261361461561661761861961071171271371471571671771871971081181281381481581681781881981091191291391491591691791891991002102202302402502602702802902012112212312412512612712812912022122222322422522622722822922032132232332432532632732832932042142242342442542642742842942052152252352452552652752852952062162262362462562662762862962072172272372472572672772872972082182282382482582682782882982092192292392492592692792892992003103203303403503603703\n",
      "308\n",
      "526272829203132333435363738393041424344454647484940515253545556575859506162636465666768696071727374757677787970818283848586878889809192939495969798999001101201301401501601701801901011111211311411511611711811911021121221321421521621721821921031131231331431531631731831931041141241341441541641741841941051151251351451551651751851951061161261361461561661761861961071171271371471571671771871971081181281381481581681781881981091191291391491591691791891991002102202302402502602702802902012112212312412512612712812912022122222322422522622722822922032132232332432532632732832932042142242342442542642742842942052152252352452552652752852952062162262362462562662762862962072172272372472572672772872972082182282382482582682782882982092192292392492592692792892992003103203303403503603703803\n",
      "309\n",
      "526272829203132333435363738393041424344454647484940515253545556575859506162636465666768696071727374757677787970818283848586878889809192939495969798999001101201301401501601701801901011111211311411511611711811911021121221321421521621721821921031131231331431531631731831931041141241341441541641741841941051151251351451551651751851951061161261361461561661761861961071171271371471571671771871971081181281381481581681781881981091191291391491591691791891991002102202302402502602702802902012112212312412512612712812912022122222322422522622722822922032132232332432532632732832932042142242342442542642742842942052152252352452552652752852952062162262362462562662762862962072172272372472572672772872972082182282382482582682782882982092192292392492592692792892992003103203303403503603703803903\n",
      "310\n",
      "526272829203132333435363738393041424344454647484940515253545556575859506162636465666768696071727374757677787970818283848586878889809192939495969798999001101201301401501601701801901011111211311411511611711811911021121221321421521621721821921031131231331431531631731831931041141241341441541641741841941051151251351451551651751851951061161261361461561661761861961071171271371471571671771871971081181281381481581681781881981091191291391491591691791891991002102202302402502602702802902012112212312412512612712812912022122222322422522622722822922032132232332432532632732832932042142242342442542642742842942052152252352452552652752852952062162262362462562662762862962072172272372472572672772872972082182282382482582682782882982092192292392492592692792892992003103203303403503603703803903013\n",
      "311\n",
      "526272829203132333435363738393041424344454647484940515253545556575859506162636465666768696071727374757677787970818283848586878889809192939495969798999001101201301401501601701801901011111211311411511611711811911021121221321421521621721821921031131231331431531631731831931041141241341441541641741841941051151251351451551651751851951061161261361461561661761861961071171271371471571671771871971081181281381481581681781881981091191291391491591691791891991002102202302402502602702802902012112212312412512612712812912022122222322422522622722822922032132232332432532632732832932042142242342442542642742842942052152252352452552652752852952062162262362462562662762862962072172272372472572672772872972082182282382482582682782882982092192292392492592692792892992003103203303403503603703803903013113\n",
      "312\n",
      "526272829203132333435363738393041424344454647484940515253545556575859506162636465666768696071727374757677787970818283848586878889809192939495969798999001101201301401501601701801901011111211311411511611711811911021121221321421521621721821921031131231331431531631731831931041141241341441541641741841941051151251351451551651751851951061161261361461561661761861961071171271371471571671771871971081181281381481581681781881981091191291391491591691791891991002102202302402502602702802902012112212312412512612712812912022122222322422522622722822922032132232332432532632732832932042142242342442542642742842942052152252352452552652752852952062162262362462562662762862962072172272372472572672772872972082182282382482582682782882982092192292392492592692792892992003103203303403503603703803903013113213\n",
      "313\n",
      "526272829203132333435363738393041424344454647484940515253545556575859506162636465666768696071727374757677787970818283848586878889809192939495969798999001101201301401501601701801901011111211311411511611711811911021121221321421521621721821921031131231331431531631731831931041141241341441541641741841941051151251351451551651751851951061161261361461561661761861961071171271371471571671771871971081181281381481581681781881981091191291391491591691791891991002102202302402502602702802902012112212312412512612712812912022122222322422522622722822922032132232332432532632732832932042142242342442542642742842942052152252352452552652752852952062162262362462562662762862962072172272372472572672772872972082182282382482582682782882982092192292392492592692792892992003103203303403503603703803903013113213313\n",
      "314\n",
      "526272829203132333435363738393041424344454647484940515253545556575859506162636465666768696071727374757677787970818283848586878889809192939495969798999001101201301401501601701801901011111211311411511611711811911021121221321421521621721821921031131231331431531631731831931041141241341441541641741841941051151251351451551651751851951061161261361461561661761861961071171271371471571671771871971081181281381481581681781881981091191291391491591691791891991002102202302402502602702802902012112212312412512612712812912022122222322422522622722822922032132232332432532632732832932042142242342442542642742842942052152252352452552652752852952062162262362462562662762862962072172272372472572672772872972082182282382482582682782882982092192292392492592692792892992003103203303403503603703803903013113213313413\n",
      "315\n",
      "526272829203132333435363738393041424344454647484940515253545556575859506162636465666768696071727374757677787970818283848586878889809192939495969798999001101201301401501601701801901011111211311411511611711811911021121221321421521621721821921031131231331431531631731831931041141241341441541641741841941051151251351451551651751851951061161261361461561661761861961071171271371471571671771871971081181281381481581681781881981091191291391491591691791891991002102202302402502602702802902012112212312412512612712812912022122222322422522622722822922032132232332432532632732832932042142242342442542642742842942052152252352452552652752852952062162262362462562662762862962072172272372472572672772872972082182282382482582682782882982092192292392492592692792892992003103203303403503603703803903013113213313413513\n",
      "316\n",
      "526272829203132333435363738393041424344454647484940515253545556575859506162636465666768696071727374757677787970818283848586878889809192939495969798999001101201301401501601701801901011111211311411511611711811911021121221321421521621721821921031131231331431531631731831931041141241341441541641741841941051151251351451551651751851951061161261361461561661761861961071171271371471571671771871971081181281381481581681781881981091191291391491591691791891991002102202302402502602702802902012112212312412512612712812912022122222322422522622722822922032132232332432532632732832932042142242342442542642742842942052152252352452552652752852952062162262362462562662762862962072172272372472572672772872972082182282382482582682782882982092192292392492592692792892992003103203303403503603703803903013113213313413513613\n",
      "317\n",
      "526272829203132333435363738393041424344454647484940515253545556575859506162636465666768696071727374757677787970818283848586878889809192939495969798999001101201301401501601701801901011111211311411511611711811911021121221321421521621721821921031131231331431531631731831931041141241341441541641741841941051151251351451551651751851951061161261361461561661761861961071171271371471571671771871971081181281381481581681781881981091191291391491591691791891991002102202302402502602702802902012112212312412512612712812912022122222322422522622722822922032132232332432532632732832932042142242342442542642742842942052152252352452552652752852952062162262362462562662762862962072172272372472572672772872972082182282382482582682782882982092192292392492592692792892992003103203303403503603703803903013113213313413513613713\n",
      "318\n",
      "526272829203132333435363738393041424344454647484940515253545556575859506162636465666768696071727374757677787970818283848586878889809192939495969798999001101201301401501601701801901011111211311411511611711811911021121221321421521621721821921031131231331431531631731831931041141241341441541641741841941051151251351451551651751851951061161261361461561661761861961071171271371471571671771871971081181281381481581681781881981091191291391491591691791891991002102202302402502602702802902012112212312412512612712812912022122222322422522622722822922032132232332432532632732832932042142242342442542642742842942052152252352452552652752852952062162262362462562662762862962072172272372472572672772872972082182282382482582682782882982092192292392492592692792892992003103203303403503603703803903013113213313413513613713813\n",
      "319\n",
      "526272829203132333435363738393041424344454647484940515253545556575859506162636465666768696071727374757677787970818283848586878889809192939495969798999001101201301401501601701801901011111211311411511611711811911021121221321421521621721821921031131231331431531631731831931041141241341441541641741841941051151251351451551651751851951061161261361461561661761861961071171271371471571671771871971081181281381481581681781881981091191291391491591691791891991002102202302402502602702802902012112212312412512612712812912022122222322422522622722822922032132232332432532632732832932042142242342442542642742842942052152252352452552652752852952062162262362462562662762862962072172272372472572672772872972082182282382482582682782882982092192292392492592692792892992003103203303403503603703803903013113213313413513613713813913\n",
      "320\n",
      "526272829203132333435363738393041424344454647484940515253545556575859506162636465666768696071727374757677787970818283848586878889809192939495969798999001101201301401501601701801901011111211311411511611711811911021121221321421521621721821921031131231331431531631731831931041141241341441541641741841941051151251351451551651751851951061161261361461561661761861961071171271371471571671771871971081181281381481581681781881981091191291391491591691791891991002102202302402502602702802902012112212312412512612712812912022122222322422522622722822922032132232332432532632732832932042142242342442542642742842942052152252352452552652752852952062162262362462562662762862962072172272372472572672772872972082182282382482582682782882982092192292392492592692792892992003103203303403503603703803903013113213313413513613713813913023\n",
      "321\n",
      "526272829203132333435363738393041424344454647484940515253545556575859506162636465666768696071727374757677787970818283848586878889809192939495969798999001101201301401501601701801901011111211311411511611711811911021121221321421521621721821921031131231331431531631731831931041141241341441541641741841941051151251351451551651751851951061161261361461561661761861961071171271371471571671771871971081181281381481581681781881981091191291391491591691791891991002102202302402502602702802902012112212312412512612712812912022122222322422522622722822922032132232332432532632732832932042142242342442542642742842942052152252352452552652752852952062162262362462562662762862962072172272372472572672772872972082182282382482582682782882982092192292392492592692792892992003103203303403503603703803903013113213313413513613713813913023123\n",
      "322\n",
      "526272829203132333435363738393041424344454647484940515253545556575859506162636465666768696071727374757677787970818283848586878889809192939495969798999001101201301401501601701801901011111211311411511611711811911021121221321421521621721821921031131231331431531631731831931041141241341441541641741841941051151251351451551651751851951061161261361461561661761861961071171271371471571671771871971081181281381481581681781881981091191291391491591691791891991002102202302402502602702802902012112212312412512612712812912022122222322422522622722822922032132232332432532632732832932042142242342442542642742842942052152252352452552652752852952062162262362462562662762862962072172272372472572672772872972082182282382482582682782882982092192292392492592692792892992003103203303403503603703803903013113213313413513613713813913023123223\n",
      "323\n",
      "526272829203132333435363738393041424344454647484940515253545556575859506162636465666768696071727374757677787970818283848586878889809192939495969798999001101201301401501601701801901011111211311411511611711811911021121221321421521621721821921031131231331431531631731831931041141241341441541641741841941051151251351451551651751851951061161261361461561661761861961071171271371471571671771871971081181281381481581681781881981091191291391491591691791891991002102202302402502602702802902012112212312412512612712812912022122222322422522622722822922032132232332432532632732832932042142242342442542642742842942052152252352452552652752852952062162262362462562662762862962072172272372472572672772872972082182282382482582682782882982092192292392492592692792892992003103203303403503603703803903013113213313413513613713813913023123223323\n",
      "324\n",
      "526272829203132333435363738393041424344454647484940515253545556575859506162636465666768696071727374757677787970818283848586878889809192939495969798999001101201301401501601701801901011111211311411511611711811911021121221321421521621721821921031131231331431531631731831931041141241341441541641741841941051151251351451551651751851951061161261361461561661761861961071171271371471571671771871971081181281381481581681781881981091191291391491591691791891991002102202302402502602702802902012112212312412512612712812912022122222322422522622722822922032132232332432532632732832932042142242342442542642742842942052152252352452552652752852952062162262362462562662762862962072172272372472572672772872972082182282382482582682782882982092192292392492592692792892992003103203303403503603703803903013113213313413513613713813913023123223323423\n",
      "325\n",
      "526272829203132333435363738393041424344454647484940515253545556575859506162636465666768696071727374757677787970818283848586878889809192939495969798999001101201301401501601701801901011111211311411511611711811911021121221321421521621721821921031131231331431531631731831931041141241341441541641741841941051151251351451551651751851951061161261361461561661761861961071171271371471571671771871971081181281381481581681781881981091191291391491591691791891991002102202302402502602702802902012112212312412512612712812912022122222322422522622722822922032132232332432532632732832932042142242342442542642742842942052152252352452552652752852952062162262362462562662762862962072172272372472572672772872972082182282382482582682782882982092192292392492592692792892992003103203303403503603703803903013113213313413513613713813913023123223323423523\n",
      "326\n",
      "526272829203132333435363738393041424344454647484940515253545556575859506162636465666768696071727374757677787970818283848586878889809192939495969798999001101201301401501601701801901011111211311411511611711811911021121221321421521621721821921031131231331431531631731831931041141241341441541641741841941051151251351451551651751851951061161261361461561661761861961071171271371471571671771871971081181281381481581681781881981091191291391491591691791891991002102202302402502602702802902012112212312412512612712812912022122222322422522622722822922032132232332432532632732832932042142242342442542642742842942052152252352452552652752852952062162262362462562662762862962072172272372472572672772872972082182282382482582682782882982092192292392492592692792892992003103203303403503603703803903013113213313413513613713813913023123223323423523623\n",
      "327\n",
      "526272829203132333435363738393041424344454647484940515253545556575859506162636465666768696071727374757677787970818283848586878889809192939495969798999001101201301401501601701801901011111211311411511611711811911021121221321421521621721821921031131231331431531631731831931041141241341441541641741841941051151251351451551651751851951061161261361461561661761861961071171271371471571671771871971081181281381481581681781881981091191291391491591691791891991002102202302402502602702802902012112212312412512612712812912022122222322422522622722822922032132232332432532632732832932042142242342442542642742842942052152252352452552652752852952062162262362462562662762862962072172272372472572672772872972082182282382482582682782882982092192292392492592692792892992003103203303403503603703803903013113213313413513613713813913023123223323423523623723\n",
      "328\n",
      "526272829203132333435363738393041424344454647484940515253545556575859506162636465666768696071727374757677787970818283848586878889809192939495969798999001101201301401501601701801901011111211311411511611711811911021121221321421521621721821921031131231331431531631731831931041141241341441541641741841941051151251351451551651751851951061161261361461561661761861961071171271371471571671771871971081181281381481581681781881981091191291391491591691791891991002102202302402502602702802902012112212312412512612712812912022122222322422522622722822922032132232332432532632732832932042142242342442542642742842942052152252352452552652752852952062162262362462562662762862962072172272372472572672772872972082182282382482582682782882982092192292392492592692792892992003103203303403503603703803903013113213313413513613713813913023123223323423523623723823\n",
      "329\n",
      "526272829203132333435363738393041424344454647484940515253545556575859506162636465666768696071727374757677787970818283848586878889809192939495969798999001101201301401501601701801901011111211311411511611711811911021121221321421521621721821921031131231331431531631731831931041141241341441541641741841941051151251351451551651751851951061161261361461561661761861961071171271371471571671771871971081181281381481581681781881981091191291391491591691791891991002102202302402502602702802902012112212312412512612712812912022122222322422522622722822922032132232332432532632732832932042142242342442542642742842942052152252352452552652752852952062162262362462562662762862962072172272372472572672772872972082182282382482582682782882982092192292392492592692792892992003103203303403503603703803903013113213313413513613713813913023123223323423523623723823923\n",
      "330\n",
      "526272829203132333435363738393041424344454647484940515253545556575859506162636465666768696071727374757677787970818283848586878889809192939495969798999001101201301401501601701801901011111211311411511611711811911021121221321421521621721821921031131231331431531631731831931041141241341441541641741841941051151251351451551651751851951061161261361461561661761861961071171271371471571671771871971081181281381481581681781881981091191291391491591691791891991002102202302402502602702802902012112212312412512612712812912022122222322422522622722822922032132232332432532632732832932042142242342442542642742842942052152252352452552652752852952062162262362462562662762862962072172272372472572672772872972082182282382482582682782882982092192292392492592692792892992003103203303403503603703803903013113213313413513613713813913023123223323423523623723823923033\n",
      "331\n",
      "526272829203132333435363738393041424344454647484940515253545556575859506162636465666768696071727374757677787970818283848586878889809192939495969798999001101201301401501601701801901011111211311411511611711811911021121221321421521621721821921031131231331431531631731831931041141241341441541641741841941051151251351451551651751851951061161261361461561661761861961071171271371471571671771871971081181281381481581681781881981091191291391491591691791891991002102202302402502602702802902012112212312412512612712812912022122222322422522622722822922032132232332432532632732832932042142242342442542642742842942052152252352452552652752852952062162262362462562662762862962072172272372472572672772872972082182282382482582682782882982092192292392492592692792892992003103203303403503603703803903013113213313413513613713813913023123223323423523623723823923033133\n",
      "332\n",
      "526272829203132333435363738393041424344454647484940515253545556575859506162636465666768696071727374757677787970818283848586878889809192939495969798999001101201301401501601701801901011111211311411511611711811911021121221321421521621721821921031131231331431531631731831931041141241341441541641741841941051151251351451551651751851951061161261361461561661761861961071171271371471571671771871971081181281381481581681781881981091191291391491591691791891991002102202302402502602702802902012112212312412512612712812912022122222322422522622722822922032132232332432532632732832932042142242342442542642742842942052152252352452552652752852952062162262362462562662762862962072172272372472572672772872972082182282382482582682782882982092192292392492592692792892992003103203303403503603703803903013113213313413513613713813913023123223323423523623723823923033133233\n",
      "333\n",
      "526272829203132333435363738393041424344454647484940515253545556575859506162636465666768696071727374757677787970818283848586878889809192939495969798999001101201301401501601701801901011111211311411511611711811911021121221321421521621721821921031131231331431531631731831931041141241341441541641741841941051151251351451551651751851951061161261361461561661761861961071171271371471571671771871971081181281381481581681781881981091191291391491591691791891991002102202302402502602702802902012112212312412512612712812912022122222322422522622722822922032132232332432532632732832932042142242342442542642742842942052152252352452552652752852952062162262362462562662762862962072172272372472572672772872972082182282382482582682782882982092192292392492592692792892992003103203303403503603703803903013113213313413513613713813913023123223323423523623723823923033133233333\n",
      "334\n",
      "526272829203132333435363738393041424344454647484940515253545556575859506162636465666768696071727374757677787970818283848586878889809192939495969798999001101201301401501601701801901011111211311411511611711811911021121221321421521621721821921031131231331431531631731831931041141241341441541641741841941051151251351451551651751851951061161261361461561661761861961071171271371471571671771871971081181281381481581681781881981091191291391491591691791891991002102202302402502602702802902012112212312412512612712812912022122222322422522622722822922032132232332432532632732832932042142242342442542642742842942052152252352452552652752852952062162262362462562662762862962072172272372472572672772872972082182282382482582682782882982092192292392492592692792892992003103203303403503603703803903013113213313413513613713813913023123223323423523623723823923033133233333433\n",
      "335\n",
      "526272829203132333435363738393041424344454647484940515253545556575859506162636465666768696071727374757677787970818283848586878889809192939495969798999001101201301401501601701801901011111211311411511611711811911021121221321421521621721821921031131231331431531631731831931041141241341441541641741841941051151251351451551651751851951061161261361461561661761861961071171271371471571671771871971081181281381481581681781881981091191291391491591691791891991002102202302402502602702802902012112212312412512612712812912022122222322422522622722822922032132232332432532632732832932042142242342442542642742842942052152252352452552652752852952062162262362462562662762862962072172272372472572672772872972082182282382482582682782882982092192292392492592692792892992003103203303403503603703803903013113213313413513613713813913023123223323423523623723823923033133233333433533\n",
      "336\n",
      "526272829203132333435363738393041424344454647484940515253545556575859506162636465666768696071727374757677787970818283848586878889809192939495969798999001101201301401501601701801901011111211311411511611711811911021121221321421521621721821921031131231331431531631731831931041141241341441541641741841941051151251351451551651751851951061161261361461561661761861961071171271371471571671771871971081181281381481581681781881981091191291391491591691791891991002102202302402502602702802902012112212312412512612712812912022122222322422522622722822922032132232332432532632732832932042142242342442542642742842942052152252352452552652752852952062162262362462562662762862962072172272372472572672772872972082182282382482582682782882982092192292392492592692792892992003103203303403503603703803903013113213313413513613713813913023123223323423523623723823923033133233333433533633\n",
      "337\n",
      "526272829203132333435363738393041424344454647484940515253545556575859506162636465666768696071727374757677787970818283848586878889809192939495969798999001101201301401501601701801901011111211311411511611711811911021121221321421521621721821921031131231331431531631731831931041141241341441541641741841941051151251351451551651751851951061161261361461561661761861961071171271371471571671771871971081181281381481581681781881981091191291391491591691791891991002102202302402502602702802902012112212312412512612712812912022122222322422522622722822922032132232332432532632732832932042142242342442542642742842942052152252352452552652752852952062162262362462562662762862962072172272372472572672772872972082182282382482582682782882982092192292392492592692792892992003103203303403503603703803903013113213313413513613713813913023123223323423523623723823923033133233333433533633733\n",
      "338\n",
      "526272829203132333435363738393041424344454647484940515253545556575859506162636465666768696071727374757677787970818283848586878889809192939495969798999001101201301401501601701801901011111211311411511611711811911021121221321421521621721821921031131231331431531631731831931041141241341441541641741841941051151251351451551651751851951061161261361461561661761861961071171271371471571671771871971081181281381481581681781881981091191291391491591691791891991002102202302402502602702802902012112212312412512612712812912022122222322422522622722822922032132232332432532632732832932042142242342442542642742842942052152252352452552652752852952062162262362462562662762862962072172272372472572672772872972082182282382482582682782882982092192292392492592692792892992003103203303403503603703803903013113213313413513613713813913023123223323423523623723823923033133233333433533633733833\n",
      "339\n",
      "526272829203132333435363738393041424344454647484940515253545556575859506162636465666768696071727374757677787970818283848586878889809192939495969798999001101201301401501601701801901011111211311411511611711811911021121221321421521621721821921031131231331431531631731831931041141241341441541641741841941051151251351451551651751851951061161261361461561661761861961071171271371471571671771871971081181281381481581681781881981091191291391491591691791891991002102202302402502602702802902012112212312412512612712812912022122222322422522622722822922032132232332432532632732832932042142242342442542642742842942052152252352452552652752852952062162262362462562662762862962072172272372472572672772872972082182282382482582682782882982092192292392492592692792892992003103203303403503603703803903013113213313413513613713813913023123223323423523623723823923033133233333433533633733833933\n",
      "340\n",
      "526272829203132333435363738393041424344454647484940515253545556575859506162636465666768696071727374757677787970818283848586878889809192939495969798999001101201301401501601701801901011111211311411511611711811911021121221321421521621721821921031131231331431531631731831931041141241341441541641741841941051151251351451551651751851951061161261361461561661761861961071171271371471571671771871971081181281381481581681781881981091191291391491591691791891991002102202302402502602702802902012112212312412512612712812912022122222322422522622722822922032132232332432532632732832932042142242342442542642742842942052152252352452552652752852952062162262362462562662762862962072172272372472572672772872972082182282382482582682782882982092192292392492592692792892992003103203303403503603703803903013113213313413513613713813913023123223323423523623723823923033133233333433533633733833933043\n",
      "341\n",
      "526272829203132333435363738393041424344454647484940515253545556575859506162636465666768696071727374757677787970818283848586878889809192939495969798999001101201301401501601701801901011111211311411511611711811911021121221321421521621721821921031131231331431531631731831931041141241341441541641741841941051151251351451551651751851951061161261361461561661761861961071171271371471571671771871971081181281381481581681781881981091191291391491591691791891991002102202302402502602702802902012112212312412512612712812912022122222322422522622722822922032132232332432532632732832932042142242342442542642742842942052152252352452552652752852952062162262362462562662762862962072172272372472572672772872972082182282382482582682782882982092192292392492592692792892992003103203303403503603703803903013113213313413513613713813913023123223323423523623723823923033133233333433533633733833933043143\n",
      "342\n",
      "526272829203132333435363738393041424344454647484940515253545556575859506162636465666768696071727374757677787970818283848586878889809192939495969798999001101201301401501601701801901011111211311411511611711811911021121221321421521621721821921031131231331431531631731831931041141241341441541641741841941051151251351451551651751851951061161261361461561661761861961071171271371471571671771871971081181281381481581681781881981091191291391491591691791891991002102202302402502602702802902012112212312412512612712812912022122222322422522622722822922032132232332432532632732832932042142242342442542642742842942052152252352452552652752852952062162262362462562662762862962072172272372472572672772872972082182282382482582682782882982092192292392492592692792892992003103203303403503603703803903013113213313413513613713813913023123223323423523623723823923033133233333433533633733833933043143243\n",
      "343\n",
      "526272829203132333435363738393041424344454647484940515253545556575859506162636465666768696071727374757677787970818283848586878889809192939495969798999001101201301401501601701801901011111211311411511611711811911021121221321421521621721821921031131231331431531631731831931041141241341441541641741841941051151251351451551651751851951061161261361461561661761861961071171271371471571671771871971081181281381481581681781881981091191291391491591691791891991002102202302402502602702802902012112212312412512612712812912022122222322422522622722822922032132232332432532632732832932042142242342442542642742842942052152252352452552652752852952062162262362462562662762862962072172272372472572672772872972082182282382482582682782882982092192292392492592692792892992003103203303403503603703803903013113213313413513613713813913023123223323423523623723823923033133233333433533633733833933043143243343\n",
      "344\n",
      "526272829203132333435363738393041424344454647484940515253545556575859506162636465666768696071727374757677787970818283848586878889809192939495969798999001101201301401501601701801901011111211311411511611711811911021121221321421521621721821921031131231331431531631731831931041141241341441541641741841941051151251351451551651751851951061161261361461561661761861961071171271371471571671771871971081181281381481581681781881981091191291391491591691791891991002102202302402502602702802902012112212312412512612712812912022122222322422522622722822922032132232332432532632732832932042142242342442542642742842942052152252352452552652752852952062162262362462562662762862962072172272372472572672772872972082182282382482582682782882982092192292392492592692792892992003103203303403503603703803903013113213313413513613713813913023123223323423523623723823923033133233333433533633733833933043143243343443\n",
      "345\n",
      "526272829203132333435363738393041424344454647484940515253545556575859506162636465666768696071727374757677787970818283848586878889809192939495969798999001101201301401501601701801901011111211311411511611711811911021121221321421521621721821921031131231331431531631731831931041141241341441541641741841941051151251351451551651751851951061161261361461561661761861961071171271371471571671771871971081181281381481581681781881981091191291391491591691791891991002102202302402502602702802902012112212312412512612712812912022122222322422522622722822922032132232332432532632732832932042142242342442542642742842942052152252352452552652752852952062162262362462562662762862962072172272372472572672772872972082182282382482582682782882982092192292392492592692792892992003103203303403503603703803903013113213313413513613713813913023123223323423523623723823923033133233333433533633733833933043143243343443543\n",
      "346\n",
      "526272829203132333435363738393041424344454647484940515253545556575859506162636465666768696071727374757677787970818283848586878889809192939495969798999001101201301401501601701801901011111211311411511611711811911021121221321421521621721821921031131231331431531631731831931041141241341441541641741841941051151251351451551651751851951061161261361461561661761861961071171271371471571671771871971081181281381481581681781881981091191291391491591691791891991002102202302402502602702802902012112212312412512612712812912022122222322422522622722822922032132232332432532632732832932042142242342442542642742842942052152252352452552652752852952062162262362462562662762862962072172272372472572672772872972082182282382482582682782882982092192292392492592692792892992003103203303403503603703803903013113213313413513613713813913023123223323423523623723823923033133233333433533633733833933043143243343443543643\n",
      "347\n",
      "526272829203132333435363738393041424344454647484940515253545556575859506162636465666768696071727374757677787970818283848586878889809192939495969798999001101201301401501601701801901011111211311411511611711811911021121221321421521621721821921031131231331431531631731831931041141241341441541641741841941051151251351451551651751851951061161261361461561661761861961071171271371471571671771871971081181281381481581681781881981091191291391491591691791891991002102202302402502602702802902012112212312412512612712812912022122222322422522622722822922032132232332432532632732832932042142242342442542642742842942052152252352452552652752852952062162262362462562662762862962072172272372472572672772872972082182282382482582682782882982092192292392492592692792892992003103203303403503603703803903013113213313413513613713813913023123223323423523623723823923033133233333433533633733833933043143243343443543643743\n",
      "348\n",
      "526272829203132333435363738393041424344454647484940515253545556575859506162636465666768696071727374757677787970818283848586878889809192939495969798999001101201301401501601701801901011111211311411511611711811911021121221321421521621721821921031131231331431531631731831931041141241341441541641741841941051151251351451551651751851951061161261361461561661761861961071171271371471571671771871971081181281381481581681781881981091191291391491591691791891991002102202302402502602702802902012112212312412512612712812912022122222322422522622722822922032132232332432532632732832932042142242342442542642742842942052152252352452552652752852952062162262362462562662762862962072172272372472572672772872972082182282382482582682782882982092192292392492592692792892992003103203303403503603703803903013113213313413513613713813913023123223323423523623723823923033133233333433533633733833933043143243343443543643743843\n",
      "349\n",
      "526272829203132333435363738393041424344454647484940515253545556575859506162636465666768696071727374757677787970818283848586878889809192939495969798999001101201301401501601701801901011111211311411511611711811911021121221321421521621721821921031131231331431531631731831931041141241341441541641741841941051151251351451551651751851951061161261361461561661761861961071171271371471571671771871971081181281381481581681781881981091191291391491591691791891991002102202302402502602702802902012112212312412512612712812912022122222322422522622722822922032132232332432532632732832932042142242342442542642742842942052152252352452552652752852952062162262362462562662762862962072172272372472572672772872972082182282382482582682782882982092192292392492592692792892992003103203303403503603703803903013113213313413513613713813913023123223323423523623723823923033133233333433533633733833933043143243343443543643743843943\n",
      "350\n",
      "526272829203132333435363738393041424344454647484940515253545556575859506162636465666768696071727374757677787970818283848586878889809192939495969798999001101201301401501601701801901011111211311411511611711811911021121221321421521621721821921031131231331431531631731831931041141241341441541641741841941051151251351451551651751851951061161261361461561661761861961071171271371471571671771871971081181281381481581681781881981091191291391491591691791891991002102202302402502602702802902012112212312412512612712812912022122222322422522622722822922032132232332432532632732832932042142242342442542642742842942052152252352452552652752852952062162262362462562662762862962072172272372472572672772872972082182282382482582682782882982092192292392492592692792892992003103203303403503603703803903013113213313413513613713813913023123223323423523623723823923033133233333433533633733833933043143243343443543643743843943053\n",
      "351\n",
      "526272829203132333435363738393041424344454647484940515253545556575859506162636465666768696071727374757677787970818283848586878889809192939495969798999001101201301401501601701801901011111211311411511611711811911021121221321421521621721821921031131231331431531631731831931041141241341441541641741841941051151251351451551651751851951061161261361461561661761861961071171271371471571671771871971081181281381481581681781881981091191291391491591691791891991002102202302402502602702802902012112212312412512612712812912022122222322422522622722822922032132232332432532632732832932042142242342442542642742842942052152252352452552652752852952062162262362462562662762862962072172272372472572672772872972082182282382482582682782882982092192292392492592692792892992003103203303403503603703803903013113213313413513613713813913023123223323423523623723823923033133233333433533633733833933043143243343443543643743843943053153\n",
      "352\n",
      "526272829203132333435363738393041424344454647484940515253545556575859506162636465666768696071727374757677787970818283848586878889809192939495969798999001101201301401501601701801901011111211311411511611711811911021121221321421521621721821921031131231331431531631731831931041141241341441541641741841941051151251351451551651751851951061161261361461561661761861961071171271371471571671771871971081181281381481581681781881981091191291391491591691791891991002102202302402502602702802902012112212312412512612712812912022122222322422522622722822922032132232332432532632732832932042142242342442542642742842942052152252352452552652752852952062162262362462562662762862962072172272372472572672772872972082182282382482582682782882982092192292392492592692792892992003103203303403503603703803903013113213313413513613713813913023123223323423523623723823923033133233333433533633733833933043143243343443543643743843943053153253\n",
      "353\n",
      "526272829203132333435363738393041424344454647484940515253545556575859506162636465666768696071727374757677787970818283848586878889809192939495969798999001101201301401501601701801901011111211311411511611711811911021121221321421521621721821921031131231331431531631731831931041141241341441541641741841941051151251351451551651751851951061161261361461561661761861961071171271371471571671771871971081181281381481581681781881981091191291391491591691791891991002102202302402502602702802902012112212312412512612712812912022122222322422522622722822922032132232332432532632732832932042142242342442542642742842942052152252352452552652752852952062162262362462562662762862962072172272372472572672772872972082182282382482582682782882982092192292392492592692792892992003103203303403503603703803903013113213313413513613713813913023123223323423523623723823923033133233333433533633733833933043143243343443543643743843943053153253353\n",
      "354\n",
      "526272829203132333435363738393041424344454647484940515253545556575859506162636465666768696071727374757677787970818283848586878889809192939495969798999001101201301401501601701801901011111211311411511611711811911021121221321421521621721821921031131231331431531631731831931041141241341441541641741841941051151251351451551651751851951061161261361461561661761861961071171271371471571671771871971081181281381481581681781881981091191291391491591691791891991002102202302402502602702802902012112212312412512612712812912022122222322422522622722822922032132232332432532632732832932042142242342442542642742842942052152252352452552652752852952062162262362462562662762862962072172272372472572672772872972082182282382482582682782882982092192292392492592692792892992003103203303403503603703803903013113213313413513613713813913023123223323423523623723823923033133233333433533633733833933043143243343443543643743843943053153253353453\n",
      "355\n",
      "526272829203132333435363738393041424344454647484940515253545556575859506162636465666768696071727374757677787970818283848586878889809192939495969798999001101201301401501601701801901011111211311411511611711811911021121221321421521621721821921031131231331431531631731831931041141241341441541641741841941051151251351451551651751851951061161261361461561661761861961071171271371471571671771871971081181281381481581681781881981091191291391491591691791891991002102202302402502602702802902012112212312412512612712812912022122222322422522622722822922032132232332432532632732832932042142242342442542642742842942052152252352452552652752852952062162262362462562662762862962072172272372472572672772872972082182282382482582682782882982092192292392492592692792892992003103203303403503603703803903013113213313413513613713813913023123223323423523623723823923033133233333433533633733833933043143243343443543643743843943053153253353453553\n",
      "356\n",
      "526272829203132333435363738393041424344454647484940515253545556575859506162636465666768696071727374757677787970818283848586878889809192939495969798999001101201301401501601701801901011111211311411511611711811911021121221321421521621721821921031131231331431531631731831931041141241341441541641741841941051151251351451551651751851951061161261361461561661761861961071171271371471571671771871971081181281381481581681781881981091191291391491591691791891991002102202302402502602702802902012112212312412512612712812912022122222322422522622722822922032132232332432532632732832932042142242342442542642742842942052152252352452552652752852952062162262362462562662762862962072172272372472572672772872972082182282382482582682782882982092192292392492592692792892992003103203303403503603703803903013113213313413513613713813913023123223323423523623723823923033133233333433533633733833933043143243343443543643743843943053153253353453553653\n",
      "357\n",
      "526272829203132333435363738393041424344454647484940515253545556575859506162636465666768696071727374757677787970818283848586878889809192939495969798999001101201301401501601701801901011111211311411511611711811911021121221321421521621721821921031131231331431531631731831931041141241341441541641741841941051151251351451551651751851951061161261361461561661761861961071171271371471571671771871971081181281381481581681781881981091191291391491591691791891991002102202302402502602702802902012112212312412512612712812912022122222322422522622722822922032132232332432532632732832932042142242342442542642742842942052152252352452552652752852952062162262362462562662762862962072172272372472572672772872972082182282382482582682782882982092192292392492592692792892992003103203303403503603703803903013113213313413513613713813913023123223323423523623723823923033133233333433533633733833933043143243343443543643743843943053153253353453553653753\n",
      "358\n",
      "526272829203132333435363738393041424344454647484940515253545556575859506162636465666768696071727374757677787970818283848586878889809192939495969798999001101201301401501601701801901011111211311411511611711811911021121221321421521621721821921031131231331431531631731831931041141241341441541641741841941051151251351451551651751851951061161261361461561661761861961071171271371471571671771871971081181281381481581681781881981091191291391491591691791891991002102202302402502602702802902012112212312412512612712812912022122222322422522622722822922032132232332432532632732832932042142242342442542642742842942052152252352452552652752852952062162262362462562662762862962072172272372472572672772872972082182282382482582682782882982092192292392492592692792892992003103203303403503603703803903013113213313413513613713813913023123223323423523623723823923033133233333433533633733833933043143243343443543643743843943053153253353453553653753853\n",
      "359\n",
      "526272829203132333435363738393041424344454647484940515253545556575859506162636465666768696071727374757677787970818283848586878889809192939495969798999001101201301401501601701801901011111211311411511611711811911021121221321421521621721821921031131231331431531631731831931041141241341441541641741841941051151251351451551651751851951061161261361461561661761861961071171271371471571671771871971081181281381481581681781881981091191291391491591691791891991002102202302402502602702802902012112212312412512612712812912022122222322422522622722822922032132232332432532632732832932042142242342442542642742842942052152252352452552652752852952062162262362462562662762862962072172272372472572672772872972082182282382482582682782882982092192292392492592692792892992003103203303403503603703803903013113213313413513613713813913023123223323423523623723823923033133233333433533633733833933043143243343443543643743843943053153253353453553653753853953\n",
      "360\n",
      "526272829203132333435363738393041424344454647484940515253545556575859506162636465666768696071727374757677787970818283848586878889809192939495969798999001101201301401501601701801901011111211311411511611711811911021121221321421521621721821921031131231331431531631731831931041141241341441541641741841941051151251351451551651751851951061161261361461561661761861961071171271371471571671771871971081181281381481581681781881981091191291391491591691791891991002102202302402502602702802902012112212312412512612712812912022122222322422522622722822922032132232332432532632732832932042142242342442542642742842942052152252352452552652752852952062162262362462562662762862962072172272372472572672772872972082182282382482582682782882982092192292392492592692792892992003103203303403503603703803903013113213313413513613713813913023123223323423523623723823923033133233333433533633733833933043143243343443543643743843943053153253353453553653753853953063\n",
      "361\n",
      "526272829203132333435363738393041424344454647484940515253545556575859506162636465666768696071727374757677787970818283848586878889809192939495969798999001101201301401501601701801901011111211311411511611711811911021121221321421521621721821921031131231331431531631731831931041141241341441541641741841941051151251351451551651751851951061161261361461561661761861961071171271371471571671771871971081181281381481581681781881981091191291391491591691791891991002102202302402502602702802902012112212312412512612712812912022122222322422522622722822922032132232332432532632732832932042142242342442542642742842942052152252352452552652752852952062162262362462562662762862962072172272372472572672772872972082182282382482582682782882982092192292392492592692792892992003103203303403503603703803903013113213313413513613713813913023123223323423523623723823923033133233333433533633733833933043143243343443543643743843943053153253353453553653753853953063163\n",
      "362\n",
      "526272829203132333435363738393041424344454647484940515253545556575859506162636465666768696071727374757677787970818283848586878889809192939495969798999001101201301401501601701801901011111211311411511611711811911021121221321421521621721821921031131231331431531631731831931041141241341441541641741841941051151251351451551651751851951061161261361461561661761861961071171271371471571671771871971081181281381481581681781881981091191291391491591691791891991002102202302402502602702802902012112212312412512612712812912022122222322422522622722822922032132232332432532632732832932042142242342442542642742842942052152252352452552652752852952062162262362462562662762862962072172272372472572672772872972082182282382482582682782882982092192292392492592692792892992003103203303403503603703803903013113213313413513613713813913023123223323423523623723823923033133233333433533633733833933043143243343443543643743843943053153253353453553653753853953063163263\n",
      "363\n",
      "526272829203132333435363738393041424344454647484940515253545556575859506162636465666768696071727374757677787970818283848586878889809192939495969798999001101201301401501601701801901011111211311411511611711811911021121221321421521621721821921031131231331431531631731831931041141241341441541641741841941051151251351451551651751851951061161261361461561661761861961071171271371471571671771871971081181281381481581681781881981091191291391491591691791891991002102202302402502602702802902012112212312412512612712812912022122222322422522622722822922032132232332432532632732832932042142242342442542642742842942052152252352452552652752852952062162262362462562662762862962072172272372472572672772872972082182282382482582682782882982092192292392492592692792892992003103203303403503603703803903013113213313413513613713813913023123223323423523623723823923033133233333433533633733833933043143243343443543643743843943053153253353453553653753853953063163263363\n",
      "364\n",
      "526272829203132333435363738393041424344454647484940515253545556575859506162636465666768696071727374757677787970818283848586878889809192939495969798999001101201301401501601701801901011111211311411511611711811911021121221321421521621721821921031131231331431531631731831931041141241341441541641741841941051151251351451551651751851951061161261361461561661761861961071171271371471571671771871971081181281381481581681781881981091191291391491591691791891991002102202302402502602702802902012112212312412512612712812912022122222322422522622722822922032132232332432532632732832932042142242342442542642742842942052152252352452552652752852952062162262362462562662762862962072172272372472572672772872972082182282382482582682782882982092192292392492592692792892992003103203303403503603703803903013113213313413513613713813913023123223323423523623723823923033133233333433533633733833933043143243343443543643743843943053153253353453553653753853953063163263363463\n",
      "365\n",
      "526272829203132333435363738393041424344454647484940515253545556575859506162636465666768696071727374757677787970818283848586878889809192939495969798999001101201301401501601701801901011111211311411511611711811911021121221321421521621721821921031131231331431531631731831931041141241341441541641741841941051151251351451551651751851951061161261361461561661761861961071171271371471571671771871971081181281381481581681781881981091191291391491591691791891991002102202302402502602702802902012112212312412512612712812912022122222322422522622722822922032132232332432532632732832932042142242342442542642742842942052152252352452552652752852952062162262362462562662762862962072172272372472572672772872972082182282382482582682782882982092192292392492592692792892992003103203303403503603703803903013113213313413513613713813913023123223323423523623723823923033133233333433533633733833933043143243343443543643743843943053153253353453553653753853953063163263363463563\n",
      "366\n",
      "526272829203132333435363738393041424344454647484940515253545556575859506162636465666768696071727374757677787970818283848586878889809192939495969798999001101201301401501601701801901011111211311411511611711811911021121221321421521621721821921031131231331431531631731831931041141241341441541641741841941051151251351451551651751851951061161261361461561661761861961071171271371471571671771871971081181281381481581681781881981091191291391491591691791891991002102202302402502602702802902012112212312412512612712812912022122222322422522622722822922032132232332432532632732832932042142242342442542642742842942052152252352452552652752852952062162262362462562662762862962072172272372472572672772872972082182282382482582682782882982092192292392492592692792892992003103203303403503603703803903013113213313413513613713813913023123223323423523623723823923033133233333433533633733833933043143243343443543643743843943053153253353453553653753853953063163263363463563663\n",
      "367\n",
      "526272829203132333435363738393041424344454647484940515253545556575859506162636465666768696071727374757677787970818283848586878889809192939495969798999001101201301401501601701801901011111211311411511611711811911021121221321421521621721821921031131231331431531631731831931041141241341441541641741841941051151251351451551651751851951061161261361461561661761861961071171271371471571671771871971081181281381481581681781881981091191291391491591691791891991002102202302402502602702802902012112212312412512612712812912022122222322422522622722822922032132232332432532632732832932042142242342442542642742842942052152252352452552652752852952062162262362462562662762862962072172272372472572672772872972082182282382482582682782882982092192292392492592692792892992003103203303403503603703803903013113213313413513613713813913023123223323423523623723823923033133233333433533633733833933043143243343443543643743843943053153253353453553653753853953063163263363463563663763\n",
      "368\n",
      "526272829203132333435363738393041424344454647484940515253545556575859506162636465666768696071727374757677787970818283848586878889809192939495969798999001101201301401501601701801901011111211311411511611711811911021121221321421521621721821921031131231331431531631731831931041141241341441541641741841941051151251351451551651751851951061161261361461561661761861961071171271371471571671771871971081181281381481581681781881981091191291391491591691791891991002102202302402502602702802902012112212312412512612712812912022122222322422522622722822922032132232332432532632732832932042142242342442542642742842942052152252352452552652752852952062162262362462562662762862962072172272372472572672772872972082182282382482582682782882982092192292392492592692792892992003103203303403503603703803903013113213313413513613713813913023123223323423523623723823923033133233333433533633733833933043143243343443543643743843943053153253353453553653753853953063163263363463563663763863\n",
      "369\n",
      "526272829203132333435363738393041424344454647484940515253545556575859506162636465666768696071727374757677787970818283848586878889809192939495969798999001101201301401501601701801901011111211311411511611711811911021121221321421521621721821921031131231331431531631731831931041141241341441541641741841941051151251351451551651751851951061161261361461561661761861961071171271371471571671771871971081181281381481581681781881981091191291391491591691791891991002102202302402502602702802902012112212312412512612712812912022122222322422522622722822922032132232332432532632732832932042142242342442542642742842942052152252352452552652752852952062162262362462562662762862962072172272372472572672772872972082182282382482582682782882982092192292392492592692792892992003103203303403503603703803903013113213313413513613713813913023123223323423523623723823923033133233333433533633733833933043143243343443543643743843943053153253353453553653753853953063163263363463563663763863963\n",
      "370\n",
      "526272829203132333435363738393041424344454647484940515253545556575859506162636465666768696071727374757677787970818283848586878889809192939495969798999001101201301401501601701801901011111211311411511611711811911021121221321421521621721821921031131231331431531631731831931041141241341441541641741841941051151251351451551651751851951061161261361461561661761861961071171271371471571671771871971081181281381481581681781881981091191291391491591691791891991002102202302402502602702802902012112212312412512612712812912022122222322422522622722822922032132232332432532632732832932042142242342442542642742842942052152252352452552652752852952062162262362462562662762862962072172272372472572672772872972082182282382482582682782882982092192292392492592692792892992003103203303403503603703803903013113213313413513613713813913023123223323423523623723823923033133233333433533633733833933043143243343443543643743843943053153253353453553653753853953063163263363463563663763863963073\n",
      "371\n",
      "526272829203132333435363738393041424344454647484940515253545556575859506162636465666768696071727374757677787970818283848586878889809192939495969798999001101201301401501601701801901011111211311411511611711811911021121221321421521621721821921031131231331431531631731831931041141241341441541641741841941051151251351451551651751851951061161261361461561661761861961071171271371471571671771871971081181281381481581681781881981091191291391491591691791891991002102202302402502602702802902012112212312412512612712812912022122222322422522622722822922032132232332432532632732832932042142242342442542642742842942052152252352452552652752852952062162262362462562662762862962072172272372472572672772872972082182282382482582682782882982092192292392492592692792892992003103203303403503603703803903013113213313413513613713813913023123223323423523623723823923033133233333433533633733833933043143243343443543643743843943053153253353453553653753853953063163263363463563663763863963073173\n",
      "372\n",
      "526272829203132333435363738393041424344454647484940515253545556575859506162636465666768696071727374757677787970818283848586878889809192939495969798999001101201301401501601701801901011111211311411511611711811911021121221321421521621721821921031131231331431531631731831931041141241341441541641741841941051151251351451551651751851951061161261361461561661761861961071171271371471571671771871971081181281381481581681781881981091191291391491591691791891991002102202302402502602702802902012112212312412512612712812912022122222322422522622722822922032132232332432532632732832932042142242342442542642742842942052152252352452552652752852952062162262362462562662762862962072172272372472572672772872972082182282382482582682782882982092192292392492592692792892992003103203303403503603703803903013113213313413513613713813913023123223323423523623723823923033133233333433533633733833933043143243343443543643743843943053153253353453553653753853953063163263363463563663763863963073173273\n",
      "373\n",
      "526272829203132333435363738393041424344454647484940515253545556575859506162636465666768696071727374757677787970818283848586878889809192939495969798999001101201301401501601701801901011111211311411511611711811911021121221321421521621721821921031131231331431531631731831931041141241341441541641741841941051151251351451551651751851951061161261361461561661761861961071171271371471571671771871971081181281381481581681781881981091191291391491591691791891991002102202302402502602702802902012112212312412512612712812912022122222322422522622722822922032132232332432532632732832932042142242342442542642742842942052152252352452552652752852952062162262362462562662762862962072172272372472572672772872972082182282382482582682782882982092192292392492592692792892992003103203303403503603703803903013113213313413513613713813913023123223323423523623723823923033133233333433533633733833933043143243343443543643743843943053153253353453553653753853953063163263363463563663763863963073173273373\n",
      "374\n",
      "526272829203132333435363738393041424344454647484940515253545556575859506162636465666768696071727374757677787970818283848586878889809192939495969798999001101201301401501601701801901011111211311411511611711811911021121221321421521621721821921031131231331431531631731831931041141241341441541641741841941051151251351451551651751851951061161261361461561661761861961071171271371471571671771871971081181281381481581681781881981091191291391491591691791891991002102202302402502602702802902012112212312412512612712812912022122222322422522622722822922032132232332432532632732832932042142242342442542642742842942052152252352452552652752852952062162262362462562662762862962072172272372472572672772872972082182282382482582682782882982092192292392492592692792892992003103203303403503603703803903013113213313413513613713813913023123223323423523623723823923033133233333433533633733833933043143243343443543643743843943053153253353453553653753853953063163263363463563663763863963073173273373473\n",
      "375\n",
      "526272829203132333435363738393041424344454647484940515253545556575859506162636465666768696071727374757677787970818283848586878889809192939495969798999001101201301401501601701801901011111211311411511611711811911021121221321421521621721821921031131231331431531631731831931041141241341441541641741841941051151251351451551651751851951061161261361461561661761861961071171271371471571671771871971081181281381481581681781881981091191291391491591691791891991002102202302402502602702802902012112212312412512612712812912022122222322422522622722822922032132232332432532632732832932042142242342442542642742842942052152252352452552652752852952062162262362462562662762862962072172272372472572672772872972082182282382482582682782882982092192292392492592692792892992003103203303403503603703803903013113213313413513613713813913023123223323423523623723823923033133233333433533633733833933043143243343443543643743843943053153253353453553653753853953063163263363463563663763863963073173273373473573\n",
      "376\n",
      "526272829203132333435363738393041424344454647484940515253545556575859506162636465666768696071727374757677787970818283848586878889809192939495969798999001101201301401501601701801901011111211311411511611711811911021121221321421521621721821921031131231331431531631731831931041141241341441541641741841941051151251351451551651751851951061161261361461561661761861961071171271371471571671771871971081181281381481581681781881981091191291391491591691791891991002102202302402502602702802902012112212312412512612712812912022122222322422522622722822922032132232332432532632732832932042142242342442542642742842942052152252352452552652752852952062162262362462562662762862962072172272372472572672772872972082182282382482582682782882982092192292392492592692792892992003103203303403503603703803903013113213313413513613713813913023123223323423523623723823923033133233333433533633733833933043143243343443543643743843943053153253353453553653753853953063163263363463563663763863963073173273373473573673\n",
      "377\n",
      "526272829203132333435363738393041424344454647484940515253545556575859506162636465666768696071727374757677787970818283848586878889809192939495969798999001101201301401501601701801901011111211311411511611711811911021121221321421521621721821921031131231331431531631731831931041141241341441541641741841941051151251351451551651751851951061161261361461561661761861961071171271371471571671771871971081181281381481581681781881981091191291391491591691791891991002102202302402502602702802902012112212312412512612712812912022122222322422522622722822922032132232332432532632732832932042142242342442542642742842942052152252352452552652752852952062162262362462562662762862962072172272372472572672772872972082182282382482582682782882982092192292392492592692792892992003103203303403503603703803903013113213313413513613713813913023123223323423523623723823923033133233333433533633733833933043143243343443543643743843943053153253353453553653753853953063163263363463563663763863963073173273373473573673773\n",
      "378\n",
      "526272829203132333435363738393041424344454647484940515253545556575859506162636465666768696071727374757677787970818283848586878889809192939495969798999001101201301401501601701801901011111211311411511611711811911021121221321421521621721821921031131231331431531631731831931041141241341441541641741841941051151251351451551651751851951061161261361461561661761861961071171271371471571671771871971081181281381481581681781881981091191291391491591691791891991002102202302402502602702802902012112212312412512612712812912022122222322422522622722822922032132232332432532632732832932042142242342442542642742842942052152252352452552652752852952062162262362462562662762862962072172272372472572672772872972082182282382482582682782882982092192292392492592692792892992003103203303403503603703803903013113213313413513613713813913023123223323423523623723823923033133233333433533633733833933043143243343443543643743843943053153253353453553653753853953063163263363463563663763863963073173273373473573673773873\n",
      "379\n",
      "526272829203132333435363738393041424344454647484940515253545556575859506162636465666768696071727374757677787970818283848586878889809192939495969798999001101201301401501601701801901011111211311411511611711811911021121221321421521621721821921031131231331431531631731831931041141241341441541641741841941051151251351451551651751851951061161261361461561661761861961071171271371471571671771871971081181281381481581681781881981091191291391491591691791891991002102202302402502602702802902012112212312412512612712812912022122222322422522622722822922032132232332432532632732832932042142242342442542642742842942052152252352452552652752852952062162262362462562662762862962072172272372472572672772872972082182282382482582682782882982092192292392492592692792892992003103203303403503603703803903013113213313413513613713813913023123223323423523623723823923033133233333433533633733833933043143243343443543643743843943053153253353453553653753853953063163263363463563663763863963073173273373473573673773873973\n",
      "380\n",
      "526272829203132333435363738393041424344454647484940515253545556575859506162636465666768696071727374757677787970818283848586878889809192939495969798999001101201301401501601701801901011111211311411511611711811911021121221321421521621721821921031131231331431531631731831931041141241341441541641741841941051151251351451551651751851951061161261361461561661761861961071171271371471571671771871971081181281381481581681781881981091191291391491591691791891991002102202302402502602702802902012112212312412512612712812912022122222322422522622722822922032132232332432532632732832932042142242342442542642742842942052152252352452552652752852952062162262362462562662762862962072172272372472572672772872972082182282382482582682782882982092192292392492592692792892992003103203303403503603703803903013113213313413513613713813913023123223323423523623723823923033133233333433533633733833933043143243343443543643743843943053153253353453553653753853953063163263363463563663763863963073173273373473573673773873973083\n",
      "381\n",
      "526272829203132333435363738393041424344454647484940515253545556575859506162636465666768696071727374757677787970818283848586878889809192939495969798999001101201301401501601701801901011111211311411511611711811911021121221321421521621721821921031131231331431531631731831931041141241341441541641741841941051151251351451551651751851951061161261361461561661761861961071171271371471571671771871971081181281381481581681781881981091191291391491591691791891991002102202302402502602702802902012112212312412512612712812912022122222322422522622722822922032132232332432532632732832932042142242342442542642742842942052152252352452552652752852952062162262362462562662762862962072172272372472572672772872972082182282382482582682782882982092192292392492592692792892992003103203303403503603703803903013113213313413513613713813913023123223323423523623723823923033133233333433533633733833933043143243343443543643743843943053153253353453553653753853953063163263363463563663763863963073173273373473573673773873973083183\n",
      "382\n",
      "526272829203132333435363738393041424344454647484940515253545556575859506162636465666768696071727374757677787970818283848586878889809192939495969798999001101201301401501601701801901011111211311411511611711811911021121221321421521621721821921031131231331431531631731831931041141241341441541641741841941051151251351451551651751851951061161261361461561661761861961071171271371471571671771871971081181281381481581681781881981091191291391491591691791891991002102202302402502602702802902012112212312412512612712812912022122222322422522622722822922032132232332432532632732832932042142242342442542642742842942052152252352452552652752852952062162262362462562662762862962072172272372472572672772872972082182282382482582682782882982092192292392492592692792892992003103203303403503603703803903013113213313413513613713813913023123223323423523623723823923033133233333433533633733833933043143243343443543643743843943053153253353453553653753853953063163263363463563663763863963073173273373473573673773873973083183283\n",
      "383\n",
      "526272829203132333435363738393041424344454647484940515253545556575859506162636465666768696071727374757677787970818283848586878889809192939495969798999001101201301401501601701801901011111211311411511611711811911021121221321421521621721821921031131231331431531631731831931041141241341441541641741841941051151251351451551651751851951061161261361461561661761861961071171271371471571671771871971081181281381481581681781881981091191291391491591691791891991002102202302402502602702802902012112212312412512612712812912022122222322422522622722822922032132232332432532632732832932042142242342442542642742842942052152252352452552652752852952062162262362462562662762862962072172272372472572672772872972082182282382482582682782882982092192292392492592692792892992003103203303403503603703803903013113213313413513613713813913023123223323423523623723823923033133233333433533633733833933043143243343443543643743843943053153253353453553653753853953063163263363463563663763863963073173273373473573673773873973083183283383\n",
      "384\n",
      "526272829203132333435363738393041424344454647484940515253545556575859506162636465666768696071727374757677787970818283848586878889809192939495969798999001101201301401501601701801901011111211311411511611711811911021121221321421521621721821921031131231331431531631731831931041141241341441541641741841941051151251351451551651751851951061161261361461561661761861961071171271371471571671771871971081181281381481581681781881981091191291391491591691791891991002102202302402502602702802902012112212312412512612712812912022122222322422522622722822922032132232332432532632732832932042142242342442542642742842942052152252352452552652752852952062162262362462562662762862962072172272372472572672772872972082182282382482582682782882982092192292392492592692792892992003103203303403503603703803903013113213313413513613713813913023123223323423523623723823923033133233333433533633733833933043143243343443543643743843943053153253353453553653753853953063163263363463563663763863963073173273373473573673773873973083183283383483\n",
      "385\n",
      "526272829203132333435363738393041424344454647484940515253545556575859506162636465666768696071727374757677787970818283848586878889809192939495969798999001101201301401501601701801901011111211311411511611711811911021121221321421521621721821921031131231331431531631731831931041141241341441541641741841941051151251351451551651751851951061161261361461561661761861961071171271371471571671771871971081181281381481581681781881981091191291391491591691791891991002102202302402502602702802902012112212312412512612712812912022122222322422522622722822922032132232332432532632732832932042142242342442542642742842942052152252352452552652752852952062162262362462562662762862962072172272372472572672772872972082182282382482582682782882982092192292392492592692792892992003103203303403503603703803903013113213313413513613713813913023123223323423523623723823923033133233333433533633733833933043143243343443543643743843943053153253353453553653753853953063163263363463563663763863963073173273373473573673773873973083183283383483583\n",
      "386\n",
      "526272829203132333435363738393041424344454647484940515253545556575859506162636465666768696071727374757677787970818283848586878889809192939495969798999001101201301401501601701801901011111211311411511611711811911021121221321421521621721821921031131231331431531631731831931041141241341441541641741841941051151251351451551651751851951061161261361461561661761861961071171271371471571671771871971081181281381481581681781881981091191291391491591691791891991002102202302402502602702802902012112212312412512612712812912022122222322422522622722822922032132232332432532632732832932042142242342442542642742842942052152252352452552652752852952062162262362462562662762862962072172272372472572672772872972082182282382482582682782882982092192292392492592692792892992003103203303403503603703803903013113213313413513613713813913023123223323423523623723823923033133233333433533633733833933043143243343443543643743843943053153253353453553653753853953063163263363463563663763863963073173273373473573673773873973083183283383483583683\n",
      "387\n",
      "526272829203132333435363738393041424344454647484940515253545556575859506162636465666768696071727374757677787970818283848586878889809192939495969798999001101201301401501601701801901011111211311411511611711811911021121221321421521621721821921031131231331431531631731831931041141241341441541641741841941051151251351451551651751851951061161261361461561661761861961071171271371471571671771871971081181281381481581681781881981091191291391491591691791891991002102202302402502602702802902012112212312412512612712812912022122222322422522622722822922032132232332432532632732832932042142242342442542642742842942052152252352452552652752852952062162262362462562662762862962072172272372472572672772872972082182282382482582682782882982092192292392492592692792892992003103203303403503603703803903013113213313413513613713813913023123223323423523623723823923033133233333433533633733833933043143243343443543643743843943053153253353453553653753853953063163263363463563663763863963073173273373473573673773873973083183283383483583683783\n",
      "388\n",
      "526272829203132333435363738393041424344454647484940515253545556575859506162636465666768696071727374757677787970818283848586878889809192939495969798999001101201301401501601701801901011111211311411511611711811911021121221321421521621721821921031131231331431531631731831931041141241341441541641741841941051151251351451551651751851951061161261361461561661761861961071171271371471571671771871971081181281381481581681781881981091191291391491591691791891991002102202302402502602702802902012112212312412512612712812912022122222322422522622722822922032132232332432532632732832932042142242342442542642742842942052152252352452552652752852952062162262362462562662762862962072172272372472572672772872972082182282382482582682782882982092192292392492592692792892992003103203303403503603703803903013113213313413513613713813913023123223323423523623723823923033133233333433533633733833933043143243343443543643743843943053153253353453553653753853953063163263363463563663763863963073173273373473573673773873973083183283383483583683783883\n",
      "389\n",
      "526272829203132333435363738393041424344454647484940515253545556575859506162636465666768696071727374757677787970818283848586878889809192939495969798999001101201301401501601701801901011111211311411511611711811911021121221321421521621721821921031131231331431531631731831931041141241341441541641741841941051151251351451551651751851951061161261361461561661761861961071171271371471571671771871971081181281381481581681781881981091191291391491591691791891991002102202302402502602702802902012112212312412512612712812912022122222322422522622722822922032132232332432532632732832932042142242342442542642742842942052152252352452552652752852952062162262362462562662762862962072172272372472572672772872972082182282382482582682782882982092192292392492592692792892992003103203303403503603703803903013113213313413513613713813913023123223323423523623723823923033133233333433533633733833933043143243343443543643743843943053153253353453553653753853953063163263363463563663763863963073173273373473573673773873973083183283383483583683783883983\n",
      "390\n",
      "526272829203132333435363738393041424344454647484940515253545556575859506162636465666768696071727374757677787970818283848586878889809192939495969798999001101201301401501601701801901011111211311411511611711811911021121221321421521621721821921031131231331431531631731831931041141241341441541641741841941051151251351451551651751851951061161261361461561661761861961071171271371471571671771871971081181281381481581681781881981091191291391491591691791891991002102202302402502602702802902012112212312412512612712812912022122222322422522622722822922032132232332432532632732832932042142242342442542642742842942052152252352452552652752852952062162262362462562662762862962072172272372472572672772872972082182282382482582682782882982092192292392492592692792892992003103203303403503603703803903013113213313413513613713813913023123223323423523623723823923033133233333433533633733833933043143243343443543643743843943053153253353453553653753853953063163263363463563663763863963073173273373473573673773873973083183283383483583683783883983093\n",
      "391\n",
      "526272829203132333435363738393041424344454647484940515253545556575859506162636465666768696071727374757677787970818283848586878889809192939495969798999001101201301401501601701801901011111211311411511611711811911021121221321421521621721821921031131231331431531631731831931041141241341441541641741841941051151251351451551651751851951061161261361461561661761861961071171271371471571671771871971081181281381481581681781881981091191291391491591691791891991002102202302402502602702802902012112212312412512612712812912022122222322422522622722822922032132232332432532632732832932042142242342442542642742842942052152252352452552652752852952062162262362462562662762862962072172272372472572672772872972082182282382482582682782882982092192292392492592692792892992003103203303403503603703803903013113213313413513613713813913023123223323423523623723823923033133233333433533633733833933043143243343443543643743843943053153253353453553653753853953063163263363463563663763863963073173273373473573673773873973083183283383483583683783883983093193\n",
      "392\n",
      "526272829203132333435363738393041424344454647484940515253545556575859506162636465666768696071727374757677787970818283848586878889809192939495969798999001101201301401501601701801901011111211311411511611711811911021121221321421521621721821921031131231331431531631731831931041141241341441541641741841941051151251351451551651751851951061161261361461561661761861961071171271371471571671771871971081181281381481581681781881981091191291391491591691791891991002102202302402502602702802902012112212312412512612712812912022122222322422522622722822922032132232332432532632732832932042142242342442542642742842942052152252352452552652752852952062162262362462562662762862962072172272372472572672772872972082182282382482582682782882982092192292392492592692792892992003103203303403503603703803903013113213313413513613713813913023123223323423523623723823923033133233333433533633733833933043143243343443543643743843943053153253353453553653753853953063163263363463563663763863963073173273373473573673773873973083183283383483583683783883983093193293\n",
      "393\n",
      "526272829203132333435363738393041424344454647484940515253545556575859506162636465666768696071727374757677787970818283848586878889809192939495969798999001101201301401501601701801901011111211311411511611711811911021121221321421521621721821921031131231331431531631731831931041141241341441541641741841941051151251351451551651751851951061161261361461561661761861961071171271371471571671771871971081181281381481581681781881981091191291391491591691791891991002102202302402502602702802902012112212312412512612712812912022122222322422522622722822922032132232332432532632732832932042142242342442542642742842942052152252352452552652752852952062162262362462562662762862962072172272372472572672772872972082182282382482582682782882982092192292392492592692792892992003103203303403503603703803903013113213313413513613713813913023123223323423523623723823923033133233333433533633733833933043143243343443543643743843943053153253353453553653753853953063163263363463563663763863963073173273373473573673773873973083183283383483583683783883983093193293393\n",
      "394\n",
      "526272829203132333435363738393041424344454647484940515253545556575859506162636465666768696071727374757677787970818283848586878889809192939495969798999001101201301401501601701801901011111211311411511611711811911021121221321421521621721821921031131231331431531631731831931041141241341441541641741841941051151251351451551651751851951061161261361461561661761861961071171271371471571671771871971081181281381481581681781881981091191291391491591691791891991002102202302402502602702802902012112212312412512612712812912022122222322422522622722822922032132232332432532632732832932042142242342442542642742842942052152252352452552652752852952062162262362462562662762862962072172272372472572672772872972082182282382482582682782882982092192292392492592692792892992003103203303403503603703803903013113213313413513613713813913023123223323423523623723823923033133233333433533633733833933043143243343443543643743843943053153253353453553653753853953063163263363463563663763863963073173273373473573673773873973083183283383483583683783883983093193293393493\n",
      "395\n",
      "526272829203132333435363738393041424344454647484940515253545556575859506162636465666768696071727374757677787970818283848586878889809192939495969798999001101201301401501601701801901011111211311411511611711811911021121221321421521621721821921031131231331431531631731831931041141241341441541641741841941051151251351451551651751851951061161261361461561661761861961071171271371471571671771871971081181281381481581681781881981091191291391491591691791891991002102202302402502602702802902012112212312412512612712812912022122222322422522622722822922032132232332432532632732832932042142242342442542642742842942052152252352452552652752852952062162262362462562662762862962072172272372472572672772872972082182282382482582682782882982092192292392492592692792892992003103203303403503603703803903013113213313413513613713813913023123223323423523623723823923033133233333433533633733833933043143243343443543643743843943053153253353453553653753853953063163263363463563663763863963073173273373473573673773873973083183283383483583683783883983093193293393493593\n",
      "396\n",
      "526272829203132333435363738393041424344454647484940515253545556575859506162636465666768696071727374757677787970818283848586878889809192939495969798999001101201301401501601701801901011111211311411511611711811911021121221321421521621721821921031131231331431531631731831931041141241341441541641741841941051151251351451551651751851951061161261361461561661761861961071171271371471571671771871971081181281381481581681781881981091191291391491591691791891991002102202302402502602702802902012112212312412512612712812912022122222322422522622722822922032132232332432532632732832932042142242342442542642742842942052152252352452552652752852952062162262362462562662762862962072172272372472572672772872972082182282382482582682782882982092192292392492592692792892992003103203303403503603703803903013113213313413513613713813913023123223323423523623723823923033133233333433533633733833933043143243343443543643743843943053153253353453553653753853953063163263363463563663763863963073173273373473573673773873973083183283383483583683783883983093193293393493593693\n",
      "397\n",
      "526272829203132333435363738393041424344454647484940515253545556575859506162636465666768696071727374757677787970818283848586878889809192939495969798999001101201301401501601701801901011111211311411511611711811911021121221321421521621721821921031131231331431531631731831931041141241341441541641741841941051151251351451551651751851951061161261361461561661761861961071171271371471571671771871971081181281381481581681781881981091191291391491591691791891991002102202302402502602702802902012112212312412512612712812912022122222322422522622722822922032132232332432532632732832932042142242342442542642742842942052152252352452552652752852952062162262362462562662762862962072172272372472572672772872972082182282382482582682782882982092192292392492592692792892992003103203303403503603703803903013113213313413513613713813913023123223323423523623723823923033133233333433533633733833933043143243343443543643743843943053153253353453553653753853953063163263363463563663763863963073173273373473573673773873973083183283383483583683783883983093193293393493593693793\n",
      "398\n",
      "526272829203132333435363738393041424344454647484940515253545556575859506162636465666768696071727374757677787970818283848586878889809192939495969798999001101201301401501601701801901011111211311411511611711811911021121221321421521621721821921031131231331431531631731831931041141241341441541641741841941051151251351451551651751851951061161261361461561661761861961071171271371471571671771871971081181281381481581681781881981091191291391491591691791891991002102202302402502602702802902012112212312412512612712812912022122222322422522622722822922032132232332432532632732832932042142242342442542642742842942052152252352452552652752852952062162262362462562662762862962072172272372472572672772872972082182282382482582682782882982092192292392492592692792892992003103203303403503603703803903013113213313413513613713813913023123223323423523623723823923033133233333433533633733833933043143243343443543643743843943053153253353453553653753853953063163263363463563663763863963073173273373473573673773873973083183283383483583683783883983093193293393493593693793893\n",
      "399\n",
      "526272829203132333435363738393041424344454647484940515253545556575859506162636465666768696071727374757677787970818283848586878889809192939495969798999001101201301401501601701801901011111211311411511611711811911021121221321421521621721821921031131231331431531631731831931041141241341441541641741841941051151251351451551651751851951061161261361461561661761861961071171271371471571671771871971081181281381481581681781881981091191291391491591691791891991002102202302402502602702802902012112212312412512612712812912022122222322422522622722822922032132232332432532632732832932042142242342442542642742842942052152252352452552652752852952062162262362462562662762862962072172272372472572672772872972082182282382482582682782882982092192292392492592692792892992003103203303403503603703803903013113213313413513613713813913023123223323423523623723823923033133233333433533633733833933043143243343443543643743843943053153253353453553653753853953063163263363463563663763863963073173273373473573673773873973083183283383483583683783883983093193293393493593693793893993\n",
      "400\n",
      "526272829203132333435363738393041424344454647484940515253545556575859506162636465666768696071727374757677787970818283848586878889809192939495969798999001101201301401501601701801901011111211311411511611711811911021121221321421521621721821921031131231331431531631731831931041141241341441541641741841941051151251351451551651751851951061161261361461561661761861961071171271371471571671771871971081181281381481581681781881981091191291391491591691791891991002102202302402502602702802902012112212312412512612712812912022122222322422522622722822922032132232332432532632732832932042142242342442542642742842942052152252352452552652752852952062162262362462562662762862962072172272372472572672772872972082182282382482582682782882982092192292392492592692792892992003103203303403503603703803903013113213313413513613713813913023123223323423523623723823923033133233333433533633733833933043143243343443543643743843943053153253353453553653753853953063163263363463563663763863963073173273373473573673773873973083183283383483583683783883983093193293393493593693793893993004\n",
      "401\n",
      "526272829203132333435363738393041424344454647484940515253545556575859506162636465666768696071727374757677787970818283848586878889809192939495969798999001101201301401501601701801901011111211311411511611711811911021121221321421521621721821921031131231331431531631731831931041141241341441541641741841941051151251351451551651751851951061161261361461561661761861961071171271371471571671771871971081181281381481581681781881981091191291391491591691791891991002102202302402502602702802902012112212312412512612712812912022122222322422522622722822922032132232332432532632732832932042142242342442542642742842942052152252352452552652752852952062162262362462562662762862962072172272372472572672772872972082182282382482582682782882982092192292392492592692792892992003103203303403503603703803903013113213313413513613713813913023123223323423523623723823923033133233333433533633733833933043143243343443543643743843943053153253353453553653753853953063163263363463563663763863963073173273373473573673773873973083183283383483583683783883983093193293393493593693793893993004104\n",
      "402\n",
      "526272829203132333435363738393041424344454647484940515253545556575859506162636465666768696071727374757677787970818283848586878889809192939495969798999001101201301401501601701801901011111211311411511611711811911021121221321421521621721821921031131231331431531631731831931041141241341441541641741841941051151251351451551651751851951061161261361461561661761861961071171271371471571671771871971081181281381481581681781881981091191291391491591691791891991002102202302402502602702802902012112212312412512612712812912022122222322422522622722822922032132232332432532632732832932042142242342442542642742842942052152252352452552652752852952062162262362462562662762862962072172272372472572672772872972082182282382482582682782882982092192292392492592692792892992003103203303403503603703803903013113213313413513613713813913023123223323423523623723823923033133233333433533633733833933043143243343443543643743843943053153253353453553653753853953063163263363463563663763863963073173273373473573673773873973083183283383483583683783883983093193293393493593693793893993004104204\n",
      "403\n",
      "526272829203132333435363738393041424344454647484940515253545556575859506162636465666768696071727374757677787970818283848586878889809192939495969798999001101201301401501601701801901011111211311411511611711811911021121221321421521621721821921031131231331431531631731831931041141241341441541641741841941051151251351451551651751851951061161261361461561661761861961071171271371471571671771871971081181281381481581681781881981091191291391491591691791891991002102202302402502602702802902012112212312412512612712812912022122222322422522622722822922032132232332432532632732832932042142242342442542642742842942052152252352452552652752852952062162262362462562662762862962072172272372472572672772872972082182282382482582682782882982092192292392492592692792892992003103203303403503603703803903013113213313413513613713813913023123223323423523623723823923033133233333433533633733833933043143243343443543643743843943053153253353453553653753853953063163263363463563663763863963073173273373473573673773873973083183283383483583683783883983093193293393493593693793893993004104204304\n",
      "404\n",
      "526272829203132333435363738393041424344454647484940515253545556575859506162636465666768696071727374757677787970818283848586878889809192939495969798999001101201301401501601701801901011111211311411511611711811911021121221321421521621721821921031131231331431531631731831931041141241341441541641741841941051151251351451551651751851951061161261361461561661761861961071171271371471571671771871971081181281381481581681781881981091191291391491591691791891991002102202302402502602702802902012112212312412512612712812912022122222322422522622722822922032132232332432532632732832932042142242342442542642742842942052152252352452552652752852952062162262362462562662762862962072172272372472572672772872972082182282382482582682782882982092192292392492592692792892992003103203303403503603703803903013113213313413513613713813913023123223323423523623723823923033133233333433533633733833933043143243343443543643743843943053153253353453553653753853953063163263363463563663763863963073173273373473573673773873973083183283383483583683783883983093193293393493593693793893993004104204304404\n",
      "405\n",
      "526272829203132333435363738393041424344454647484940515253545556575859506162636465666768696071727374757677787970818283848586878889809192939495969798999001101201301401501601701801901011111211311411511611711811911021121221321421521621721821921031131231331431531631731831931041141241341441541641741841941051151251351451551651751851951061161261361461561661761861961071171271371471571671771871971081181281381481581681781881981091191291391491591691791891991002102202302402502602702802902012112212312412512612712812912022122222322422522622722822922032132232332432532632732832932042142242342442542642742842942052152252352452552652752852952062162262362462562662762862962072172272372472572672772872972082182282382482582682782882982092192292392492592692792892992003103203303403503603703803903013113213313413513613713813913023123223323423523623723823923033133233333433533633733833933043143243343443543643743843943053153253353453553653753853953063163263363463563663763863963073173273373473573673773873973083183283383483583683783883983093193293393493593693793893993004104204304404504\n",
      "406\n",
      "526272829203132333435363738393041424344454647484940515253545556575859506162636465666768696071727374757677787970818283848586878889809192939495969798999001101201301401501601701801901011111211311411511611711811911021121221321421521621721821921031131231331431531631731831931041141241341441541641741841941051151251351451551651751851951061161261361461561661761861961071171271371471571671771871971081181281381481581681781881981091191291391491591691791891991002102202302402502602702802902012112212312412512612712812912022122222322422522622722822922032132232332432532632732832932042142242342442542642742842942052152252352452552652752852952062162262362462562662762862962072172272372472572672772872972082182282382482582682782882982092192292392492592692792892992003103203303403503603703803903013113213313413513613713813913023123223323423523623723823923033133233333433533633733833933043143243343443543643743843943053153253353453553653753853953063163263363463563663763863963073173273373473573673773873973083183283383483583683783883983093193293393493593693793893993004104204304404504604\n",
      "407\n",
      "526272829203132333435363738393041424344454647484940515253545556575859506162636465666768696071727374757677787970818283848586878889809192939495969798999001101201301401501601701801901011111211311411511611711811911021121221321421521621721821921031131231331431531631731831931041141241341441541641741841941051151251351451551651751851951061161261361461561661761861961071171271371471571671771871971081181281381481581681781881981091191291391491591691791891991002102202302402502602702802902012112212312412512612712812912022122222322422522622722822922032132232332432532632732832932042142242342442542642742842942052152252352452552652752852952062162262362462562662762862962072172272372472572672772872972082182282382482582682782882982092192292392492592692792892992003103203303403503603703803903013113213313413513613713813913023123223323423523623723823923033133233333433533633733833933043143243343443543643743843943053153253353453553653753853953063163263363463563663763863963073173273373473573673773873973083183283383483583683783883983093193293393493593693793893993004104204304404504604704\n",
      "408\n",
      "526272829203132333435363738393041424344454647484940515253545556575859506162636465666768696071727374757677787970818283848586878889809192939495969798999001101201301401501601701801901011111211311411511611711811911021121221321421521621721821921031131231331431531631731831931041141241341441541641741841941051151251351451551651751851951061161261361461561661761861961071171271371471571671771871971081181281381481581681781881981091191291391491591691791891991002102202302402502602702802902012112212312412512612712812912022122222322422522622722822922032132232332432532632732832932042142242342442542642742842942052152252352452552652752852952062162262362462562662762862962072172272372472572672772872972082182282382482582682782882982092192292392492592692792892992003103203303403503603703803903013113213313413513613713813913023123223323423523623723823923033133233333433533633733833933043143243343443543643743843943053153253353453553653753853953063163263363463563663763863963073173273373473573673773873973083183283383483583683783883983093193293393493593693793893993004104204304404504604704804\n",
      "409\n",
      "526272829203132333435363738393041424344454647484940515253545556575859506162636465666768696071727374757677787970818283848586878889809192939495969798999001101201301401501601701801901011111211311411511611711811911021121221321421521621721821921031131231331431531631731831931041141241341441541641741841941051151251351451551651751851951061161261361461561661761861961071171271371471571671771871971081181281381481581681781881981091191291391491591691791891991002102202302402502602702802902012112212312412512612712812912022122222322422522622722822922032132232332432532632732832932042142242342442542642742842942052152252352452552652752852952062162262362462562662762862962072172272372472572672772872972082182282382482582682782882982092192292392492592692792892992003103203303403503603703803903013113213313413513613713813913023123223323423523623723823923033133233333433533633733833933043143243343443543643743843943053153253353453553653753853953063163263363463563663763863963073173273373473573673773873973083183283383483583683783883983093193293393493593693793893993004104204304404504604704804904\n",
      "410\n",
      "526272829203132333435363738393041424344454647484940515253545556575859506162636465666768696071727374757677787970818283848586878889809192939495969798999001101201301401501601701801901011111211311411511611711811911021121221321421521621721821921031131231331431531631731831931041141241341441541641741841941051151251351451551651751851951061161261361461561661761861961071171271371471571671771871971081181281381481581681781881981091191291391491591691791891991002102202302402502602702802902012112212312412512612712812912022122222322422522622722822922032132232332432532632732832932042142242342442542642742842942052152252352452552652752852952062162262362462562662762862962072172272372472572672772872972082182282382482582682782882982092192292392492592692792892992003103203303403503603703803903013113213313413513613713813913023123223323423523623723823923033133233333433533633733833933043143243343443543643743843943053153253353453553653753853953063163263363463563663763863963073173273373473573673773873973083183283383483583683783883983093193293393493593693793893993004104204304404504604704804904014\n",
      "411\n",
      "526272829203132333435363738393041424344454647484940515253545556575859506162636465666768696071727374757677787970818283848586878889809192939495969798999001101201301401501601701801901011111211311411511611711811911021121221321421521621721821921031131231331431531631731831931041141241341441541641741841941051151251351451551651751851951061161261361461561661761861961071171271371471571671771871971081181281381481581681781881981091191291391491591691791891991002102202302402502602702802902012112212312412512612712812912022122222322422522622722822922032132232332432532632732832932042142242342442542642742842942052152252352452552652752852952062162262362462562662762862962072172272372472572672772872972082182282382482582682782882982092192292392492592692792892992003103203303403503603703803903013113213313413513613713813913023123223323423523623723823923033133233333433533633733833933043143243343443543643743843943053153253353453553653753853953063163263363463563663763863963073173273373473573673773873973083183283383483583683783883983093193293393493593693793893993004104204304404504604704804904014114\n",
      "412\n",
      "526272829203132333435363738393041424344454647484940515253545556575859506162636465666768696071727374757677787970818283848586878889809192939495969798999001101201301401501601701801901011111211311411511611711811911021121221321421521621721821921031131231331431531631731831931041141241341441541641741841941051151251351451551651751851951061161261361461561661761861961071171271371471571671771871971081181281381481581681781881981091191291391491591691791891991002102202302402502602702802902012112212312412512612712812912022122222322422522622722822922032132232332432532632732832932042142242342442542642742842942052152252352452552652752852952062162262362462562662762862962072172272372472572672772872972082182282382482582682782882982092192292392492592692792892992003103203303403503603703803903013113213313413513613713813913023123223323423523623723823923033133233333433533633733833933043143243343443543643743843943053153253353453553653753853953063163263363463563663763863963073173273373473573673773873973083183283383483583683783883983093193293393493593693793893993004104204304404504604704804904014114214\n",
      "413\n",
      "526272829203132333435363738393041424344454647484940515253545556575859506162636465666768696071727374757677787970818283848586878889809192939495969798999001101201301401501601701801901011111211311411511611711811911021121221321421521621721821921031131231331431531631731831931041141241341441541641741841941051151251351451551651751851951061161261361461561661761861961071171271371471571671771871971081181281381481581681781881981091191291391491591691791891991002102202302402502602702802902012112212312412512612712812912022122222322422522622722822922032132232332432532632732832932042142242342442542642742842942052152252352452552652752852952062162262362462562662762862962072172272372472572672772872972082182282382482582682782882982092192292392492592692792892992003103203303403503603703803903013113213313413513613713813913023123223323423523623723823923033133233333433533633733833933043143243343443543643743843943053153253353453553653753853953063163263363463563663763863963073173273373473573673773873973083183283383483583683783883983093193293393493593693793893993004104204304404504604704804904014114214314\n",
      "414\n",
      "526272829203132333435363738393041424344454647484940515253545556575859506162636465666768696071727374757677787970818283848586878889809192939495969798999001101201301401501601701801901011111211311411511611711811911021121221321421521621721821921031131231331431531631731831931041141241341441541641741841941051151251351451551651751851951061161261361461561661761861961071171271371471571671771871971081181281381481581681781881981091191291391491591691791891991002102202302402502602702802902012112212312412512612712812912022122222322422522622722822922032132232332432532632732832932042142242342442542642742842942052152252352452552652752852952062162262362462562662762862962072172272372472572672772872972082182282382482582682782882982092192292392492592692792892992003103203303403503603703803903013113213313413513613713813913023123223323423523623723823923033133233333433533633733833933043143243343443543643743843943053153253353453553653753853953063163263363463563663763863963073173273373473573673773873973083183283383483583683783883983093193293393493593693793893993004104204304404504604704804904014114214314414\n",
      "415\n",
      "526272829203132333435363738393041424344454647484940515253545556575859506162636465666768696071727374757677787970818283848586878889809192939495969798999001101201301401501601701801901011111211311411511611711811911021121221321421521621721821921031131231331431531631731831931041141241341441541641741841941051151251351451551651751851951061161261361461561661761861961071171271371471571671771871971081181281381481581681781881981091191291391491591691791891991002102202302402502602702802902012112212312412512612712812912022122222322422522622722822922032132232332432532632732832932042142242342442542642742842942052152252352452552652752852952062162262362462562662762862962072172272372472572672772872972082182282382482582682782882982092192292392492592692792892992003103203303403503603703803903013113213313413513613713813913023123223323423523623723823923033133233333433533633733833933043143243343443543643743843943053153253353453553653753853953063163263363463563663763863963073173273373473573673773873973083183283383483583683783883983093193293393493593693793893993004104204304404504604704804904014114214314414514\n",
      "416\n",
      "526272829203132333435363738393041424344454647484940515253545556575859506162636465666768696071727374757677787970818283848586878889809192939495969798999001101201301401501601701801901011111211311411511611711811911021121221321421521621721821921031131231331431531631731831931041141241341441541641741841941051151251351451551651751851951061161261361461561661761861961071171271371471571671771871971081181281381481581681781881981091191291391491591691791891991002102202302402502602702802902012112212312412512612712812912022122222322422522622722822922032132232332432532632732832932042142242342442542642742842942052152252352452552652752852952062162262362462562662762862962072172272372472572672772872972082182282382482582682782882982092192292392492592692792892992003103203303403503603703803903013113213313413513613713813913023123223323423523623723823923033133233333433533633733833933043143243343443543643743843943053153253353453553653753853953063163263363463563663763863963073173273373473573673773873973083183283383483583683783883983093193293393493593693793893993004104204304404504604704804904014114214314414514614\n",
      "417\n",
      "526272829203132333435363738393041424344454647484940515253545556575859506162636465666768696071727374757677787970818283848586878889809192939495969798999001101201301401501601701801901011111211311411511611711811911021121221321421521621721821921031131231331431531631731831931041141241341441541641741841941051151251351451551651751851951061161261361461561661761861961071171271371471571671771871971081181281381481581681781881981091191291391491591691791891991002102202302402502602702802902012112212312412512612712812912022122222322422522622722822922032132232332432532632732832932042142242342442542642742842942052152252352452552652752852952062162262362462562662762862962072172272372472572672772872972082182282382482582682782882982092192292392492592692792892992003103203303403503603703803903013113213313413513613713813913023123223323423523623723823923033133233333433533633733833933043143243343443543643743843943053153253353453553653753853953063163263363463563663763863963073173273373473573673773873973083183283383483583683783883983093193293393493593693793893993004104204304404504604704804904014114214314414514614714\n",
      "418\n",
      "526272829203132333435363738393041424344454647484940515253545556575859506162636465666768696071727374757677787970818283848586878889809192939495969798999001101201301401501601701801901011111211311411511611711811911021121221321421521621721821921031131231331431531631731831931041141241341441541641741841941051151251351451551651751851951061161261361461561661761861961071171271371471571671771871971081181281381481581681781881981091191291391491591691791891991002102202302402502602702802902012112212312412512612712812912022122222322422522622722822922032132232332432532632732832932042142242342442542642742842942052152252352452552652752852952062162262362462562662762862962072172272372472572672772872972082182282382482582682782882982092192292392492592692792892992003103203303403503603703803903013113213313413513613713813913023123223323423523623723823923033133233333433533633733833933043143243343443543643743843943053153253353453553653753853953063163263363463563663763863963073173273373473573673773873973083183283383483583683783883983093193293393493593693793893993004104204304404504604704804904014114214314414514614714814\n",
      "419\n",
      "526272829203132333435363738393041424344454647484940515253545556575859506162636465666768696071727374757677787970818283848586878889809192939495969798999001101201301401501601701801901011111211311411511611711811911021121221321421521621721821921031131231331431531631731831931041141241341441541641741841941051151251351451551651751851951061161261361461561661761861961071171271371471571671771871971081181281381481581681781881981091191291391491591691791891991002102202302402502602702802902012112212312412512612712812912022122222322422522622722822922032132232332432532632732832932042142242342442542642742842942052152252352452552652752852952062162262362462562662762862962072172272372472572672772872972082182282382482582682782882982092192292392492592692792892992003103203303403503603703803903013113213313413513613713813913023123223323423523623723823923033133233333433533633733833933043143243343443543643743843943053153253353453553653753853953063163263363463563663763863963073173273373473573673773873973083183283383483583683783883983093193293393493593693793893993004104204304404504604704804904014114214314414514614714814914\n",
      "420\n",
      "526272829203132333435363738393041424344454647484940515253545556575859506162636465666768696071727374757677787970818283848586878889809192939495969798999001101201301401501601701801901011111211311411511611711811911021121221321421521621721821921031131231331431531631731831931041141241341441541641741841941051151251351451551651751851951061161261361461561661761861961071171271371471571671771871971081181281381481581681781881981091191291391491591691791891991002102202302402502602702802902012112212312412512612712812912022122222322422522622722822922032132232332432532632732832932042142242342442542642742842942052152252352452552652752852952062162262362462562662762862962072172272372472572672772872972082182282382482582682782882982092192292392492592692792892992003103203303403503603703803903013113213313413513613713813913023123223323423523623723823923033133233333433533633733833933043143243343443543643743843943053153253353453553653753853953063163263363463563663763863963073173273373473573673773873973083183283383483583683783883983093193293393493593693793893993004104204304404504604704804904014114214314414514614714814914024\n",
      "421\n",
      "526272829203132333435363738393041424344454647484940515253545556575859506162636465666768696071727374757677787970818283848586878889809192939495969798999001101201301401501601701801901011111211311411511611711811911021121221321421521621721821921031131231331431531631731831931041141241341441541641741841941051151251351451551651751851951061161261361461561661761861961071171271371471571671771871971081181281381481581681781881981091191291391491591691791891991002102202302402502602702802902012112212312412512612712812912022122222322422522622722822922032132232332432532632732832932042142242342442542642742842942052152252352452552652752852952062162262362462562662762862962072172272372472572672772872972082182282382482582682782882982092192292392492592692792892992003103203303403503603703803903013113213313413513613713813913023123223323423523623723823923033133233333433533633733833933043143243343443543643743843943053153253353453553653753853953063163263363463563663763863963073173273373473573673773873973083183283383483583683783883983093193293393493593693793893993004104204304404504604704804904014114214314414514614714814914024124\n",
      "422\n",
      "526272829203132333435363738393041424344454647484940515253545556575859506162636465666768696071727374757677787970818283848586878889809192939495969798999001101201301401501601701801901011111211311411511611711811911021121221321421521621721821921031131231331431531631731831931041141241341441541641741841941051151251351451551651751851951061161261361461561661761861961071171271371471571671771871971081181281381481581681781881981091191291391491591691791891991002102202302402502602702802902012112212312412512612712812912022122222322422522622722822922032132232332432532632732832932042142242342442542642742842942052152252352452552652752852952062162262362462562662762862962072172272372472572672772872972082182282382482582682782882982092192292392492592692792892992003103203303403503603703803903013113213313413513613713813913023123223323423523623723823923033133233333433533633733833933043143243343443543643743843943053153253353453553653753853953063163263363463563663763863963073173273373473573673773873973083183283383483583683783883983093193293393493593693793893993004104204304404504604704804904014114214314414514614714814914024124224\n",
      "423\n",
      "526272829203132333435363738393041424344454647484940515253545556575859506162636465666768696071727374757677787970818283848586878889809192939495969798999001101201301401501601701801901011111211311411511611711811911021121221321421521621721821921031131231331431531631731831931041141241341441541641741841941051151251351451551651751851951061161261361461561661761861961071171271371471571671771871971081181281381481581681781881981091191291391491591691791891991002102202302402502602702802902012112212312412512612712812912022122222322422522622722822922032132232332432532632732832932042142242342442542642742842942052152252352452552652752852952062162262362462562662762862962072172272372472572672772872972082182282382482582682782882982092192292392492592692792892992003103203303403503603703803903013113213313413513613713813913023123223323423523623723823923033133233333433533633733833933043143243343443543643743843943053153253353453553653753853953063163263363463563663763863963073173273373473573673773873973083183283383483583683783883983093193293393493593693793893993004104204304404504604704804904014114214314414514614714814914024124224324\n",
      "424\n",
      "526272829203132333435363738393041424344454647484940515253545556575859506162636465666768696071727374757677787970818283848586878889809192939495969798999001101201301401501601701801901011111211311411511611711811911021121221321421521621721821921031131231331431531631731831931041141241341441541641741841941051151251351451551651751851951061161261361461561661761861961071171271371471571671771871971081181281381481581681781881981091191291391491591691791891991002102202302402502602702802902012112212312412512612712812912022122222322422522622722822922032132232332432532632732832932042142242342442542642742842942052152252352452552652752852952062162262362462562662762862962072172272372472572672772872972082182282382482582682782882982092192292392492592692792892992003103203303403503603703803903013113213313413513613713813913023123223323423523623723823923033133233333433533633733833933043143243343443543643743843943053153253353453553653753853953063163263363463563663763863963073173273373473573673773873973083183283383483583683783883983093193293393493593693793893993004104204304404504604704804904014114214314414514614714814914024124224324424\n",
      "425\n",
      "526272829203132333435363738393041424344454647484940515253545556575859506162636465666768696071727374757677787970818283848586878889809192939495969798999001101201301401501601701801901011111211311411511611711811911021121221321421521621721821921031131231331431531631731831931041141241341441541641741841941051151251351451551651751851951061161261361461561661761861961071171271371471571671771871971081181281381481581681781881981091191291391491591691791891991002102202302402502602702802902012112212312412512612712812912022122222322422522622722822922032132232332432532632732832932042142242342442542642742842942052152252352452552652752852952062162262362462562662762862962072172272372472572672772872972082182282382482582682782882982092192292392492592692792892992003103203303403503603703803903013113213313413513613713813913023123223323423523623723823923033133233333433533633733833933043143243343443543643743843943053153253353453553653753853953063163263363463563663763863963073173273373473573673773873973083183283383483583683783883983093193293393493593693793893993004104204304404504604704804904014114214314414514614714814914024124224324424524\n",
      "426\n",
      "526272829203132333435363738393041424344454647484940515253545556575859506162636465666768696071727374757677787970818283848586878889809192939495969798999001101201301401501601701801901011111211311411511611711811911021121221321421521621721821921031131231331431531631731831931041141241341441541641741841941051151251351451551651751851951061161261361461561661761861961071171271371471571671771871971081181281381481581681781881981091191291391491591691791891991002102202302402502602702802902012112212312412512612712812912022122222322422522622722822922032132232332432532632732832932042142242342442542642742842942052152252352452552652752852952062162262362462562662762862962072172272372472572672772872972082182282382482582682782882982092192292392492592692792892992003103203303403503603703803903013113213313413513613713813913023123223323423523623723823923033133233333433533633733833933043143243343443543643743843943053153253353453553653753853953063163263363463563663763863963073173273373473573673773873973083183283383483583683783883983093193293393493593693793893993004104204304404504604704804904014114214314414514614714814914024124224324424524624\n",
      "427\n",
      "526272829203132333435363738393041424344454647484940515253545556575859506162636465666768696071727374757677787970818283848586878889809192939495969798999001101201301401501601701801901011111211311411511611711811911021121221321421521621721821921031131231331431531631731831931041141241341441541641741841941051151251351451551651751851951061161261361461561661761861961071171271371471571671771871971081181281381481581681781881981091191291391491591691791891991002102202302402502602702802902012112212312412512612712812912022122222322422522622722822922032132232332432532632732832932042142242342442542642742842942052152252352452552652752852952062162262362462562662762862962072172272372472572672772872972082182282382482582682782882982092192292392492592692792892992003103203303403503603703803903013113213313413513613713813913023123223323423523623723823923033133233333433533633733833933043143243343443543643743843943053153253353453553653753853953063163263363463563663763863963073173273373473573673773873973083183283383483583683783883983093193293393493593693793893993004104204304404504604704804904014114214314414514614714814914024124224324424524624724\n",
      "428\n",
      "526272829203132333435363738393041424344454647484940515253545556575859506162636465666768696071727374757677787970818283848586878889809192939495969798999001101201301401501601701801901011111211311411511611711811911021121221321421521621721821921031131231331431531631731831931041141241341441541641741841941051151251351451551651751851951061161261361461561661761861961071171271371471571671771871971081181281381481581681781881981091191291391491591691791891991002102202302402502602702802902012112212312412512612712812912022122222322422522622722822922032132232332432532632732832932042142242342442542642742842942052152252352452552652752852952062162262362462562662762862962072172272372472572672772872972082182282382482582682782882982092192292392492592692792892992003103203303403503603703803903013113213313413513613713813913023123223323423523623723823923033133233333433533633733833933043143243343443543643743843943053153253353453553653753853953063163263363463563663763863963073173273373473573673773873973083183283383483583683783883983093193293393493593693793893993004104204304404504604704804904014114214314414514614714814914024124224324424524624724824\n",
      "429\n",
      "526272829203132333435363738393041424344454647484940515253545556575859506162636465666768696071727374757677787970818283848586878889809192939495969798999001101201301401501601701801901011111211311411511611711811911021121221321421521621721821921031131231331431531631731831931041141241341441541641741841941051151251351451551651751851951061161261361461561661761861961071171271371471571671771871971081181281381481581681781881981091191291391491591691791891991002102202302402502602702802902012112212312412512612712812912022122222322422522622722822922032132232332432532632732832932042142242342442542642742842942052152252352452552652752852952062162262362462562662762862962072172272372472572672772872972082182282382482582682782882982092192292392492592692792892992003103203303403503603703803903013113213313413513613713813913023123223323423523623723823923033133233333433533633733833933043143243343443543643743843943053153253353453553653753853953063163263363463563663763863963073173273373473573673773873973083183283383483583683783883983093193293393493593693793893993004104204304404504604704804904014114214314414514614714814914024124224324424524624724824924\n",
      "430\n",
      "526272829203132333435363738393041424344454647484940515253545556575859506162636465666768696071727374757677787970818283848586878889809192939495969798999001101201301401501601701801901011111211311411511611711811911021121221321421521621721821921031131231331431531631731831931041141241341441541641741841941051151251351451551651751851951061161261361461561661761861961071171271371471571671771871971081181281381481581681781881981091191291391491591691791891991002102202302402502602702802902012112212312412512612712812912022122222322422522622722822922032132232332432532632732832932042142242342442542642742842942052152252352452552652752852952062162262362462562662762862962072172272372472572672772872972082182282382482582682782882982092192292392492592692792892992003103203303403503603703803903013113213313413513613713813913023123223323423523623723823923033133233333433533633733833933043143243343443543643743843943053153253353453553653753853953063163263363463563663763863963073173273373473573673773873973083183283383483583683783883983093193293393493593693793893993004104204304404504604704804904014114214314414514614714814914024124224324424524624724824924034\n",
      "431\n",
      "526272829203132333435363738393041424344454647484940515253545556575859506162636465666768696071727374757677787970818283848586878889809192939495969798999001101201301401501601701801901011111211311411511611711811911021121221321421521621721821921031131231331431531631731831931041141241341441541641741841941051151251351451551651751851951061161261361461561661761861961071171271371471571671771871971081181281381481581681781881981091191291391491591691791891991002102202302402502602702802902012112212312412512612712812912022122222322422522622722822922032132232332432532632732832932042142242342442542642742842942052152252352452552652752852952062162262362462562662762862962072172272372472572672772872972082182282382482582682782882982092192292392492592692792892992003103203303403503603703803903013113213313413513613713813913023123223323423523623723823923033133233333433533633733833933043143243343443543643743843943053153253353453553653753853953063163263363463563663763863963073173273373473573673773873973083183283383483583683783883983093193293393493593693793893993004104204304404504604704804904014114214314414514614714814914024124224324424524624724824924034134\n",
      "432\n",
      "526272829203132333435363738393041424344454647484940515253545556575859506162636465666768696071727374757677787970818283848586878889809192939495969798999001101201301401501601701801901011111211311411511611711811911021121221321421521621721821921031131231331431531631731831931041141241341441541641741841941051151251351451551651751851951061161261361461561661761861961071171271371471571671771871971081181281381481581681781881981091191291391491591691791891991002102202302402502602702802902012112212312412512612712812912022122222322422522622722822922032132232332432532632732832932042142242342442542642742842942052152252352452552652752852952062162262362462562662762862962072172272372472572672772872972082182282382482582682782882982092192292392492592692792892992003103203303403503603703803903013113213313413513613713813913023123223323423523623723823923033133233333433533633733833933043143243343443543643743843943053153253353453553653753853953063163263363463563663763863963073173273373473573673773873973083183283383483583683783883983093193293393493593693793893993004104204304404504604704804904014114214314414514614714814914024124224324424524624724824924034134234\n",
      "433\n",
      "526272829203132333435363738393041424344454647484940515253545556575859506162636465666768696071727374757677787970818283848586878889809192939495969798999001101201301401501601701801901011111211311411511611711811911021121221321421521621721821921031131231331431531631731831931041141241341441541641741841941051151251351451551651751851951061161261361461561661761861961071171271371471571671771871971081181281381481581681781881981091191291391491591691791891991002102202302402502602702802902012112212312412512612712812912022122222322422522622722822922032132232332432532632732832932042142242342442542642742842942052152252352452552652752852952062162262362462562662762862962072172272372472572672772872972082182282382482582682782882982092192292392492592692792892992003103203303403503603703803903013113213313413513613713813913023123223323423523623723823923033133233333433533633733833933043143243343443543643743843943053153253353453553653753853953063163263363463563663763863963073173273373473573673773873973083183283383483583683783883983093193293393493593693793893993004104204304404504604704804904014114214314414514614714814914024124224324424524624724824924034134234334\n",
      "434\n",
      "526272829203132333435363738393041424344454647484940515253545556575859506162636465666768696071727374757677787970818283848586878889809192939495969798999001101201301401501601701801901011111211311411511611711811911021121221321421521621721821921031131231331431531631731831931041141241341441541641741841941051151251351451551651751851951061161261361461561661761861961071171271371471571671771871971081181281381481581681781881981091191291391491591691791891991002102202302402502602702802902012112212312412512612712812912022122222322422522622722822922032132232332432532632732832932042142242342442542642742842942052152252352452552652752852952062162262362462562662762862962072172272372472572672772872972082182282382482582682782882982092192292392492592692792892992003103203303403503603703803903013113213313413513613713813913023123223323423523623723823923033133233333433533633733833933043143243343443543643743843943053153253353453553653753853953063163263363463563663763863963073173273373473573673773873973083183283383483583683783883983093193293393493593693793893993004104204304404504604704804904014114214314414514614714814914024124224324424524624724824924034134234334434\n",
      "435\n",
      "526272829203132333435363738393041424344454647484940515253545556575859506162636465666768696071727374757677787970818283848586878889809192939495969798999001101201301401501601701801901011111211311411511611711811911021121221321421521621721821921031131231331431531631731831931041141241341441541641741841941051151251351451551651751851951061161261361461561661761861961071171271371471571671771871971081181281381481581681781881981091191291391491591691791891991002102202302402502602702802902012112212312412512612712812912022122222322422522622722822922032132232332432532632732832932042142242342442542642742842942052152252352452552652752852952062162262362462562662762862962072172272372472572672772872972082182282382482582682782882982092192292392492592692792892992003103203303403503603703803903013113213313413513613713813913023123223323423523623723823923033133233333433533633733833933043143243343443543643743843943053153253353453553653753853953063163263363463563663763863963073173273373473573673773873973083183283383483583683783883983093193293393493593693793893993004104204304404504604704804904014114214314414514614714814914024124224324424524624724824924034134234334434534\n",
      "436\n",
      "526272829203132333435363738393041424344454647484940515253545556575859506162636465666768696071727374757677787970818283848586878889809192939495969798999001101201301401501601701801901011111211311411511611711811911021121221321421521621721821921031131231331431531631731831931041141241341441541641741841941051151251351451551651751851951061161261361461561661761861961071171271371471571671771871971081181281381481581681781881981091191291391491591691791891991002102202302402502602702802902012112212312412512612712812912022122222322422522622722822922032132232332432532632732832932042142242342442542642742842942052152252352452552652752852952062162262362462562662762862962072172272372472572672772872972082182282382482582682782882982092192292392492592692792892992003103203303403503603703803903013113213313413513613713813913023123223323423523623723823923033133233333433533633733833933043143243343443543643743843943053153253353453553653753853953063163263363463563663763863963073173273373473573673773873973083183283383483583683783883983093193293393493593693793893993004104204304404504604704804904014114214314414514614714814914024124224324424524624724824924034134234334434534634\n",
      "437\n",
      "526272829203132333435363738393041424344454647484940515253545556575859506162636465666768696071727374757677787970818283848586878889809192939495969798999001101201301401501601701801901011111211311411511611711811911021121221321421521621721821921031131231331431531631731831931041141241341441541641741841941051151251351451551651751851951061161261361461561661761861961071171271371471571671771871971081181281381481581681781881981091191291391491591691791891991002102202302402502602702802902012112212312412512612712812912022122222322422522622722822922032132232332432532632732832932042142242342442542642742842942052152252352452552652752852952062162262362462562662762862962072172272372472572672772872972082182282382482582682782882982092192292392492592692792892992003103203303403503603703803903013113213313413513613713813913023123223323423523623723823923033133233333433533633733833933043143243343443543643743843943053153253353453553653753853953063163263363463563663763863963073173273373473573673773873973083183283383483583683783883983093193293393493593693793893993004104204304404504604704804904014114214314414514614714814914024124224324424524624724824924034134234334434534634734\n",
      "438\n",
      "526272829203132333435363738393041424344454647484940515253545556575859506162636465666768696071727374757677787970818283848586878889809192939495969798999001101201301401501601701801901011111211311411511611711811911021121221321421521621721821921031131231331431531631731831931041141241341441541641741841941051151251351451551651751851951061161261361461561661761861961071171271371471571671771871971081181281381481581681781881981091191291391491591691791891991002102202302402502602702802902012112212312412512612712812912022122222322422522622722822922032132232332432532632732832932042142242342442542642742842942052152252352452552652752852952062162262362462562662762862962072172272372472572672772872972082182282382482582682782882982092192292392492592692792892992003103203303403503603703803903013113213313413513613713813913023123223323423523623723823923033133233333433533633733833933043143243343443543643743843943053153253353453553653753853953063163263363463563663763863963073173273373473573673773873973083183283383483583683783883983093193293393493593693793893993004104204304404504604704804904014114214314414514614714814914024124224324424524624724824924034134234334434534634734834\n",
      "439\n",
      "526272829203132333435363738393041424344454647484940515253545556575859506162636465666768696071727374757677787970818283848586878889809192939495969798999001101201301401501601701801901011111211311411511611711811911021121221321421521621721821921031131231331431531631731831931041141241341441541641741841941051151251351451551651751851951061161261361461561661761861961071171271371471571671771871971081181281381481581681781881981091191291391491591691791891991002102202302402502602702802902012112212312412512612712812912022122222322422522622722822922032132232332432532632732832932042142242342442542642742842942052152252352452552652752852952062162262362462562662762862962072172272372472572672772872972082182282382482582682782882982092192292392492592692792892992003103203303403503603703803903013113213313413513613713813913023123223323423523623723823923033133233333433533633733833933043143243343443543643743843943053153253353453553653753853953063163263363463563663763863963073173273373473573673773873973083183283383483583683783883983093193293393493593693793893993004104204304404504604704804904014114214314414514614714814914024124224324424524624724824924034134234334434534634734834934\n",
      "440\n",
      "526272829203132333435363738393041424344454647484940515253545556575859506162636465666768696071727374757677787970818283848586878889809192939495969798999001101201301401501601701801901011111211311411511611711811911021121221321421521621721821921031131231331431531631731831931041141241341441541641741841941051151251351451551651751851951061161261361461561661761861961071171271371471571671771871971081181281381481581681781881981091191291391491591691791891991002102202302402502602702802902012112212312412512612712812912022122222322422522622722822922032132232332432532632732832932042142242342442542642742842942052152252352452552652752852952062162262362462562662762862962072172272372472572672772872972082182282382482582682782882982092192292392492592692792892992003103203303403503603703803903013113213313413513613713813913023123223323423523623723823923033133233333433533633733833933043143243343443543643743843943053153253353453553653753853953063163263363463563663763863963073173273373473573673773873973083183283383483583683783883983093193293393493593693793893993004104204304404504604704804904014114214314414514614714814914024124224324424524624724824924034134234334434534634734834934044\n",
      "441\n",
      "526272829203132333435363738393041424344454647484940515253545556575859506162636465666768696071727374757677787970818283848586878889809192939495969798999001101201301401501601701801901011111211311411511611711811911021121221321421521621721821921031131231331431531631731831931041141241341441541641741841941051151251351451551651751851951061161261361461561661761861961071171271371471571671771871971081181281381481581681781881981091191291391491591691791891991002102202302402502602702802902012112212312412512612712812912022122222322422522622722822922032132232332432532632732832932042142242342442542642742842942052152252352452552652752852952062162262362462562662762862962072172272372472572672772872972082182282382482582682782882982092192292392492592692792892992003103203303403503603703803903013113213313413513613713813913023123223323423523623723823923033133233333433533633733833933043143243343443543643743843943053153253353453553653753853953063163263363463563663763863963073173273373473573673773873973083183283383483583683783883983093193293393493593693793893993004104204304404504604704804904014114214314414514614714814914024124224324424524624724824924034134234334434534634734834934044144\n",
      "442\n",
      "526272829203132333435363738393041424344454647484940515253545556575859506162636465666768696071727374757677787970818283848586878889809192939495969798999001101201301401501601701801901011111211311411511611711811911021121221321421521621721821921031131231331431531631731831931041141241341441541641741841941051151251351451551651751851951061161261361461561661761861961071171271371471571671771871971081181281381481581681781881981091191291391491591691791891991002102202302402502602702802902012112212312412512612712812912022122222322422522622722822922032132232332432532632732832932042142242342442542642742842942052152252352452552652752852952062162262362462562662762862962072172272372472572672772872972082182282382482582682782882982092192292392492592692792892992003103203303403503603703803903013113213313413513613713813913023123223323423523623723823923033133233333433533633733833933043143243343443543643743843943053153253353453553653753853953063163263363463563663763863963073173273373473573673773873973083183283383483583683783883983093193293393493593693793893993004104204304404504604704804904014114214314414514614714814914024124224324424524624724824924034134234334434534634734834934044144244\n",
      "443\n",
      "526272829203132333435363738393041424344454647484940515253545556575859506162636465666768696071727374757677787970818283848586878889809192939495969798999001101201301401501601701801901011111211311411511611711811911021121221321421521621721821921031131231331431531631731831931041141241341441541641741841941051151251351451551651751851951061161261361461561661761861961071171271371471571671771871971081181281381481581681781881981091191291391491591691791891991002102202302402502602702802902012112212312412512612712812912022122222322422522622722822922032132232332432532632732832932042142242342442542642742842942052152252352452552652752852952062162262362462562662762862962072172272372472572672772872972082182282382482582682782882982092192292392492592692792892992003103203303403503603703803903013113213313413513613713813913023123223323423523623723823923033133233333433533633733833933043143243343443543643743843943053153253353453553653753853953063163263363463563663763863963073173273373473573673773873973083183283383483583683783883983093193293393493593693793893993004104204304404504604704804904014114214314414514614714814914024124224324424524624724824924034134234334434534634734834934044144244344\n",
      "444\n",
      "526272829203132333435363738393041424344454647484940515253545556575859506162636465666768696071727374757677787970818283848586878889809192939495969798999001101201301401501601701801901011111211311411511611711811911021121221321421521621721821921031131231331431531631731831931041141241341441541641741841941051151251351451551651751851951061161261361461561661761861961071171271371471571671771871971081181281381481581681781881981091191291391491591691791891991002102202302402502602702802902012112212312412512612712812912022122222322422522622722822922032132232332432532632732832932042142242342442542642742842942052152252352452552652752852952062162262362462562662762862962072172272372472572672772872972082182282382482582682782882982092192292392492592692792892992003103203303403503603703803903013113213313413513613713813913023123223323423523623723823923033133233333433533633733833933043143243343443543643743843943053153253353453553653753853953063163263363463563663763863963073173273373473573673773873973083183283383483583683783883983093193293393493593693793893993004104204304404504604704804904014114214314414514614714814914024124224324424524624724824924034134234334434534634734834934044144244344444\n",
      "445\n",
      "526272829203132333435363738393041424344454647484940515253545556575859506162636465666768696071727374757677787970818283848586878889809192939495969798999001101201301401501601701801901011111211311411511611711811911021121221321421521621721821921031131231331431531631731831931041141241341441541641741841941051151251351451551651751851951061161261361461561661761861961071171271371471571671771871971081181281381481581681781881981091191291391491591691791891991002102202302402502602702802902012112212312412512612712812912022122222322422522622722822922032132232332432532632732832932042142242342442542642742842942052152252352452552652752852952062162262362462562662762862962072172272372472572672772872972082182282382482582682782882982092192292392492592692792892992003103203303403503603703803903013113213313413513613713813913023123223323423523623723823923033133233333433533633733833933043143243343443543643743843943053153253353453553653753853953063163263363463563663763863963073173273373473573673773873973083183283383483583683783883983093193293393493593693793893993004104204304404504604704804904014114214314414514614714814914024124224324424524624724824924034134234334434534634734834934044144244344444544\n",
      "446\n",
      "526272829203132333435363738393041424344454647484940515253545556575859506162636465666768696071727374757677787970818283848586878889809192939495969798999001101201301401501601701801901011111211311411511611711811911021121221321421521621721821921031131231331431531631731831931041141241341441541641741841941051151251351451551651751851951061161261361461561661761861961071171271371471571671771871971081181281381481581681781881981091191291391491591691791891991002102202302402502602702802902012112212312412512612712812912022122222322422522622722822922032132232332432532632732832932042142242342442542642742842942052152252352452552652752852952062162262362462562662762862962072172272372472572672772872972082182282382482582682782882982092192292392492592692792892992003103203303403503603703803903013113213313413513613713813913023123223323423523623723823923033133233333433533633733833933043143243343443543643743843943053153253353453553653753853953063163263363463563663763863963073173273373473573673773873973083183283383483583683783883983093193293393493593693793893993004104204304404504604704804904014114214314414514614714814914024124224324424524624724824924034134234334434534634734834934044144244344444544644\n",
      "447\n",
      "526272829203132333435363738393041424344454647484940515253545556575859506162636465666768696071727374757677787970818283848586878889809192939495969798999001101201301401501601701801901011111211311411511611711811911021121221321421521621721821921031131231331431531631731831931041141241341441541641741841941051151251351451551651751851951061161261361461561661761861961071171271371471571671771871971081181281381481581681781881981091191291391491591691791891991002102202302402502602702802902012112212312412512612712812912022122222322422522622722822922032132232332432532632732832932042142242342442542642742842942052152252352452552652752852952062162262362462562662762862962072172272372472572672772872972082182282382482582682782882982092192292392492592692792892992003103203303403503603703803903013113213313413513613713813913023123223323423523623723823923033133233333433533633733833933043143243343443543643743843943053153253353453553653753853953063163263363463563663763863963073173273373473573673773873973083183283383483583683783883983093193293393493593693793893993004104204304404504604704804904014114214314414514614714814914024124224324424524624724824924034134234334434534634734834934044144244344444544644744\n",
      "448\n",
      "526272829203132333435363738393041424344454647484940515253545556575859506162636465666768696071727374757677787970818283848586878889809192939495969798999001101201301401501601701801901011111211311411511611711811911021121221321421521621721821921031131231331431531631731831931041141241341441541641741841941051151251351451551651751851951061161261361461561661761861961071171271371471571671771871971081181281381481581681781881981091191291391491591691791891991002102202302402502602702802902012112212312412512612712812912022122222322422522622722822922032132232332432532632732832932042142242342442542642742842942052152252352452552652752852952062162262362462562662762862962072172272372472572672772872972082182282382482582682782882982092192292392492592692792892992003103203303403503603703803903013113213313413513613713813913023123223323423523623723823923033133233333433533633733833933043143243343443543643743843943053153253353453553653753853953063163263363463563663763863963073173273373473573673773873973083183283383483583683783883983093193293393493593693793893993004104204304404504604704804904014114214314414514614714814914024124224324424524624724824924034134234334434534634734834934044144244344444544644744844\n",
      "449\n",
      "526272829203132333435363738393041424344454647484940515253545556575859506162636465666768696071727374757677787970818283848586878889809192939495969798999001101201301401501601701801901011111211311411511611711811911021121221321421521621721821921031131231331431531631731831931041141241341441541641741841941051151251351451551651751851951061161261361461561661761861961071171271371471571671771871971081181281381481581681781881981091191291391491591691791891991002102202302402502602702802902012112212312412512612712812912022122222322422522622722822922032132232332432532632732832932042142242342442542642742842942052152252352452552652752852952062162262362462562662762862962072172272372472572672772872972082182282382482582682782882982092192292392492592692792892992003103203303403503603703803903013113213313413513613713813913023123223323423523623723823923033133233333433533633733833933043143243343443543643743843943053153253353453553653753853953063163263363463563663763863963073173273373473573673773873973083183283383483583683783883983093193293393493593693793893993004104204304404504604704804904014114214314414514614714814914024124224324424524624724824924034134234334434534634734834934044144244344444544644744844944\n",
      "450\n",
      "526272829203132333435363738393041424344454647484940515253545556575859506162636465666768696071727374757677787970818283848586878889809192939495969798999001101201301401501601701801901011111211311411511611711811911021121221321421521621721821921031131231331431531631731831931041141241341441541641741841941051151251351451551651751851951061161261361461561661761861961071171271371471571671771871971081181281381481581681781881981091191291391491591691791891991002102202302402502602702802902012112212312412512612712812912022122222322422522622722822922032132232332432532632732832932042142242342442542642742842942052152252352452552652752852952062162262362462562662762862962072172272372472572672772872972082182282382482582682782882982092192292392492592692792892992003103203303403503603703803903013113213313413513613713813913023123223323423523623723823923033133233333433533633733833933043143243343443543643743843943053153253353453553653753853953063163263363463563663763863963073173273373473573673773873973083183283383483583683783883983093193293393493593693793893993004104204304404504604704804904014114214314414514614714814914024124224324424524624724824924034134234334434534634734834934044144244344444544644744844944054\n",
      "451\n",
      "526272829203132333435363738393041424344454647484940515253545556575859506162636465666768696071727374757677787970818283848586878889809192939495969798999001101201301401501601701801901011111211311411511611711811911021121221321421521621721821921031131231331431531631731831931041141241341441541641741841941051151251351451551651751851951061161261361461561661761861961071171271371471571671771871971081181281381481581681781881981091191291391491591691791891991002102202302402502602702802902012112212312412512612712812912022122222322422522622722822922032132232332432532632732832932042142242342442542642742842942052152252352452552652752852952062162262362462562662762862962072172272372472572672772872972082182282382482582682782882982092192292392492592692792892992003103203303403503603703803903013113213313413513613713813913023123223323423523623723823923033133233333433533633733833933043143243343443543643743843943053153253353453553653753853953063163263363463563663763863963073173273373473573673773873973083183283383483583683783883983093193293393493593693793893993004104204304404504604704804904014114214314414514614714814914024124224324424524624724824924034134234334434534634734834934044144244344444544644744844944054154\n",
      "452\n",
      "526272829203132333435363738393041424344454647484940515253545556575859506162636465666768696071727374757677787970818283848586878889809192939495969798999001101201301401501601701801901011111211311411511611711811911021121221321421521621721821921031131231331431531631731831931041141241341441541641741841941051151251351451551651751851951061161261361461561661761861961071171271371471571671771871971081181281381481581681781881981091191291391491591691791891991002102202302402502602702802902012112212312412512612712812912022122222322422522622722822922032132232332432532632732832932042142242342442542642742842942052152252352452552652752852952062162262362462562662762862962072172272372472572672772872972082182282382482582682782882982092192292392492592692792892992003103203303403503603703803903013113213313413513613713813913023123223323423523623723823923033133233333433533633733833933043143243343443543643743843943053153253353453553653753853953063163263363463563663763863963073173273373473573673773873973083183283383483583683783883983093193293393493593693793893993004104204304404504604704804904014114214314414514614714814914024124224324424524624724824924034134234334434534634734834934044144244344444544644744844944054154254\n",
      "453\n",
      "526272829203132333435363738393041424344454647484940515253545556575859506162636465666768696071727374757677787970818283848586878889809192939495969798999001101201301401501601701801901011111211311411511611711811911021121221321421521621721821921031131231331431531631731831931041141241341441541641741841941051151251351451551651751851951061161261361461561661761861961071171271371471571671771871971081181281381481581681781881981091191291391491591691791891991002102202302402502602702802902012112212312412512612712812912022122222322422522622722822922032132232332432532632732832932042142242342442542642742842942052152252352452552652752852952062162262362462562662762862962072172272372472572672772872972082182282382482582682782882982092192292392492592692792892992003103203303403503603703803903013113213313413513613713813913023123223323423523623723823923033133233333433533633733833933043143243343443543643743843943053153253353453553653753853953063163263363463563663763863963073173273373473573673773873973083183283383483583683783883983093193293393493593693793893993004104204304404504604704804904014114214314414514614714814914024124224324424524624724824924034134234334434534634734834934044144244344444544644744844944054154254354\n",
      "454\n",
      "526272829203132333435363738393041424344454647484940515253545556575859506162636465666768696071727374757677787970818283848586878889809192939495969798999001101201301401501601701801901011111211311411511611711811911021121221321421521621721821921031131231331431531631731831931041141241341441541641741841941051151251351451551651751851951061161261361461561661761861961071171271371471571671771871971081181281381481581681781881981091191291391491591691791891991002102202302402502602702802902012112212312412512612712812912022122222322422522622722822922032132232332432532632732832932042142242342442542642742842942052152252352452552652752852952062162262362462562662762862962072172272372472572672772872972082182282382482582682782882982092192292392492592692792892992003103203303403503603703803903013113213313413513613713813913023123223323423523623723823923033133233333433533633733833933043143243343443543643743843943053153253353453553653753853953063163263363463563663763863963073173273373473573673773873973083183283383483583683783883983093193293393493593693793893993004104204304404504604704804904014114214314414514614714814914024124224324424524624724824924034134234334434534634734834934044144244344444544644744844944054154254354454\n",
      "455\n",
      "526272829203132333435363738393041424344454647484940515253545556575859506162636465666768696071727374757677787970818283848586878889809192939495969798999001101201301401501601701801901011111211311411511611711811911021121221321421521621721821921031131231331431531631731831931041141241341441541641741841941051151251351451551651751851951061161261361461561661761861961071171271371471571671771871971081181281381481581681781881981091191291391491591691791891991002102202302402502602702802902012112212312412512612712812912022122222322422522622722822922032132232332432532632732832932042142242342442542642742842942052152252352452552652752852952062162262362462562662762862962072172272372472572672772872972082182282382482582682782882982092192292392492592692792892992003103203303403503603703803903013113213313413513613713813913023123223323423523623723823923033133233333433533633733833933043143243343443543643743843943053153253353453553653753853953063163263363463563663763863963073173273373473573673773873973083183283383483583683783883983093193293393493593693793893993004104204304404504604704804904014114214314414514614714814914024124224324424524624724824924034134234334434534634734834934044144244344444544644744844944054154254354454554\n",
      "456\n",
      "526272829203132333435363738393041424344454647484940515253545556575859506162636465666768696071727374757677787970818283848586878889809192939495969798999001101201301401501601701801901011111211311411511611711811911021121221321421521621721821921031131231331431531631731831931041141241341441541641741841941051151251351451551651751851951061161261361461561661761861961071171271371471571671771871971081181281381481581681781881981091191291391491591691791891991002102202302402502602702802902012112212312412512612712812912022122222322422522622722822922032132232332432532632732832932042142242342442542642742842942052152252352452552652752852952062162262362462562662762862962072172272372472572672772872972082182282382482582682782882982092192292392492592692792892992003103203303403503603703803903013113213313413513613713813913023123223323423523623723823923033133233333433533633733833933043143243343443543643743843943053153253353453553653753853953063163263363463563663763863963073173273373473573673773873973083183283383483583683783883983093193293393493593693793893993004104204304404504604704804904014114214314414514614714814914024124224324424524624724824924034134234334434534634734834934044144244344444544644744844944054154254354454554654\n",
      "457\n",
      "526272829203132333435363738393041424344454647484940515253545556575859506162636465666768696071727374757677787970818283848586878889809192939495969798999001101201301401501601701801901011111211311411511611711811911021121221321421521621721821921031131231331431531631731831931041141241341441541641741841941051151251351451551651751851951061161261361461561661761861961071171271371471571671771871971081181281381481581681781881981091191291391491591691791891991002102202302402502602702802902012112212312412512612712812912022122222322422522622722822922032132232332432532632732832932042142242342442542642742842942052152252352452552652752852952062162262362462562662762862962072172272372472572672772872972082182282382482582682782882982092192292392492592692792892992003103203303403503603703803903013113213313413513613713813913023123223323423523623723823923033133233333433533633733833933043143243343443543643743843943053153253353453553653753853953063163263363463563663763863963073173273373473573673773873973083183283383483583683783883983093193293393493593693793893993004104204304404504604704804904014114214314414514614714814914024124224324424524624724824924034134234334434534634734834934044144244344444544644744844944054154254354454554654754\n",
      "458\n",
      "526272829203132333435363738393041424344454647484940515253545556575859506162636465666768696071727374757677787970818283848586878889809192939495969798999001101201301401501601701801901011111211311411511611711811911021121221321421521621721821921031131231331431531631731831931041141241341441541641741841941051151251351451551651751851951061161261361461561661761861961071171271371471571671771871971081181281381481581681781881981091191291391491591691791891991002102202302402502602702802902012112212312412512612712812912022122222322422522622722822922032132232332432532632732832932042142242342442542642742842942052152252352452552652752852952062162262362462562662762862962072172272372472572672772872972082182282382482582682782882982092192292392492592692792892992003103203303403503603703803903013113213313413513613713813913023123223323423523623723823923033133233333433533633733833933043143243343443543643743843943053153253353453553653753853953063163263363463563663763863963073173273373473573673773873973083183283383483583683783883983093193293393493593693793893993004104204304404504604704804904014114214314414514614714814914024124224324424524624724824924034134234334434534634734834934044144244344444544644744844944054154254354454554654754854\n",
      "459\n",
      "526272829203132333435363738393041424344454647484940515253545556575859506162636465666768696071727374757677787970818283848586878889809192939495969798999001101201301401501601701801901011111211311411511611711811911021121221321421521621721821921031131231331431531631731831931041141241341441541641741841941051151251351451551651751851951061161261361461561661761861961071171271371471571671771871971081181281381481581681781881981091191291391491591691791891991002102202302402502602702802902012112212312412512612712812912022122222322422522622722822922032132232332432532632732832932042142242342442542642742842942052152252352452552652752852952062162262362462562662762862962072172272372472572672772872972082182282382482582682782882982092192292392492592692792892992003103203303403503603703803903013113213313413513613713813913023123223323423523623723823923033133233333433533633733833933043143243343443543643743843943053153253353453553653753853953063163263363463563663763863963073173273373473573673773873973083183283383483583683783883983093193293393493593693793893993004104204304404504604704804904014114214314414514614714814914024124224324424524624724824924034134234334434534634734834934044144244344444544644744844944054154254354454554654754854954\n",
      "460\n",
      "526272829203132333435363738393041424344454647484940515253545556575859506162636465666768696071727374757677787970818283848586878889809192939495969798999001101201301401501601701801901011111211311411511611711811911021121221321421521621721821921031131231331431531631731831931041141241341441541641741841941051151251351451551651751851951061161261361461561661761861961071171271371471571671771871971081181281381481581681781881981091191291391491591691791891991002102202302402502602702802902012112212312412512612712812912022122222322422522622722822922032132232332432532632732832932042142242342442542642742842942052152252352452552652752852952062162262362462562662762862962072172272372472572672772872972082182282382482582682782882982092192292392492592692792892992003103203303403503603703803903013113213313413513613713813913023123223323423523623723823923033133233333433533633733833933043143243343443543643743843943053153253353453553653753853953063163263363463563663763863963073173273373473573673773873973083183283383483583683783883983093193293393493593693793893993004104204304404504604704804904014114214314414514614714814914024124224324424524624724824924034134234334434534634734834934044144244344444544644744844944054154254354454554654754854954064\n",
      "461\n",
      "526272829203132333435363738393041424344454647484940515253545556575859506162636465666768696071727374757677787970818283848586878889809192939495969798999001101201301401501601701801901011111211311411511611711811911021121221321421521621721821921031131231331431531631731831931041141241341441541641741841941051151251351451551651751851951061161261361461561661761861961071171271371471571671771871971081181281381481581681781881981091191291391491591691791891991002102202302402502602702802902012112212312412512612712812912022122222322422522622722822922032132232332432532632732832932042142242342442542642742842942052152252352452552652752852952062162262362462562662762862962072172272372472572672772872972082182282382482582682782882982092192292392492592692792892992003103203303403503603703803903013113213313413513613713813913023123223323423523623723823923033133233333433533633733833933043143243343443543643743843943053153253353453553653753853953063163263363463563663763863963073173273373473573673773873973083183283383483583683783883983093193293393493593693793893993004104204304404504604704804904014114214314414514614714814914024124224324424524624724824924034134234334434534634734834934044144244344444544644744844944054154254354454554654754854954064164\n",
      "462\n",
      "526272829203132333435363738393041424344454647484940515253545556575859506162636465666768696071727374757677787970818283848586878889809192939495969798999001101201301401501601701801901011111211311411511611711811911021121221321421521621721821921031131231331431531631731831931041141241341441541641741841941051151251351451551651751851951061161261361461561661761861961071171271371471571671771871971081181281381481581681781881981091191291391491591691791891991002102202302402502602702802902012112212312412512612712812912022122222322422522622722822922032132232332432532632732832932042142242342442542642742842942052152252352452552652752852952062162262362462562662762862962072172272372472572672772872972082182282382482582682782882982092192292392492592692792892992003103203303403503603703803903013113213313413513613713813913023123223323423523623723823923033133233333433533633733833933043143243343443543643743843943053153253353453553653753853953063163263363463563663763863963073173273373473573673773873973083183283383483583683783883983093193293393493593693793893993004104204304404504604704804904014114214314414514614714814914024124224324424524624724824924034134234334434534634734834934044144244344444544644744844944054154254354454554654754854954064164264\n",
      "463\n",
      "526272829203132333435363738393041424344454647484940515253545556575859506162636465666768696071727374757677787970818283848586878889809192939495969798999001101201301401501601701801901011111211311411511611711811911021121221321421521621721821921031131231331431531631731831931041141241341441541641741841941051151251351451551651751851951061161261361461561661761861961071171271371471571671771871971081181281381481581681781881981091191291391491591691791891991002102202302402502602702802902012112212312412512612712812912022122222322422522622722822922032132232332432532632732832932042142242342442542642742842942052152252352452552652752852952062162262362462562662762862962072172272372472572672772872972082182282382482582682782882982092192292392492592692792892992003103203303403503603703803903013113213313413513613713813913023123223323423523623723823923033133233333433533633733833933043143243343443543643743843943053153253353453553653753853953063163263363463563663763863963073173273373473573673773873973083183283383483583683783883983093193293393493593693793893993004104204304404504604704804904014114214314414514614714814914024124224324424524624724824924034134234334434534634734834934044144244344444544644744844944054154254354454554654754854954064164264364\n",
      "464\n",
      "526272829203132333435363738393041424344454647484940515253545556575859506162636465666768696071727374757677787970818283848586878889809192939495969798999001101201301401501601701801901011111211311411511611711811911021121221321421521621721821921031131231331431531631731831931041141241341441541641741841941051151251351451551651751851951061161261361461561661761861961071171271371471571671771871971081181281381481581681781881981091191291391491591691791891991002102202302402502602702802902012112212312412512612712812912022122222322422522622722822922032132232332432532632732832932042142242342442542642742842942052152252352452552652752852952062162262362462562662762862962072172272372472572672772872972082182282382482582682782882982092192292392492592692792892992003103203303403503603703803903013113213313413513613713813913023123223323423523623723823923033133233333433533633733833933043143243343443543643743843943053153253353453553653753853953063163263363463563663763863963073173273373473573673773873973083183283383483583683783883983093193293393493593693793893993004104204304404504604704804904014114214314414514614714814914024124224324424524624724824924034134234334434534634734834934044144244344444544644744844944054154254354454554654754854954064164264364464\n",
      "465\n",
      "526272829203132333435363738393041424344454647484940515253545556575859506162636465666768696071727374757677787970818283848586878889809192939495969798999001101201301401501601701801901011111211311411511611711811911021121221321421521621721821921031131231331431531631731831931041141241341441541641741841941051151251351451551651751851951061161261361461561661761861961071171271371471571671771871971081181281381481581681781881981091191291391491591691791891991002102202302402502602702802902012112212312412512612712812912022122222322422522622722822922032132232332432532632732832932042142242342442542642742842942052152252352452552652752852952062162262362462562662762862962072172272372472572672772872972082182282382482582682782882982092192292392492592692792892992003103203303403503603703803903013113213313413513613713813913023123223323423523623723823923033133233333433533633733833933043143243343443543643743843943053153253353453553653753853953063163263363463563663763863963073173273373473573673773873973083183283383483583683783883983093193293393493593693793893993004104204304404504604704804904014114214314414514614714814914024124224324424524624724824924034134234334434534634734834934044144244344444544644744844944054154254354454554654754854954064164264364464564\n",
      "466\n",
      "526272829203132333435363738393041424344454647484940515253545556575859506162636465666768696071727374757677787970818283848586878889809192939495969798999001101201301401501601701801901011111211311411511611711811911021121221321421521621721821921031131231331431531631731831931041141241341441541641741841941051151251351451551651751851951061161261361461561661761861961071171271371471571671771871971081181281381481581681781881981091191291391491591691791891991002102202302402502602702802902012112212312412512612712812912022122222322422522622722822922032132232332432532632732832932042142242342442542642742842942052152252352452552652752852952062162262362462562662762862962072172272372472572672772872972082182282382482582682782882982092192292392492592692792892992003103203303403503603703803903013113213313413513613713813913023123223323423523623723823923033133233333433533633733833933043143243343443543643743843943053153253353453553653753853953063163263363463563663763863963073173273373473573673773873973083183283383483583683783883983093193293393493593693793893993004104204304404504604704804904014114214314414514614714814914024124224324424524624724824924034134234334434534634734834934044144244344444544644744844944054154254354454554654754854954064164264364464564664\n",
      "467\n",
      "526272829203132333435363738393041424344454647484940515253545556575859506162636465666768696071727374757677787970818283848586878889809192939495969798999001101201301401501601701801901011111211311411511611711811911021121221321421521621721821921031131231331431531631731831931041141241341441541641741841941051151251351451551651751851951061161261361461561661761861961071171271371471571671771871971081181281381481581681781881981091191291391491591691791891991002102202302402502602702802902012112212312412512612712812912022122222322422522622722822922032132232332432532632732832932042142242342442542642742842942052152252352452552652752852952062162262362462562662762862962072172272372472572672772872972082182282382482582682782882982092192292392492592692792892992003103203303403503603703803903013113213313413513613713813913023123223323423523623723823923033133233333433533633733833933043143243343443543643743843943053153253353453553653753853953063163263363463563663763863963073173273373473573673773873973083183283383483583683783883983093193293393493593693793893993004104204304404504604704804904014114214314414514614714814914024124224324424524624724824924034134234334434534634734834934044144244344444544644744844944054154254354454554654754854954064164264364464564664764\n",
      "468\n",
      "526272829203132333435363738393041424344454647484940515253545556575859506162636465666768696071727374757677787970818283848586878889809192939495969798999001101201301401501601701801901011111211311411511611711811911021121221321421521621721821921031131231331431531631731831931041141241341441541641741841941051151251351451551651751851951061161261361461561661761861961071171271371471571671771871971081181281381481581681781881981091191291391491591691791891991002102202302402502602702802902012112212312412512612712812912022122222322422522622722822922032132232332432532632732832932042142242342442542642742842942052152252352452552652752852952062162262362462562662762862962072172272372472572672772872972082182282382482582682782882982092192292392492592692792892992003103203303403503603703803903013113213313413513613713813913023123223323423523623723823923033133233333433533633733833933043143243343443543643743843943053153253353453553653753853953063163263363463563663763863963073173273373473573673773873973083183283383483583683783883983093193293393493593693793893993004104204304404504604704804904014114214314414514614714814914024124224324424524624724824924034134234334434534634734834934044144244344444544644744844944054154254354454554654754854954064164264364464564664764864\n",
      "469\n",
      "526272829203132333435363738393041424344454647484940515253545556575859506162636465666768696071727374757677787970818283848586878889809192939495969798999001101201301401501601701801901011111211311411511611711811911021121221321421521621721821921031131231331431531631731831931041141241341441541641741841941051151251351451551651751851951061161261361461561661761861961071171271371471571671771871971081181281381481581681781881981091191291391491591691791891991002102202302402502602702802902012112212312412512612712812912022122222322422522622722822922032132232332432532632732832932042142242342442542642742842942052152252352452552652752852952062162262362462562662762862962072172272372472572672772872972082182282382482582682782882982092192292392492592692792892992003103203303403503603703803903013113213313413513613713813913023123223323423523623723823923033133233333433533633733833933043143243343443543643743843943053153253353453553653753853953063163263363463563663763863963073173273373473573673773873973083183283383483583683783883983093193293393493593693793893993004104204304404504604704804904014114214314414514614714814914024124224324424524624724824924034134234334434534634734834934044144244344444544644744844944054154254354454554654754854954064164264364464564664764864964\n",
      "470\n",
      "526272829203132333435363738393041424344454647484940515253545556575859506162636465666768696071727374757677787970818283848586878889809192939495969798999001101201301401501601701801901011111211311411511611711811911021121221321421521621721821921031131231331431531631731831931041141241341441541641741841941051151251351451551651751851951061161261361461561661761861961071171271371471571671771871971081181281381481581681781881981091191291391491591691791891991002102202302402502602702802902012112212312412512612712812912022122222322422522622722822922032132232332432532632732832932042142242342442542642742842942052152252352452552652752852952062162262362462562662762862962072172272372472572672772872972082182282382482582682782882982092192292392492592692792892992003103203303403503603703803903013113213313413513613713813913023123223323423523623723823923033133233333433533633733833933043143243343443543643743843943053153253353453553653753853953063163263363463563663763863963073173273373473573673773873973083183283383483583683783883983093193293393493593693793893993004104204304404504604704804904014114214314414514614714814914024124224324424524624724824924034134234334434534634734834934044144244344444544644744844944054154254354454554654754854954064164264364464564664764864964074\n",
      "471\n",
      "526272829203132333435363738393041424344454647484940515253545556575859506162636465666768696071727374757677787970818283848586878889809192939495969798999001101201301401501601701801901011111211311411511611711811911021121221321421521621721821921031131231331431531631731831931041141241341441541641741841941051151251351451551651751851951061161261361461561661761861961071171271371471571671771871971081181281381481581681781881981091191291391491591691791891991002102202302402502602702802902012112212312412512612712812912022122222322422522622722822922032132232332432532632732832932042142242342442542642742842942052152252352452552652752852952062162262362462562662762862962072172272372472572672772872972082182282382482582682782882982092192292392492592692792892992003103203303403503603703803903013113213313413513613713813913023123223323423523623723823923033133233333433533633733833933043143243343443543643743843943053153253353453553653753853953063163263363463563663763863963073173273373473573673773873973083183283383483583683783883983093193293393493593693793893993004104204304404504604704804904014114214314414514614714814914024124224324424524624724824924034134234334434534634734834934044144244344444544644744844944054154254354454554654754854954064164264364464564664764864964074174\n",
      "472\n",
      "526272829203132333435363738393041424344454647484940515253545556575859506162636465666768696071727374757677787970818283848586878889809192939495969798999001101201301401501601701801901011111211311411511611711811911021121221321421521621721821921031131231331431531631731831931041141241341441541641741841941051151251351451551651751851951061161261361461561661761861961071171271371471571671771871971081181281381481581681781881981091191291391491591691791891991002102202302402502602702802902012112212312412512612712812912022122222322422522622722822922032132232332432532632732832932042142242342442542642742842942052152252352452552652752852952062162262362462562662762862962072172272372472572672772872972082182282382482582682782882982092192292392492592692792892992003103203303403503603703803903013113213313413513613713813913023123223323423523623723823923033133233333433533633733833933043143243343443543643743843943053153253353453553653753853953063163263363463563663763863963073173273373473573673773873973083183283383483583683783883983093193293393493593693793893993004104204304404504604704804904014114214314414514614714814914024124224324424524624724824924034134234334434534634734834934044144244344444544644744844944054154254354454554654754854954064164264364464564664764864964074174274\n",
      "473\n",
      "526272829203132333435363738393041424344454647484940515253545556575859506162636465666768696071727374757677787970818283848586878889809192939495969798999001101201301401501601701801901011111211311411511611711811911021121221321421521621721821921031131231331431531631731831931041141241341441541641741841941051151251351451551651751851951061161261361461561661761861961071171271371471571671771871971081181281381481581681781881981091191291391491591691791891991002102202302402502602702802902012112212312412512612712812912022122222322422522622722822922032132232332432532632732832932042142242342442542642742842942052152252352452552652752852952062162262362462562662762862962072172272372472572672772872972082182282382482582682782882982092192292392492592692792892992003103203303403503603703803903013113213313413513613713813913023123223323423523623723823923033133233333433533633733833933043143243343443543643743843943053153253353453553653753853953063163263363463563663763863963073173273373473573673773873973083183283383483583683783883983093193293393493593693793893993004104204304404504604704804904014114214314414514614714814914024124224324424524624724824924034134234334434534634734834934044144244344444544644744844944054154254354454554654754854954064164264364464564664764864964074174274374\n",
      "474\n",
      "526272829203132333435363738393041424344454647484940515253545556575859506162636465666768696071727374757677787970818283848586878889809192939495969798999001101201301401501601701801901011111211311411511611711811911021121221321421521621721821921031131231331431531631731831931041141241341441541641741841941051151251351451551651751851951061161261361461561661761861961071171271371471571671771871971081181281381481581681781881981091191291391491591691791891991002102202302402502602702802902012112212312412512612712812912022122222322422522622722822922032132232332432532632732832932042142242342442542642742842942052152252352452552652752852952062162262362462562662762862962072172272372472572672772872972082182282382482582682782882982092192292392492592692792892992003103203303403503603703803903013113213313413513613713813913023123223323423523623723823923033133233333433533633733833933043143243343443543643743843943053153253353453553653753853953063163263363463563663763863963073173273373473573673773873973083183283383483583683783883983093193293393493593693793893993004104204304404504604704804904014114214314414514614714814914024124224324424524624724824924034134234334434534634734834934044144244344444544644744844944054154254354454554654754854954064164264364464564664764864964074174274374474\n",
      "475\n",
      "526272829203132333435363738393041424344454647484940515253545556575859506162636465666768696071727374757677787970818283848586878889809192939495969798999001101201301401501601701801901011111211311411511611711811911021121221321421521621721821921031131231331431531631731831931041141241341441541641741841941051151251351451551651751851951061161261361461561661761861961071171271371471571671771871971081181281381481581681781881981091191291391491591691791891991002102202302402502602702802902012112212312412512612712812912022122222322422522622722822922032132232332432532632732832932042142242342442542642742842942052152252352452552652752852952062162262362462562662762862962072172272372472572672772872972082182282382482582682782882982092192292392492592692792892992003103203303403503603703803903013113213313413513613713813913023123223323423523623723823923033133233333433533633733833933043143243343443543643743843943053153253353453553653753853953063163263363463563663763863963073173273373473573673773873973083183283383483583683783883983093193293393493593693793893993004104204304404504604704804904014114214314414514614714814914024124224324424524624724824924034134234334434534634734834934044144244344444544644744844944054154254354454554654754854954064164264364464564664764864964074174274374474574\n",
      "476\n",
      "526272829203132333435363738393041424344454647484940515253545556575859506162636465666768696071727374757677787970818283848586878889809192939495969798999001101201301401501601701801901011111211311411511611711811911021121221321421521621721821921031131231331431531631731831931041141241341441541641741841941051151251351451551651751851951061161261361461561661761861961071171271371471571671771871971081181281381481581681781881981091191291391491591691791891991002102202302402502602702802902012112212312412512612712812912022122222322422522622722822922032132232332432532632732832932042142242342442542642742842942052152252352452552652752852952062162262362462562662762862962072172272372472572672772872972082182282382482582682782882982092192292392492592692792892992003103203303403503603703803903013113213313413513613713813913023123223323423523623723823923033133233333433533633733833933043143243343443543643743843943053153253353453553653753853953063163263363463563663763863963073173273373473573673773873973083183283383483583683783883983093193293393493593693793893993004104204304404504604704804904014114214314414514614714814914024124224324424524624724824924034134234334434534634734834934044144244344444544644744844944054154254354454554654754854954064164264364464564664764864964074174274374474574674\n",
      "477\n",
      "526272829203132333435363738393041424344454647484940515253545556575859506162636465666768696071727374757677787970818283848586878889809192939495969798999001101201301401501601701801901011111211311411511611711811911021121221321421521621721821921031131231331431531631731831931041141241341441541641741841941051151251351451551651751851951061161261361461561661761861961071171271371471571671771871971081181281381481581681781881981091191291391491591691791891991002102202302402502602702802902012112212312412512612712812912022122222322422522622722822922032132232332432532632732832932042142242342442542642742842942052152252352452552652752852952062162262362462562662762862962072172272372472572672772872972082182282382482582682782882982092192292392492592692792892992003103203303403503603703803903013113213313413513613713813913023123223323423523623723823923033133233333433533633733833933043143243343443543643743843943053153253353453553653753853953063163263363463563663763863963073173273373473573673773873973083183283383483583683783883983093193293393493593693793893993004104204304404504604704804904014114214314414514614714814914024124224324424524624724824924034134234334434534634734834934044144244344444544644744844944054154254354454554654754854954064164264364464564664764864964074174274374474574674774\n",
      "478\n",
      "526272829203132333435363738393041424344454647484940515253545556575859506162636465666768696071727374757677787970818283848586878889809192939495969798999001101201301401501601701801901011111211311411511611711811911021121221321421521621721821921031131231331431531631731831931041141241341441541641741841941051151251351451551651751851951061161261361461561661761861961071171271371471571671771871971081181281381481581681781881981091191291391491591691791891991002102202302402502602702802902012112212312412512612712812912022122222322422522622722822922032132232332432532632732832932042142242342442542642742842942052152252352452552652752852952062162262362462562662762862962072172272372472572672772872972082182282382482582682782882982092192292392492592692792892992003103203303403503603703803903013113213313413513613713813913023123223323423523623723823923033133233333433533633733833933043143243343443543643743843943053153253353453553653753853953063163263363463563663763863963073173273373473573673773873973083183283383483583683783883983093193293393493593693793893993004104204304404504604704804904014114214314414514614714814914024124224324424524624724824924034134234334434534634734834934044144244344444544644744844944054154254354454554654754854954064164264364464564664764864964074174274374474574674774874\n",
      "479\n",
      "526272829203132333435363738393041424344454647484940515253545556575859506162636465666768696071727374757677787970818283848586878889809192939495969798999001101201301401501601701801901011111211311411511611711811911021121221321421521621721821921031131231331431531631731831931041141241341441541641741841941051151251351451551651751851951061161261361461561661761861961071171271371471571671771871971081181281381481581681781881981091191291391491591691791891991002102202302402502602702802902012112212312412512612712812912022122222322422522622722822922032132232332432532632732832932042142242342442542642742842942052152252352452552652752852952062162262362462562662762862962072172272372472572672772872972082182282382482582682782882982092192292392492592692792892992003103203303403503603703803903013113213313413513613713813913023123223323423523623723823923033133233333433533633733833933043143243343443543643743843943053153253353453553653753853953063163263363463563663763863963073173273373473573673773873973083183283383483583683783883983093193293393493593693793893993004104204304404504604704804904014114214314414514614714814914024124224324424524624724824924034134234334434534634734834934044144244344444544644744844944054154254354454554654754854954064164264364464564664764864964074174274374474574674774874974\n",
      "480\n",
      "526272829203132333435363738393041424344454647484940515253545556575859506162636465666768696071727374757677787970818283848586878889809192939495969798999001101201301401501601701801901011111211311411511611711811911021121221321421521621721821921031131231331431531631731831931041141241341441541641741841941051151251351451551651751851951061161261361461561661761861961071171271371471571671771871971081181281381481581681781881981091191291391491591691791891991002102202302402502602702802902012112212312412512612712812912022122222322422522622722822922032132232332432532632732832932042142242342442542642742842942052152252352452552652752852952062162262362462562662762862962072172272372472572672772872972082182282382482582682782882982092192292392492592692792892992003103203303403503603703803903013113213313413513613713813913023123223323423523623723823923033133233333433533633733833933043143243343443543643743843943053153253353453553653753853953063163263363463563663763863963073173273373473573673773873973083183283383483583683783883983093193293393493593693793893993004104204304404504604704804904014114214314414514614714814914024124224324424524624724824924034134234334434534634734834934044144244344444544644744844944054154254354454554654754854954064164264364464564664764864964074174274374474574674774874974084\n",
      "481\n",
      "526272829203132333435363738393041424344454647484940515253545556575859506162636465666768696071727374757677787970818283848586878889809192939495969798999001101201301401501601701801901011111211311411511611711811911021121221321421521621721821921031131231331431531631731831931041141241341441541641741841941051151251351451551651751851951061161261361461561661761861961071171271371471571671771871971081181281381481581681781881981091191291391491591691791891991002102202302402502602702802902012112212312412512612712812912022122222322422522622722822922032132232332432532632732832932042142242342442542642742842942052152252352452552652752852952062162262362462562662762862962072172272372472572672772872972082182282382482582682782882982092192292392492592692792892992003103203303403503603703803903013113213313413513613713813913023123223323423523623723823923033133233333433533633733833933043143243343443543643743843943053153253353453553653753853953063163263363463563663763863963073173273373473573673773873973083183283383483583683783883983093193293393493593693793893993004104204304404504604704804904014114214314414514614714814914024124224324424524624724824924034134234334434534634734834934044144244344444544644744844944054154254354454554654754854954064164264364464564664764864964074174274374474574674774874974084184\n",
      "482\n",
      "526272829203132333435363738393041424344454647484940515253545556575859506162636465666768696071727374757677787970818283848586878889809192939495969798999001101201301401501601701801901011111211311411511611711811911021121221321421521621721821921031131231331431531631731831931041141241341441541641741841941051151251351451551651751851951061161261361461561661761861961071171271371471571671771871971081181281381481581681781881981091191291391491591691791891991002102202302402502602702802902012112212312412512612712812912022122222322422522622722822922032132232332432532632732832932042142242342442542642742842942052152252352452552652752852952062162262362462562662762862962072172272372472572672772872972082182282382482582682782882982092192292392492592692792892992003103203303403503603703803903013113213313413513613713813913023123223323423523623723823923033133233333433533633733833933043143243343443543643743843943053153253353453553653753853953063163263363463563663763863963073173273373473573673773873973083183283383483583683783883983093193293393493593693793893993004104204304404504604704804904014114214314414514614714814914024124224324424524624724824924034134234334434534634734834934044144244344444544644744844944054154254354454554654754854954064164264364464564664764864964074174274374474574674774874974084184284\n",
      "483\n",
      "526272829203132333435363738393041424344454647484940515253545556575859506162636465666768696071727374757677787970818283848586878889809192939495969798999001101201301401501601701801901011111211311411511611711811911021121221321421521621721821921031131231331431531631731831931041141241341441541641741841941051151251351451551651751851951061161261361461561661761861961071171271371471571671771871971081181281381481581681781881981091191291391491591691791891991002102202302402502602702802902012112212312412512612712812912022122222322422522622722822922032132232332432532632732832932042142242342442542642742842942052152252352452552652752852952062162262362462562662762862962072172272372472572672772872972082182282382482582682782882982092192292392492592692792892992003103203303403503603703803903013113213313413513613713813913023123223323423523623723823923033133233333433533633733833933043143243343443543643743843943053153253353453553653753853953063163263363463563663763863963073173273373473573673773873973083183283383483583683783883983093193293393493593693793893993004104204304404504604704804904014114214314414514614714814914024124224324424524624724824924034134234334434534634734834934044144244344444544644744844944054154254354454554654754854954064164264364464564664764864964074174274374474574674774874974084184284384\n",
      "484\n",
      "526272829203132333435363738393041424344454647484940515253545556575859506162636465666768696071727374757677787970818283848586878889809192939495969798999001101201301401501601701801901011111211311411511611711811911021121221321421521621721821921031131231331431531631731831931041141241341441541641741841941051151251351451551651751851951061161261361461561661761861961071171271371471571671771871971081181281381481581681781881981091191291391491591691791891991002102202302402502602702802902012112212312412512612712812912022122222322422522622722822922032132232332432532632732832932042142242342442542642742842942052152252352452552652752852952062162262362462562662762862962072172272372472572672772872972082182282382482582682782882982092192292392492592692792892992003103203303403503603703803903013113213313413513613713813913023123223323423523623723823923033133233333433533633733833933043143243343443543643743843943053153253353453553653753853953063163263363463563663763863963073173273373473573673773873973083183283383483583683783883983093193293393493593693793893993004104204304404504604704804904014114214314414514614714814914024124224324424524624724824924034134234334434534634734834934044144244344444544644744844944054154254354454554654754854954064164264364464564664764864964074174274374474574674774874974084184284384484\n",
      "485\n",
      "526272829203132333435363738393041424344454647484940515253545556575859506162636465666768696071727374757677787970818283848586878889809192939495969798999001101201301401501601701801901011111211311411511611711811911021121221321421521621721821921031131231331431531631731831931041141241341441541641741841941051151251351451551651751851951061161261361461561661761861961071171271371471571671771871971081181281381481581681781881981091191291391491591691791891991002102202302402502602702802902012112212312412512612712812912022122222322422522622722822922032132232332432532632732832932042142242342442542642742842942052152252352452552652752852952062162262362462562662762862962072172272372472572672772872972082182282382482582682782882982092192292392492592692792892992003103203303403503603703803903013113213313413513613713813913023123223323423523623723823923033133233333433533633733833933043143243343443543643743843943053153253353453553653753853953063163263363463563663763863963073173273373473573673773873973083183283383483583683783883983093193293393493593693793893993004104204304404504604704804904014114214314414514614714814914024124224324424524624724824924034134234334434534634734834934044144244344444544644744844944054154254354454554654754854954064164264364464564664764864964074174274374474574674774874974084184284384484584\n",
      "486\n",
      "526272829203132333435363738393041424344454647484940515253545556575859506162636465666768696071727374757677787970818283848586878889809192939495969798999001101201301401501601701801901011111211311411511611711811911021121221321421521621721821921031131231331431531631731831931041141241341441541641741841941051151251351451551651751851951061161261361461561661761861961071171271371471571671771871971081181281381481581681781881981091191291391491591691791891991002102202302402502602702802902012112212312412512612712812912022122222322422522622722822922032132232332432532632732832932042142242342442542642742842942052152252352452552652752852952062162262362462562662762862962072172272372472572672772872972082182282382482582682782882982092192292392492592692792892992003103203303403503603703803903013113213313413513613713813913023123223323423523623723823923033133233333433533633733833933043143243343443543643743843943053153253353453553653753853953063163263363463563663763863963073173273373473573673773873973083183283383483583683783883983093193293393493593693793893993004104204304404504604704804904014114214314414514614714814914024124224324424524624724824924034134234334434534634734834934044144244344444544644744844944054154254354454554654754854954064164264364464564664764864964074174274374474574674774874974084184284384484584684\n",
      "487\n",
      "526272829203132333435363738393041424344454647484940515253545556575859506162636465666768696071727374757677787970818283848586878889809192939495969798999001101201301401501601701801901011111211311411511611711811911021121221321421521621721821921031131231331431531631731831931041141241341441541641741841941051151251351451551651751851951061161261361461561661761861961071171271371471571671771871971081181281381481581681781881981091191291391491591691791891991002102202302402502602702802902012112212312412512612712812912022122222322422522622722822922032132232332432532632732832932042142242342442542642742842942052152252352452552652752852952062162262362462562662762862962072172272372472572672772872972082182282382482582682782882982092192292392492592692792892992003103203303403503603703803903013113213313413513613713813913023123223323423523623723823923033133233333433533633733833933043143243343443543643743843943053153253353453553653753853953063163263363463563663763863963073173273373473573673773873973083183283383483583683783883983093193293393493593693793893993004104204304404504604704804904014114214314414514614714814914024124224324424524624724824924034134234334434534634734834934044144244344444544644744844944054154254354454554654754854954064164264364464564664764864964074174274374474574674774874974084184284384484584684784\n",
      "488\n",
      "526272829203132333435363738393041424344454647484940515253545556575859506162636465666768696071727374757677787970818283848586878889809192939495969798999001101201301401501601701801901011111211311411511611711811911021121221321421521621721821921031131231331431531631731831931041141241341441541641741841941051151251351451551651751851951061161261361461561661761861961071171271371471571671771871971081181281381481581681781881981091191291391491591691791891991002102202302402502602702802902012112212312412512612712812912022122222322422522622722822922032132232332432532632732832932042142242342442542642742842942052152252352452552652752852952062162262362462562662762862962072172272372472572672772872972082182282382482582682782882982092192292392492592692792892992003103203303403503603703803903013113213313413513613713813913023123223323423523623723823923033133233333433533633733833933043143243343443543643743843943053153253353453553653753853953063163263363463563663763863963073173273373473573673773873973083183283383483583683783883983093193293393493593693793893993004104204304404504604704804904014114214314414514614714814914024124224324424524624724824924034134234334434534634734834934044144244344444544644744844944054154254354454554654754854954064164264364464564664764864964074174274374474574674774874974084184284384484584684784884\n",
      "489\n",
      "526272829203132333435363738393041424344454647484940515253545556575859506162636465666768696071727374757677787970818283848586878889809192939495969798999001101201301401501601701801901011111211311411511611711811911021121221321421521621721821921031131231331431531631731831931041141241341441541641741841941051151251351451551651751851951061161261361461561661761861961071171271371471571671771871971081181281381481581681781881981091191291391491591691791891991002102202302402502602702802902012112212312412512612712812912022122222322422522622722822922032132232332432532632732832932042142242342442542642742842942052152252352452552652752852952062162262362462562662762862962072172272372472572672772872972082182282382482582682782882982092192292392492592692792892992003103203303403503603703803903013113213313413513613713813913023123223323423523623723823923033133233333433533633733833933043143243343443543643743843943053153253353453553653753853953063163263363463563663763863963073173273373473573673773873973083183283383483583683783883983093193293393493593693793893993004104204304404504604704804904014114214314414514614714814914024124224324424524624724824924034134234334434534634734834934044144244344444544644744844944054154254354454554654754854954064164264364464564664764864964074174274374474574674774874974084184284384484584684784884984\n",
      "490\n",
      "526272829203132333435363738393041424344454647484940515253545556575859506162636465666768696071727374757677787970818283848586878889809192939495969798999001101201301401501601701801901011111211311411511611711811911021121221321421521621721821921031131231331431531631731831931041141241341441541641741841941051151251351451551651751851951061161261361461561661761861961071171271371471571671771871971081181281381481581681781881981091191291391491591691791891991002102202302402502602702802902012112212312412512612712812912022122222322422522622722822922032132232332432532632732832932042142242342442542642742842942052152252352452552652752852952062162262362462562662762862962072172272372472572672772872972082182282382482582682782882982092192292392492592692792892992003103203303403503603703803903013113213313413513613713813913023123223323423523623723823923033133233333433533633733833933043143243343443543643743843943053153253353453553653753853953063163263363463563663763863963073173273373473573673773873973083183283383483583683783883983093193293393493593693793893993004104204304404504604704804904014114214314414514614714814914024124224324424524624724824924034134234334434534634734834934044144244344444544644744844944054154254354454554654754854954064164264364464564664764864964074174274374474574674774874974084184284384484584684784884984094\n",
      "491\n",
      "526272829203132333435363738393041424344454647484940515253545556575859506162636465666768696071727374757677787970818283848586878889809192939495969798999001101201301401501601701801901011111211311411511611711811911021121221321421521621721821921031131231331431531631731831931041141241341441541641741841941051151251351451551651751851951061161261361461561661761861961071171271371471571671771871971081181281381481581681781881981091191291391491591691791891991002102202302402502602702802902012112212312412512612712812912022122222322422522622722822922032132232332432532632732832932042142242342442542642742842942052152252352452552652752852952062162262362462562662762862962072172272372472572672772872972082182282382482582682782882982092192292392492592692792892992003103203303403503603703803903013113213313413513613713813913023123223323423523623723823923033133233333433533633733833933043143243343443543643743843943053153253353453553653753853953063163263363463563663763863963073173273373473573673773873973083183283383483583683783883983093193293393493593693793893993004104204304404504604704804904014114214314414514614714814914024124224324424524624724824924034134234334434534634734834934044144244344444544644744844944054154254354454554654754854954064164264364464564664764864964074174274374474574674774874974084184284384484584684784884984094194\n",
      "492\n",
      "526272829203132333435363738393041424344454647484940515253545556575859506162636465666768696071727374757677787970818283848586878889809192939495969798999001101201301401501601701801901011111211311411511611711811911021121221321421521621721821921031131231331431531631731831931041141241341441541641741841941051151251351451551651751851951061161261361461561661761861961071171271371471571671771871971081181281381481581681781881981091191291391491591691791891991002102202302402502602702802902012112212312412512612712812912022122222322422522622722822922032132232332432532632732832932042142242342442542642742842942052152252352452552652752852952062162262362462562662762862962072172272372472572672772872972082182282382482582682782882982092192292392492592692792892992003103203303403503603703803903013113213313413513613713813913023123223323423523623723823923033133233333433533633733833933043143243343443543643743843943053153253353453553653753853953063163263363463563663763863963073173273373473573673773873973083183283383483583683783883983093193293393493593693793893993004104204304404504604704804904014114214314414514614714814914024124224324424524624724824924034134234334434534634734834934044144244344444544644744844944054154254354454554654754854954064164264364464564664764864964074174274374474574674774874974084184284384484584684784884984094194294\n",
      "493\n",
      "526272829203132333435363738393041424344454647484940515253545556575859506162636465666768696071727374757677787970818283848586878889809192939495969798999001101201301401501601701801901011111211311411511611711811911021121221321421521621721821921031131231331431531631731831931041141241341441541641741841941051151251351451551651751851951061161261361461561661761861961071171271371471571671771871971081181281381481581681781881981091191291391491591691791891991002102202302402502602702802902012112212312412512612712812912022122222322422522622722822922032132232332432532632732832932042142242342442542642742842942052152252352452552652752852952062162262362462562662762862962072172272372472572672772872972082182282382482582682782882982092192292392492592692792892992003103203303403503603703803903013113213313413513613713813913023123223323423523623723823923033133233333433533633733833933043143243343443543643743843943053153253353453553653753853953063163263363463563663763863963073173273373473573673773873973083183283383483583683783883983093193293393493593693793893993004104204304404504604704804904014114214314414514614714814914024124224324424524624724824924034134234334434534634734834934044144244344444544644744844944054154254354454554654754854954064164264364464564664764864964074174274374474574674774874974084184284384484584684784884984094194294394\n",
      "494\n",
      "526272829203132333435363738393041424344454647484940515253545556575859506162636465666768696071727374757677787970818283848586878889809192939495969798999001101201301401501601701801901011111211311411511611711811911021121221321421521621721821921031131231331431531631731831931041141241341441541641741841941051151251351451551651751851951061161261361461561661761861961071171271371471571671771871971081181281381481581681781881981091191291391491591691791891991002102202302402502602702802902012112212312412512612712812912022122222322422522622722822922032132232332432532632732832932042142242342442542642742842942052152252352452552652752852952062162262362462562662762862962072172272372472572672772872972082182282382482582682782882982092192292392492592692792892992003103203303403503603703803903013113213313413513613713813913023123223323423523623723823923033133233333433533633733833933043143243343443543643743843943053153253353453553653753853953063163263363463563663763863963073173273373473573673773873973083183283383483583683783883983093193293393493593693793893993004104204304404504604704804904014114214314414514614714814914024124224324424524624724824924034134234334434534634734834934044144244344444544644744844944054154254354454554654754854954064164264364464564664764864964074174274374474574674774874974084184284384484584684784884984094194294394494\n",
      "495\n",
      "526272829203132333435363738393041424344454647484940515253545556575859506162636465666768696071727374757677787970818283848586878889809192939495969798999001101201301401501601701801901011111211311411511611711811911021121221321421521621721821921031131231331431531631731831931041141241341441541641741841941051151251351451551651751851951061161261361461561661761861961071171271371471571671771871971081181281381481581681781881981091191291391491591691791891991002102202302402502602702802902012112212312412512612712812912022122222322422522622722822922032132232332432532632732832932042142242342442542642742842942052152252352452552652752852952062162262362462562662762862962072172272372472572672772872972082182282382482582682782882982092192292392492592692792892992003103203303403503603703803903013113213313413513613713813913023123223323423523623723823923033133233333433533633733833933043143243343443543643743843943053153253353453553653753853953063163263363463563663763863963073173273373473573673773873973083183283383483583683783883983093193293393493593693793893993004104204304404504604704804904014114214314414514614714814914024124224324424524624724824924034134234334434534634734834934044144244344444544644744844944054154254354454554654754854954064164264364464564664764864964074174274374474574674774874974084184284384484584684784884984094194294394494594\n",
      "496\n",
      "526272829203132333435363738393041424344454647484940515253545556575859506162636465666768696071727374757677787970818283848586878889809192939495969798999001101201301401501601701801901011111211311411511611711811911021121221321421521621721821921031131231331431531631731831931041141241341441541641741841941051151251351451551651751851951061161261361461561661761861961071171271371471571671771871971081181281381481581681781881981091191291391491591691791891991002102202302402502602702802902012112212312412512612712812912022122222322422522622722822922032132232332432532632732832932042142242342442542642742842942052152252352452552652752852952062162262362462562662762862962072172272372472572672772872972082182282382482582682782882982092192292392492592692792892992003103203303403503603703803903013113213313413513613713813913023123223323423523623723823923033133233333433533633733833933043143243343443543643743843943053153253353453553653753853953063163263363463563663763863963073173273373473573673773873973083183283383483583683783883983093193293393493593693793893993004104204304404504604704804904014114214314414514614714814914024124224324424524624724824924034134234334434534634734834934044144244344444544644744844944054154254354454554654754854954064164264364464564664764864964074174274374474574674774874974084184284384484584684784884984094194294394494594694\n",
      "497\n",
      "526272829203132333435363738393041424344454647484940515253545556575859506162636465666768696071727374757677787970818283848586878889809192939495969798999001101201301401501601701801901011111211311411511611711811911021121221321421521621721821921031131231331431531631731831931041141241341441541641741841941051151251351451551651751851951061161261361461561661761861961071171271371471571671771871971081181281381481581681781881981091191291391491591691791891991002102202302402502602702802902012112212312412512612712812912022122222322422522622722822922032132232332432532632732832932042142242342442542642742842942052152252352452552652752852952062162262362462562662762862962072172272372472572672772872972082182282382482582682782882982092192292392492592692792892992003103203303403503603703803903013113213313413513613713813913023123223323423523623723823923033133233333433533633733833933043143243343443543643743843943053153253353453553653753853953063163263363463563663763863963073173273373473573673773873973083183283383483583683783883983093193293393493593693793893993004104204304404504604704804904014114214314414514614714814914024124224324424524624724824924034134234334434534634734834934044144244344444544644744844944054154254354454554654754854954064164264364464564664764864964074174274374474574674774874974084184284384484584684784884984094194294394494594694794\n",
      "498\n",
      "526272829203132333435363738393041424344454647484940515253545556575859506162636465666768696071727374757677787970818283848586878889809192939495969798999001101201301401501601701801901011111211311411511611711811911021121221321421521621721821921031131231331431531631731831931041141241341441541641741841941051151251351451551651751851951061161261361461561661761861961071171271371471571671771871971081181281381481581681781881981091191291391491591691791891991002102202302402502602702802902012112212312412512612712812912022122222322422522622722822922032132232332432532632732832932042142242342442542642742842942052152252352452552652752852952062162262362462562662762862962072172272372472572672772872972082182282382482582682782882982092192292392492592692792892992003103203303403503603703803903013113213313413513613713813913023123223323423523623723823923033133233333433533633733833933043143243343443543643743843943053153253353453553653753853953063163263363463563663763863963073173273373473573673773873973083183283383483583683783883983093193293393493593693793893993004104204304404504604704804904014114214314414514614714814914024124224324424524624724824924034134234334434534634734834934044144244344444544644744844944054154254354454554654754854954064164264364464564664764864964074174274374474574674774874974084184284384484584684784884984094194294394494594694794894\n",
      "499\n",
      "526272829203132333435363738393041424344454647484940515253545556575859506162636465666768696071727374757677787970818283848586878889809192939495969798999001101201301401501601701801901011111211311411511611711811911021121221321421521621721821921031131231331431531631731831931041141241341441541641741841941051151251351451551651751851951061161261361461561661761861961071171271371471571671771871971081181281381481581681781881981091191291391491591691791891991002102202302402502602702802902012112212312412512612712812912022122222322422522622722822922032132232332432532632732832932042142242342442542642742842942052152252352452552652752852952062162262362462562662762862962072172272372472572672772872972082182282382482582682782882982092192292392492592692792892992003103203303403503603703803903013113213313413513613713813913023123223323423523623723823923033133233333433533633733833933043143243343443543643743843943053153253353453553653753853953063163263363463563663763863963073173273373473573673773873973083183283383483583683783883983093193293393493593693793893993004104204304404504604704804904014114214314414514614714814914024124224324424524624724824924034134234334434534634734834934044144244344444544644744844944054154254354454554654754854954064164264364464564664764864964074174274374474574674774874974084184284384484584684784884984094194294394494594694794894994\n",
      "500\n",
      "526272829203132333435363738393041424344454647484940515253545556575859506162636465666768696071727374757677787970818283848586878889809192939495969798999001101201301401501601701801901011111211311411511611711811911021121221321421521621721821921031131231331431531631731831931041141241341441541641741841941051151251351451551651751851951061161261361461561661761861961071171271371471571671771871971081181281381481581681781881981091191291391491591691791891991002102202302402502602702802902012112212312412512612712812912022122222322422522622722822922032132232332432532632732832932042142242342442542642742842942052152252352452552652752852952062162262362462562662762862962072172272372472572672772872972082182282382482582682782882982092192292392492592692792892992003103203303403503603703803903013113213313413513613713813913023123223323423523623723823923033133233333433533633733833933043143243343443543643743843943053153253353453553653753853953063163263363463563663763863963073173273373473573673773873973083183283383483583683783883983093193293393493593693793893993004104204304404504604704804904014114214314414514614714814914024124224324424524624724824924034134234334434534634734834934044144244344444544644744844944054154254354454554654754854954064164264364464564664764864964074174274374474574674774874974084184284384484584684784884984094194294394494594694794894994005\n"
     ]
    }
   ],
   "source": [
    "#palindrame in function\n",
    "def Palindrame(s,e):\n",
    "    rev=0\n",
    "    for i in range(s,e+1):\n",
    "        print(i)\n",
    "        temp=i\n",
    "        while temp>0:\n",
    "            remainder=temp%10\n",
    "            rev=rev*10+remainder\n",
    "            temp=temp//10\n",
    "        print(rev)\n",
    "        if i==rev:\n",
    "            return i\n",
    "Palindrame(25,500)\n",
    "    \n",
    "\n"
   ]
  },
  {
   "cell_type": "code",
   "execution_count": 28,
   "metadata": {},
   "outputs": [
    {
     "name": "stdout",
     "output_type": "stream",
     "text": [
      "b'hello'\n",
      "hello\n"
     ]
    }
   ],
   "source": [
    "s=\"hello\"\n",
    "r=s.encode()\n",
    "print(r)\n",
    "s=r.decode()\n",
    "print(s)"
   ]
  },
  {
   "cell_type": "code",
   "execution_count": 12,
   "metadata": {},
   "outputs": [
    {
     "name": "stdout",
     "output_type": "stream",
     "text": [
      "bhu1236\n",
      "12\n"
     ]
    }
   ],
   "source": [
    "#s=\"scd1235\"\n",
    "#output 26\n",
    "# x=sai 123 ram 456 using split()\n",
    "# 579\n",
    "s=input()\n",
    "d=0\n",
    "for i in s:\n",
    "    if i.isdigit()==True:\n",
    "        d=d+int(i)\n",
    "print(d)\n",
    "        \n",
    "    "
   ]
  },
  {
   "cell_type": "code",
   "execution_count": 27,
   "metadata": {},
   "outputs": [
    {
     "name": "stdout",
     "output_type": "stream",
     "text": [
      "mko 123 mo 123\n",
      "['1', '2', '3']\n",
      "['1', '2', '3']\n",
      "[1, 2, 3]\n"
     ]
    }
   ],
   "source": [
    "s=input()\n",
    "a=s.split()\n",
    "z=0\n",
    "l=[]\n",
    "print(list(a[1]))\n",
    "print(list(a[3]))\n",
    "for i in list(a[1]):\n",
    "    l.append(int(i))\n",
    "print(l)\n",
    "    "
   ]
  },
  {
   "cell_type": "markdown",
   "metadata": {},
   "source": [
    " b=a[1]\n",
    "c=b.split()\n",
    "print(c)\n",
    "for j in a[3]:\n",
    "    d=a[3]\n",
    "e=d.split()\n",
    "print(e)\n",
    "for i in "
   ]
  }
 ],
 "metadata": {
  "kernelspec": {
   "display_name": "Python 3",
   "language": "python",
   "name": "python3"
  },
  "language_info": {
   "codemirror_mode": {
    "name": "ipython",
    "version": 3
   },
   "file_extension": ".py",
   "mimetype": "text/x-python",
   "name": "python",
   "nbconvert_exporter": "python",
   "pygments_lexer": "ipython3",
   "version": "3.8.5"
  }
 },
 "nbformat": 4,
 "nbformat_minor": 4
}
